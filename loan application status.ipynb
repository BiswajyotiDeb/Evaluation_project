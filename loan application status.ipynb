{
 "cells": [
  {
   "cell_type": "markdown",
   "id": "0c77727f",
   "metadata": {},
   "source": [
    "# Data Frame Description"
   ]
  },
  {
   "cell_type": "markdown",
   "id": "2d23425a",
   "metadata": {},
   "source": [
    "Loan Application Status Prediction\n",
    "Problem Statement:\n",
    "This dataset includes details of applicants who have applied for loan. The dataset includes details like credit history, loan amount, their income, dependents etc. \n",
    "\n",
    "Independent Variables:\n",
    "\n",
    "- Loan_ID\n",
    "\n",
    "- Gender\n",
    "\n",
    "- Married\n",
    "\n",
    "- Dependents\n",
    "\n",
    "- Education\n",
    "\n",
    "- Self_Employed\n",
    "\n",
    "- ApplicantIncome\n",
    "\n",
    "- CoapplicantIncome\n",
    "\n",
    "- Loan_Amount\n",
    "\n",
    "- Loan_Amount_Term\n",
    "\n",
    "- Credit History\n",
    "\n",
    "- Property_Area\n",
    "\n",
    "Dependent Variable (Target Variable):\n",
    "\n",
    "- Loan_Status"
   ]
  },
  {
   "cell_type": "markdown",
   "id": "f6d8ab0f",
   "metadata": {},
   "source": [
    "# Importing modules"
   ]
  },
  {
   "cell_type": "code",
   "execution_count": 1,
   "id": "9fa911fc",
   "metadata": {},
   "outputs": [],
   "source": [
    "import pandas as pd\n",
    "import numpy as np\n",
    "import matplotlib.pyplot as plt\n",
    "import warnings\n",
    "warnings.filterwarnings(\"ignore\")\n",
    "import seaborn as sns"
   ]
  },
  {
   "cell_type": "markdown",
   "id": "55b6cf03",
   "metadata": {},
   "source": [
    "# Loading the dataset"
   ]
  },
  {
   "cell_type": "code",
   "execution_count": 2,
   "id": "7aff96fd",
   "metadata": {},
   "outputs": [
    {
     "data": {
      "text/html": [
       "<div>\n",
       "<style scoped>\n",
       "    .dataframe tbody tr th:only-of-type {\n",
       "        vertical-align: middle;\n",
       "    }\n",
       "\n",
       "    .dataframe tbody tr th {\n",
       "        vertical-align: top;\n",
       "    }\n",
       "\n",
       "    .dataframe thead th {\n",
       "        text-align: right;\n",
       "    }\n",
       "</style>\n",
       "<table border=\"1\" class=\"dataframe\">\n",
       "  <thead>\n",
       "    <tr style=\"text-align: right;\">\n",
       "      <th></th>\n",
       "      <th>Loan_ID</th>\n",
       "      <th>Gender</th>\n",
       "      <th>Married</th>\n",
       "      <th>Dependents</th>\n",
       "      <th>Education</th>\n",
       "      <th>Self_Employed</th>\n",
       "      <th>ApplicantIncome</th>\n",
       "      <th>CoapplicantIncome</th>\n",
       "      <th>LoanAmount</th>\n",
       "      <th>Loan_Amount_Term</th>\n",
       "      <th>Credit_History</th>\n",
       "      <th>Property_Area</th>\n",
       "      <th>Loan_Status</th>\n",
       "    </tr>\n",
       "  </thead>\n",
       "  <tbody>\n",
       "    <tr>\n",
       "      <th>0</th>\n",
       "      <td>LP001002</td>\n",
       "      <td>Male</td>\n",
       "      <td>No</td>\n",
       "      <td>0</td>\n",
       "      <td>Graduate</td>\n",
       "      <td>No</td>\n",
       "      <td>5849</td>\n",
       "      <td>0.0</td>\n",
       "      <td>NaN</td>\n",
       "      <td>360.0</td>\n",
       "      <td>1.0</td>\n",
       "      <td>Urban</td>\n",
       "      <td>Y</td>\n",
       "    </tr>\n",
       "    <tr>\n",
       "      <th>1</th>\n",
       "      <td>LP001003</td>\n",
       "      <td>Male</td>\n",
       "      <td>Yes</td>\n",
       "      <td>1</td>\n",
       "      <td>Graduate</td>\n",
       "      <td>No</td>\n",
       "      <td>4583</td>\n",
       "      <td>1508.0</td>\n",
       "      <td>128.0</td>\n",
       "      <td>360.0</td>\n",
       "      <td>1.0</td>\n",
       "      <td>Rural</td>\n",
       "      <td>N</td>\n",
       "    </tr>\n",
       "    <tr>\n",
       "      <th>2</th>\n",
       "      <td>LP001005</td>\n",
       "      <td>Male</td>\n",
       "      <td>Yes</td>\n",
       "      <td>0</td>\n",
       "      <td>Graduate</td>\n",
       "      <td>Yes</td>\n",
       "      <td>3000</td>\n",
       "      <td>0.0</td>\n",
       "      <td>66.0</td>\n",
       "      <td>360.0</td>\n",
       "      <td>1.0</td>\n",
       "      <td>Urban</td>\n",
       "      <td>Y</td>\n",
       "    </tr>\n",
       "    <tr>\n",
       "      <th>3</th>\n",
       "      <td>LP001006</td>\n",
       "      <td>Male</td>\n",
       "      <td>Yes</td>\n",
       "      <td>0</td>\n",
       "      <td>Not Graduate</td>\n",
       "      <td>No</td>\n",
       "      <td>2583</td>\n",
       "      <td>2358.0</td>\n",
       "      <td>120.0</td>\n",
       "      <td>360.0</td>\n",
       "      <td>1.0</td>\n",
       "      <td>Urban</td>\n",
       "      <td>Y</td>\n",
       "    </tr>\n",
       "    <tr>\n",
       "      <th>4</th>\n",
       "      <td>LP001008</td>\n",
       "      <td>Male</td>\n",
       "      <td>No</td>\n",
       "      <td>0</td>\n",
       "      <td>Graduate</td>\n",
       "      <td>No</td>\n",
       "      <td>6000</td>\n",
       "      <td>0.0</td>\n",
       "      <td>141.0</td>\n",
       "      <td>360.0</td>\n",
       "      <td>1.0</td>\n",
       "      <td>Urban</td>\n",
       "      <td>Y</td>\n",
       "    </tr>\n",
       "  </tbody>\n",
       "</table>\n",
       "</div>"
      ],
      "text/plain": [
       "    Loan_ID Gender Married Dependents     Education Self_Employed  \\\n",
       "0  LP001002   Male      No          0      Graduate            No   \n",
       "1  LP001003   Male     Yes          1      Graduate            No   \n",
       "2  LP001005   Male     Yes          0      Graduate           Yes   \n",
       "3  LP001006   Male     Yes          0  Not Graduate            No   \n",
       "4  LP001008   Male      No          0      Graduate            No   \n",
       "\n",
       "   ApplicantIncome  CoapplicantIncome  LoanAmount  Loan_Amount_Term  \\\n",
       "0             5849                0.0         NaN             360.0   \n",
       "1             4583             1508.0       128.0             360.0   \n",
       "2             3000                0.0        66.0             360.0   \n",
       "3             2583             2358.0       120.0             360.0   \n",
       "4             6000                0.0       141.0             360.0   \n",
       "\n",
       "   Credit_History Property_Area Loan_Status  \n",
       "0             1.0         Urban           Y  \n",
       "1             1.0         Rural           N  \n",
       "2             1.0         Urban           Y  \n",
       "3             1.0         Urban           Y  \n",
       "4             1.0         Urban           Y  "
      ]
     },
     "execution_count": 2,
     "metadata": {},
     "output_type": "execute_result"
    }
   ],
   "source": [
    "df=pd.read_csv(r'https://raw.githubusercontent.com/dsrscientist/DSData/master/loan_prediction.csv')\n",
    "df.head()"
   ]
  },
  {
   "cell_type": "code",
   "execution_count": 3,
   "id": "9d1f6e2b",
   "metadata": {},
   "outputs": [
    {
     "data": {
      "text/plain": [
       "(614, 13)"
      ]
     },
     "execution_count": 3,
     "metadata": {},
     "output_type": "execute_result"
    }
   ],
   "source": [
    "df.shape"
   ]
  },
  {
   "cell_type": "markdown",
   "id": "f3127878",
   "metadata": {},
   "source": [
    "The dataset contains 614 rows and 13 columns"
   ]
  },
  {
   "cell_type": "code",
   "execution_count": 4,
   "id": "493be75a",
   "metadata": {},
   "outputs": [
    {
     "data": {
      "text/plain": [
       "Index(['Loan_ID', 'Gender', 'Married', 'Dependents', 'Education',\n",
       "       'Self_Employed', 'ApplicantIncome', 'CoapplicantIncome', 'LoanAmount',\n",
       "       'Loan_Amount_Term', 'Credit_History', 'Property_Area', 'Loan_Status'],\n",
       "      dtype='object')"
      ]
     },
     "execution_count": 4,
     "metadata": {},
     "output_type": "execute_result"
    }
   ],
   "source": [
    "df.columns"
   ]
  },
  {
   "cell_type": "code",
   "execution_count": 5,
   "id": "0337a081",
   "metadata": {},
   "outputs": [],
   "source": [
    "#dropping loanid column as it donot help in prediction of target\n",
    "df.drop(['Loan_ID'],axis=1,inplace=True)"
   ]
  },
  {
   "cell_type": "code",
   "execution_count": 6,
   "id": "28eaba15",
   "metadata": {
    "scrolled": true
   },
   "outputs": [
    {
     "data": {
      "text/plain": [
       "Gender                object\n",
       "Married               object\n",
       "Dependents            object\n",
       "Education             object\n",
       "Self_Employed         object\n",
       "ApplicantIncome        int64\n",
       "CoapplicantIncome    float64\n",
       "LoanAmount           float64\n",
       "Loan_Amount_Term     float64\n",
       "Credit_History       float64\n",
       "Property_Area         object\n",
       "Loan_Status           object\n",
       "dtype: object"
      ]
     },
     "execution_count": 6,
     "metadata": {},
     "output_type": "execute_result"
    }
   ],
   "source": [
    "df.dtypes"
   ]
  },
  {
   "cell_type": "markdown",
   "id": "697184eb",
   "metadata": {},
   "source": [
    "Numerical Data:\n",
    "    \n",
    "1.ApplicantIncome       \n",
    "2.CoapplicantIncome    \n",
    "3.LoanAmount           \n",
    "4.Loan_Amount_Term     \n",
    "5.Credit_History  \n",
    "\n",
    "Categorical Data:\n",
    "    \n",
    "1.Gender                \n",
    "2.Married              \n",
    "3.Dependents            \n",
    "4.Education            \n",
    "5.Self_Employed \n",
    "6.Property_Area \n",
    "7.Loan_Status           "
   ]
  },
  {
   "cell_type": "markdown",
   "id": "668cd950",
   "metadata": {},
   "source": [
    "# Checking null values in the dataframe"
   ]
  },
  {
   "cell_type": "code",
   "execution_count": 7,
   "id": "9ef55c9b",
   "metadata": {},
   "outputs": [
    {
     "data": {
      "text/plain": [
       "Gender               13\n",
       "Married               3\n",
       "Dependents           15\n",
       "Education             0\n",
       "Self_Employed        32\n",
       "ApplicantIncome       0\n",
       "CoapplicantIncome     0\n",
       "LoanAmount           22\n",
       "Loan_Amount_Term     14\n",
       "Credit_History       50\n",
       "Property_Area         0\n",
       "Loan_Status           0\n",
       "dtype: int64"
      ]
     },
     "execution_count": 7,
     "metadata": {},
     "output_type": "execute_result"
    }
   ],
   "source": [
    "df.isnull().sum()"
   ]
  },
  {
   "cell_type": "code",
   "execution_count": 8,
   "id": "c6fa4a85",
   "metadata": {},
   "outputs": [
    {
     "data": {
      "text/plain": [
       "<AxesSubplot:>"
      ]
     },
     "execution_count": 8,
     "metadata": {},
     "output_type": "execute_result"
    },
    {
     "data": {
      "image/png": "[encoded data removed]",
      "text/plain": [
       "<Figure size 432x288 with 2 Axes>"
      ]
     },
     "metadata": {
      "needs_background": "light"
     },
     "output_type": "display_data"
    }
   ],
   "source": [
    "#data visualisation\n",
    "sns.heatmap(df.isnull(),cmap='Blues')"
   ]
  },
  {
   "cell_type": "code",
   "execution_count": 9,
   "id": "75717e1e",
   "metadata": {},
   "outputs": [
    {
     "name": "stdout",
     "output_type": "stream",
     "text": [
      "% data missing in Gender is: 2.1172638436482085\n",
      "% data missing in Married is: 0.4885993485342019\n",
      "% data missing in Dependents is: 2.44299674267101\n",
      "% data missing in Education is: 0.0\n",
      "% data missing in Self_Employed is: 5.211726384364821\n",
      "% data missing in ApplicantIncome is: 0.0\n",
      "% data missing in CoapplicantIncome is: 0.0\n",
      "% data missing in LoanAmount is: 3.5830618892508146\n",
      "% data missing in Loan_Amount_Term is: 2.2801302931596092\n",
      "% data missing in Credit_History is: 8.143322475570033\n",
      "% data missing in Property_Area is: 0.0\n",
      "% data missing in Loan_Status is: 0.0\n"
     ]
    }
   ],
   "source": [
    "#%age data missing\n",
    "for i in df.columns:\n",
    "    print('% data missing in',i,'is:',(df[i].isnull().sum()/df.shape[0])*100)"
   ]
  },
  {
   "cell_type": "markdown",
   "id": "5abf92eb",
   "metadata": {},
   "source": [
    "# Exploratory Data Analysis:"
   ]
  },
  {
   "cell_type": "markdown",
   "id": "f7b7990b",
   "metadata": {},
   "source": [
    "# Univariate Analysis(Numerical Data):"
   ]
  },
  {
   "cell_type": "code",
   "execution_count": 10,
   "id": "ac2ae519",
   "metadata": {},
   "outputs": [
    {
     "data": {
      "image/png": "[encoded data removed]",
      "text/plain": [
       "<Figure size 432x288 with 1 Axes>"
      ]
     },
     "metadata": {
      "needs_background": "light"
     },
     "output_type": "display_data"
    },
    {
     "data": {
      "image/png": "[encoded data removed]",
      "text/plain": [
       "<Figure size 432x288 with 1 Axes>"
      ]
     },
     "metadata": {
      "needs_background": "light"
     },
     "output_type": "display_data"
    },
    {
     "data": {
      "image/png": "[encoded data removed]",
      "text/plain": [
       "<Figure size 432x288 with 1 Axes>"
      ]
     },
     "metadata": {
      "needs_background": "light"
     },
     "output_type": "display_data"
    },
    {
     "data": {
      "image/png": "[encoded data removed]",
      "text/plain": [
       "<Figure size 432x288 with 1 Axes>"
      ]
     },
     "metadata": {
      "needs_background": "light"
     },
     "output_type": "display_data"
    },
    {
     "data": {
      "image/png": "[encoded data removed]",
      "text/plain": [
       "<Figure size 432x288 with 1 Axes>"
      ]
     },
     "metadata": {
      "needs_background": "light"
     },
     "output_type": "display_data"
    }
   ],
   "source": [
    "for i in df.columns:\n",
    "    if (df[i].dtypes=='float')|(df[i].dtypes=='int64'):\n",
    "        sns.boxplot(x=i,data=df)\n",
    "        plt.show()                               "
   ]
  },
  {
   "cell_type": "markdown",
   "id": "89f35c90",
   "metadata": {},
   "source": [
    "Observation:\n",
    "    \n",
    "1.Maximum income of applicant is around 80000 and average income around 5000.\n",
    "\n",
    "2.Maximum income of applicant is around 80000 and average income around 2000.\n",
    "\n",
    "3.Maximum Loan amount is around 700 and average amount around 120.\n",
    "\n",
    "4.Loan amount term is a discrete quantity and varies from 0 to 500."
   ]
  },
  {
   "cell_type": "markdown",
   "id": "c1b10f2f",
   "metadata": {},
   "source": [
    "# Univariate Analysis(Categorical Data):"
   ]
  },
  {
   "cell_type": "code",
   "execution_count": 11,
   "id": "0019c05f",
   "metadata": {
    "scrolled": false
   },
   "outputs": [
    {
     "data": {
      "image/png": "[encoded data removed]",
      "text/plain": [
       "<Figure size 432x288 with 1 Axes>"
      ]
     },
     "metadata": {
      "needs_background": "light"
     },
     "output_type": "display_data"
    },
    {
     "data": {
      "image/png": "[encoded data removed]",
      "text/plain": [
       "<Figure size 432x288 with 1 Axes>"
      ]
     },
     "metadata": {
      "needs_background": "light"
     },
     "output_type": "display_data"
    },
    {
     "data": {
      "image/png": "[encoded data removed]",
      "text/plain": [
       "<Figure size 432x288 with 1 Axes>"
      ]
     },
     "metadata": {
      "needs_background": "light"
     },
     "output_type": "display_data"
    },
    {
     "data": {
      "image/png": "[encoded data removed]",
      "text/plain": [
       "<Figure size 432x288 with 1 Axes>"
      ]
     },
     "metadata": {
      "needs_background": "light"
     },
     "output_type": "display_data"
    },
    {
     "data": {
      "image/png": "[encoded data removed]",
      "text/plain": [
       "<Figure size 432x288 with 1 Axes>"
      ]
     },
     "metadata": {
      "needs_background": "light"
     },
     "output_type": "display_data"
    },
    {
     "data": {
      "image/png": "[encoded data removed]",
      "text/plain": [
       "<Figure size 432x288 with 1 Axes>"
      ]
     },
     "metadata": {
      "needs_background": "light"
     },
     "output_type": "display_data"
    },
    {
     "data": {
      "image/png": "[encoded data removed]",
      "text/plain": [
       "<Figure size 432x288 with 1 Axes>"
      ]
     },
     "metadata": {
      "needs_background": "light"
     },
     "output_type": "display_data"
    }
   ],
   "source": [
    "for i in df.columns:\n",
    "    if (df[i].dtypes=='object'):\n",
    "        sns.countplot(x=i,data=df)\n",
    "        plt.show()                               "
   ]
  },
  {
   "cell_type": "markdown",
   "id": "45ceee77",
   "metadata": {},
   "source": [
    "Observation:\n",
    "    \n",
    "1.Most of the applicants are male.\n",
    "\n",
    "2.Most of the applicants are married.\n",
    "\n",
    "3.Most of the applicants dont have any dependents.\n",
    "\n",
    "4.Most of the applicants are graduate.\n",
    "\n",
    "5.There are very few applicants who are self employed.\n",
    "\n",
    "6.Most of the applicants belons to semi urban area followed by urban.\n",
    "\n",
    "7.The dataset contains maximum candidated with approved loan status"
   ]
  },
  {
   "cell_type": "markdown",
   "id": "95c6ff29",
   "metadata": {},
   "source": [
    "# Bivariate Analysis:"
   ]
  },
  {
   "cell_type": "code",
   "execution_count": 12,
   "id": "3c1c8c76",
   "metadata": {},
   "outputs": [
    {
     "name": "stdout",
     "output_type": "stream",
     "text": [
      "Loan_Status     N     Y\n",
      "Gender                 \n",
      "Female       33.0  67.0\n",
      "Male         30.7  69.3\n",
      "\n",
      "\n",
      "\n",
      "\n",
      "Loan_Status     N     Y\n",
      "Married                \n",
      "No           37.1  62.9\n",
      "Yes          28.4  71.6\n",
      "\n",
      "\n",
      "\n",
      "\n",
      "Loan_Status     N     Y\n",
      "Dependents             \n",
      "0            31.0  69.0\n",
      "1            35.3  64.7\n",
      "2            24.8  75.2\n",
      "3+           35.3  64.7\n",
      "\n",
      "\n",
      "\n",
      "\n",
      "Loan_Status      N     Y\n",
      "Education               \n",
      "Graduate      29.2  70.8\n",
      "Not Graduate  38.8  61.2\n",
      "\n",
      "\n",
      "\n",
      "\n",
      "Loan_Status       N     Y\n",
      "Self_Employed            \n",
      "No             31.4  68.6\n",
      "Yes            31.7  68.3\n",
      "\n",
      "\n",
      "\n",
      "\n",
      "Loan_Status       N     Y\n",
      "Property_Area            \n",
      "Rural          38.5  61.5\n",
      "Semiurban      23.2  76.8\n",
      "Urban          34.2  65.8\n",
      "\n",
      "\n",
      "\n",
      "\n"
     ]
    }
   ],
   "source": [
    "cat=['Gender','Married','Dependents','Education','Self_Employed','Property_Area']\n",
    "for i in cat:\n",
    "    print(pd.crosstab(df[i],df['Loan_Status']).apply(lambda x:round(x/x.sum()*100,1),axis=1))\n",
    "    print('\\n')\n",
    "    print('\\n')"
   ]
  },
  {
   "cell_type": "markdown",
   "id": "8514637f",
   "metadata": {},
   "source": [
    "# Converting Target data to Numerical Data for better EDA"
   ]
  },
  {
   "cell_type": "code",
   "execution_count": 13,
   "id": "f87fe026",
   "metadata": {},
   "outputs": [],
   "source": [
    "df['Loan_Status']=df['Loan_Status'].replace('Y',1)\n",
    "df['Loan_Status']=df['Loan_Status'].replace('N',0)"
   ]
  },
  {
   "cell_type": "code",
   "execution_count": 14,
   "id": "4e4e45e0",
   "metadata": {},
   "outputs": [
    {
     "data": {
      "image/png": "[encoded data removed]",
      "text/plain": [
       "<Figure size 432x288 with 1 Axes>"
      ]
     },
     "metadata": {
      "needs_background": "light"
     },
     "output_type": "display_data"
    },
    {
     "data": {
      "image/png": "[encoded data removed]",
      "text/plain": [
       "<Figure size 432x288 with 1 Axes>"
      ]
     },
     "metadata": {
      "needs_background": "light"
     },
     "output_type": "display_data"
    },
    {
     "data": {
      "image/png": "[encoded data removed]",
      "text/plain": [
       "<Figure size 432x288 with 1 Axes>"
      ]
     },
     "metadata": {
      "needs_background": "light"
     },
     "output_type": "display_data"
    },
    {
     "data": {
      "image/png": "[encoded data removed]",
      "text/plain": [
       "<Figure size 432x288 with 1 Axes>"
      ]
     },
     "metadata": {
      "needs_background": "light"
     },
     "output_type": "display_data"
    },
    {
     "data": {
      "image/png": "[encoded data removed]",
      "text/plain": [
       "<Figure size 432x288 with 1 Axes>"
      ]
     },
     "metadata": {
      "needs_background": "light"
     },
     "output_type": "display_data"
    },
    {
     "data": {
      "image/png": "[encoded data removed]",
      "text/plain": [
       "<Figure size 432x288 with 1 Axes>"
      ]
     },
     "metadata": {
      "needs_background": "light"
     },
     "output_type": "display_data"
    }
   ],
   "source": [
    "cat=['Gender','Married','Dependents','Education','Self_Employed','Property_Area']\n",
    "num=['Loan_Status']\n",
    "for i in cat:\n",
    "    for j in num:\n",
    "        sns.barplot(x=i,y=j,data=df)\n",
    "        plt.show()"
   ]
  },
  {
   "cell_type": "markdown",
   "id": "fa6bc451",
   "metadata": {},
   "source": [
    "Observation:\n",
    "    \n",
    "1.Male and female have same possibilty of loan approval.\n",
    "\n",
    "2.Married applicants have slightly higher possibilty of loan approval.\n",
    "\n",
    "3.Self employed people have same possibily of loan approval than those who are not.\n",
    "\n",
    "4.Applicants with 2 dependents have higher possibilty of loan approval.\n",
    "\n",
    "5.Applicants who are graduate have higher possibilty of loan approval.\n",
    "\n",
    "6.Applicants who are staying in semiurban area have higher possibilty of loan approval.\n"
   ]
  },
  {
   "cell_type": "code",
   "execution_count": 15,
   "id": "d9489d04",
   "metadata": {},
   "outputs": [
    {
     "data": {
      "image/png": "[encoded data removed]",
      "text/plain": [
       "<Figure size 432x288 with 1 Axes>"
      ]
     },
     "metadata": {
      "needs_background": "light"
     },
     "output_type": "display_data"
    },
    {
     "data": {
      "image/png": "[encoded data removed]",
      "text/plain": [
       "<Figure size 432x288 with 1 Axes>"
      ]
     },
     "metadata": {
      "needs_background": "light"
     },
     "output_type": "display_data"
    },
    {
     "data": {
      "image/png": "[encoded data removed]",
      "text/plain": [
       "<Figure size 432x288 with 1 Axes>"
      ]
     },
     "metadata": {
      "needs_background": "light"
     },
     "output_type": "display_data"
    },
    {
     "data": {
      "image/png": "[encoded data removed]",
      "text/plain": [
       "<Figure size 432x288 with 1 Axes>"
      ]
     },
     "metadata": {
      "needs_background": "light"
     },
     "output_type": "display_data"
    },
    {
     "data": {
      "image/png": "[encoded data removed]",
      "text/plain": [
       "<Figure size 432x288 with 1 Axes>"
      ]
     },
     "metadata": {
      "needs_background": "light"
     },
     "output_type": "display_data"
    },
    {
     "data": {
      "image/png": "[encoded data removed]",
      "text/plain": [
       "<Figure size 432x288 with 1 Axes>"
      ]
     },
     "metadata": {
      "needs_background": "light"
     },
     "output_type": "display_data"
    }
   ],
   "source": [
    "for i in df.columns:\n",
    "    if (df[i].dtypes=='float')|(df[i].dtypes=='int64'):\n",
    "        sns.lineplot(x=i,y='Loan_Status',data=df)\n",
    "        plt.show()"
   ]
  },
  {
   "cell_type": "markdown",
   "id": "e9c2d7b6",
   "metadata": {},
   "source": [
    "Observation:\n",
    "    \n",
    "1. With increase in loan amount term the possibility of loan approval decreases.\n",
    "\n",
    "2. Applicants with higher credit score have high chances of loan approval."
   ]
  },
  {
   "cell_type": "markdown",
   "id": "67d65c1f",
   "metadata": {},
   "source": [
    "# Data Set Description"
   ]
  },
  {
   "cell_type": "code",
   "execution_count": 16,
   "id": "03586072",
   "metadata": {},
   "outputs": [
    {
     "data": {
      "text/html": [
       "<div>\n",
       "<style scoped>\n",
       "    .dataframe tbody tr th:only-of-type {\n",
       "        vertical-align: middle;\n",
       "    }\n",
       "\n",
       "    .dataframe tbody tr th {\n",
       "        vertical-align: top;\n",
       "    }\n",
       "\n",
       "    .dataframe thead th {\n",
       "        text-align: right;\n",
       "    }\n",
       "</style>\n",
       "<table border=\"1\" class=\"dataframe\">\n",
       "  <thead>\n",
       "    <tr style=\"text-align: right;\">\n",
       "      <th></th>\n",
       "      <th>ApplicantIncome</th>\n",
       "      <th>CoapplicantIncome</th>\n",
       "      <th>LoanAmount</th>\n",
       "      <th>Loan_Amount_Term</th>\n",
       "      <th>Credit_History</th>\n",
       "      <th>Loan_Status</th>\n",
       "    </tr>\n",
       "  </thead>\n",
       "  <tbody>\n",
       "    <tr>\n",
       "      <th>count</th>\n",
       "      <td>614.000000</td>\n",
       "      <td>614.000000</td>\n",
       "      <td>592.000000</td>\n",
       "      <td>600.00000</td>\n",
       "      <td>564.000000</td>\n",
       "      <td>614.000000</td>\n",
       "    </tr>\n",
       "    <tr>\n",
       "      <th>mean</th>\n",
       "      <td>5403.459283</td>\n",
       "      <td>1621.245798</td>\n",
       "      <td>146.412162</td>\n",
       "      <td>342.00000</td>\n",
       "      <td>0.842199</td>\n",
       "      <td>0.687296</td>\n",
       "    </tr>\n",
       "    <tr>\n",
       "      <th>std</th>\n",
       "      <td>6109.041673</td>\n",
       "      <td>2926.248369</td>\n",
       "      <td>85.587325</td>\n",
       "      <td>65.12041</td>\n",
       "      <td>0.364878</td>\n",
       "      <td>0.463973</td>\n",
       "    </tr>\n",
       "    <tr>\n",
       "      <th>min</th>\n",
       "      <td>150.000000</td>\n",
       "      <td>0.000000</td>\n",
       "      <td>9.000000</td>\n",
       "      <td>12.00000</td>\n",
       "      <td>0.000000</td>\n",
       "      <td>0.000000</td>\n",
       "    </tr>\n",
       "    <tr>\n",
       "      <th>25%</th>\n",
       "      <td>2877.500000</td>\n",
       "      <td>0.000000</td>\n",
       "      <td>100.000000</td>\n",
       "      <td>360.00000</td>\n",
       "      <td>1.000000</td>\n",
       "      <td>0.000000</td>\n",
       "    </tr>\n",
       "    <tr>\n",
       "      <th>50%</th>\n",
       "      <td>3812.500000</td>\n",
       "      <td>1188.500000</td>\n",
       "      <td>128.000000</td>\n",
       "      <td>360.00000</td>\n",
       "      <td>1.000000</td>\n",
       "      <td>1.000000</td>\n",
       "    </tr>\n",
       "    <tr>\n",
       "      <th>75%</th>\n",
       "      <td>5795.000000</td>\n",
       "      <td>2297.250000</td>\n",
       "      <td>168.000000</td>\n",
       "      <td>360.00000</td>\n",
       "      <td>1.000000</td>\n",
       "      <td>1.000000</td>\n",
       "    </tr>\n",
       "    <tr>\n",
       "      <th>max</th>\n",
       "      <td>81000.000000</td>\n",
       "      <td>41667.000000</td>\n",
       "      <td>700.000000</td>\n",
       "      <td>480.00000</td>\n",
       "      <td>1.000000</td>\n",
       "      <td>1.000000</td>\n",
       "    </tr>\n",
       "  </tbody>\n",
       "</table>\n",
       "</div>"
      ],
      "text/plain": [
       "       ApplicantIncome  CoapplicantIncome  LoanAmount  Loan_Amount_Term  \\\n",
       "count       614.000000         614.000000  592.000000         600.00000   \n",
       "mean       5403.459283        1621.245798  146.412162         342.00000   \n",
       "std        6109.041673        2926.248369   85.587325          65.12041   \n",
       "min         150.000000           0.000000    9.000000          12.00000   \n",
       "25%        2877.500000           0.000000  100.000000         360.00000   \n",
       "50%        3812.500000        1188.500000  128.000000         360.00000   \n",
       "75%        5795.000000        2297.250000  168.000000         360.00000   \n",
       "max       81000.000000       41667.000000  700.000000         480.00000   \n",
       "\n",
       "       Credit_History  Loan_Status  \n",
       "count      564.000000   614.000000  \n",
       "mean         0.842199     0.687296  \n",
       "std          0.364878     0.463973  \n",
       "min          0.000000     0.000000  \n",
       "25%          1.000000     0.000000  \n",
       "50%          1.000000     1.000000  \n",
       "75%          1.000000     1.000000  \n",
       "max          1.000000     1.000000  "
      ]
     },
     "execution_count": 16,
     "metadata": {},
     "output_type": "execute_result"
    }
   ],
   "source": [
    "df.describe()"
   ]
  },
  {
   "cell_type": "code",
   "execution_count": 17,
   "id": "d98e69c9",
   "metadata": {
    "scrolled": true
   },
   "outputs": [
    {
     "data": {
      "image/png": "[encoded data removed]",
      "text/plain": [
       "<Figure size 1080x504 with 2 Axes>"
      ]
     },
     "metadata": {
      "needs_background": "light"
     },
     "output_type": "display_data"
    }
   ],
   "source": [
    "#visualisation\n",
    "plt.figure(figsize=(15,7))\n",
    "sns.heatmap(round(df.describe()[1:].transpose(),2),annot=True,linewidth=1,linecolor='yellow',fmt='.2f')\n",
    "plt.show()"
   ]
  },
  {
   "cell_type": "markdown",
   "id": "7054b263",
   "metadata": {},
   "source": [
    "Observation:\n",
    "    \n",
    "There is a huge difference between  the 75% percentile and max in \"ApplicantIncome\",\"CoapplicantIncome\",\"LoanAmount\" indicating heavy outliers might be present."
   ]
  },
  {
   "cell_type": "markdown",
   "id": "0909acf4",
   "metadata": {},
   "source": [
    "# Filling Missing Values:"
   ]
  },
  {
   "cell_type": "code",
   "execution_count": 18,
   "id": "4176f35b",
   "metadata": {},
   "outputs": [
    {
     "data": {
      "text/html": [
       "<div>\n",
       "<style scoped>\n",
       "    .dataframe tbody tr th:only-of-type {\n",
       "        vertical-align: middle;\n",
       "    }\n",
       "\n",
       "    .dataframe tbody tr th {\n",
       "        vertical-align: top;\n",
       "    }\n",
       "\n",
       "    .dataframe thead th {\n",
       "        text-align: right;\n",
       "    }\n",
       "</style>\n",
       "<table border=\"1\" class=\"dataframe\">\n",
       "  <thead>\n",
       "    <tr style=\"text-align: right;\">\n",
       "      <th></th>\n",
       "      <th>Gender</th>\n",
       "      <th>Married</th>\n",
       "      <th>Dependents</th>\n",
       "      <th>Education</th>\n",
       "      <th>Self_Employed</th>\n",
       "      <th>ApplicantIncome</th>\n",
       "      <th>CoapplicantIncome</th>\n",
       "      <th>LoanAmount</th>\n",
       "      <th>Loan_Amount_Term</th>\n",
       "      <th>Credit_History</th>\n",
       "      <th>Property_Area</th>\n",
       "      <th>Loan_Status</th>\n",
       "    </tr>\n",
       "  </thead>\n",
       "  <tbody>\n",
       "    <tr>\n",
       "      <th>0</th>\n",
       "      <td>Male</td>\n",
       "      <td>No</td>\n",
       "      <td>0</td>\n",
       "      <td>Graduate</td>\n",
       "      <td>No</td>\n",
       "      <td>5849</td>\n",
       "      <td>0.0</td>\n",
       "      <td>146.412162</td>\n",
       "      <td>360.0</td>\n",
       "      <td>1.0</td>\n",
       "      <td>Urban</td>\n",
       "      <td>1</td>\n",
       "    </tr>\n",
       "    <tr>\n",
       "      <th>1</th>\n",
       "      <td>Male</td>\n",
       "      <td>Yes</td>\n",
       "      <td>1</td>\n",
       "      <td>Graduate</td>\n",
       "      <td>No</td>\n",
       "      <td>4583</td>\n",
       "      <td>1508.0</td>\n",
       "      <td>128.000000</td>\n",
       "      <td>360.0</td>\n",
       "      <td>1.0</td>\n",
       "      <td>Rural</td>\n",
       "      <td>0</td>\n",
       "    </tr>\n",
       "    <tr>\n",
       "      <th>2</th>\n",
       "      <td>Male</td>\n",
       "      <td>Yes</td>\n",
       "      <td>0</td>\n",
       "      <td>Graduate</td>\n",
       "      <td>Yes</td>\n",
       "      <td>3000</td>\n",
       "      <td>0.0</td>\n",
       "      <td>66.000000</td>\n",
       "      <td>360.0</td>\n",
       "      <td>1.0</td>\n",
       "      <td>Urban</td>\n",
       "      <td>1</td>\n",
       "    </tr>\n",
       "    <tr>\n",
       "      <th>3</th>\n",
       "      <td>Male</td>\n",
       "      <td>Yes</td>\n",
       "      <td>0</td>\n",
       "      <td>Not Graduate</td>\n",
       "      <td>No</td>\n",
       "      <td>2583</td>\n",
       "      <td>2358.0</td>\n",
       "      <td>120.000000</td>\n",
       "      <td>360.0</td>\n",
       "      <td>1.0</td>\n",
       "      <td>Urban</td>\n",
       "      <td>1</td>\n",
       "    </tr>\n",
       "    <tr>\n",
       "      <th>4</th>\n",
       "      <td>Male</td>\n",
       "      <td>No</td>\n",
       "      <td>0</td>\n",
       "      <td>Graduate</td>\n",
       "      <td>No</td>\n",
       "      <td>6000</td>\n",
       "      <td>0.0</td>\n",
       "      <td>141.000000</td>\n",
       "      <td>360.0</td>\n",
       "      <td>1.0</td>\n",
       "      <td>Urban</td>\n",
       "      <td>1</td>\n",
       "    </tr>\n",
       "    <tr>\n",
       "      <th>...</th>\n",
       "      <td>...</td>\n",
       "      <td>...</td>\n",
       "      <td>...</td>\n",
       "      <td>...</td>\n",
       "      <td>...</td>\n",
       "      <td>...</td>\n",
       "      <td>...</td>\n",
       "      <td>...</td>\n",
       "      <td>...</td>\n",
       "      <td>...</td>\n",
       "      <td>...</td>\n",
       "      <td>...</td>\n",
       "    </tr>\n",
       "    <tr>\n",
       "      <th>609</th>\n",
       "      <td>Female</td>\n",
       "      <td>No</td>\n",
       "      <td>0</td>\n",
       "      <td>Graduate</td>\n",
       "      <td>No</td>\n",
       "      <td>2900</td>\n",
       "      <td>0.0</td>\n",
       "      <td>71.000000</td>\n",
       "      <td>360.0</td>\n",
       "      <td>1.0</td>\n",
       "      <td>Rural</td>\n",
       "      <td>1</td>\n",
       "    </tr>\n",
       "    <tr>\n",
       "      <th>610</th>\n",
       "      <td>Male</td>\n",
       "      <td>Yes</td>\n",
       "      <td>3+</td>\n",
       "      <td>Graduate</td>\n",
       "      <td>No</td>\n",
       "      <td>4106</td>\n",
       "      <td>0.0</td>\n",
       "      <td>40.000000</td>\n",
       "      <td>180.0</td>\n",
       "      <td>1.0</td>\n",
       "      <td>Rural</td>\n",
       "      <td>1</td>\n",
       "    </tr>\n",
       "    <tr>\n",
       "      <th>611</th>\n",
       "      <td>Male</td>\n",
       "      <td>Yes</td>\n",
       "      <td>1</td>\n",
       "      <td>Graduate</td>\n",
       "      <td>No</td>\n",
       "      <td>8072</td>\n",
       "      <td>240.0</td>\n",
       "      <td>253.000000</td>\n",
       "      <td>360.0</td>\n",
       "      <td>1.0</td>\n",
       "      <td>Urban</td>\n",
       "      <td>1</td>\n",
       "    </tr>\n",
       "    <tr>\n",
       "      <th>612</th>\n",
       "      <td>Male</td>\n",
       "      <td>Yes</td>\n",
       "      <td>2</td>\n",
       "      <td>Graduate</td>\n",
       "      <td>No</td>\n",
       "      <td>7583</td>\n",
       "      <td>0.0</td>\n",
       "      <td>187.000000</td>\n",
       "      <td>360.0</td>\n",
       "      <td>1.0</td>\n",
       "      <td>Urban</td>\n",
       "      <td>1</td>\n",
       "    </tr>\n",
       "    <tr>\n",
       "      <th>613</th>\n",
       "      <td>Female</td>\n",
       "      <td>No</td>\n",
       "      <td>0</td>\n",
       "      <td>Graduate</td>\n",
       "      <td>Yes</td>\n",
       "      <td>4583</td>\n",
       "      <td>0.0</td>\n",
       "      <td>133.000000</td>\n",
       "      <td>360.0</td>\n",
       "      <td>0.0</td>\n",
       "      <td>Semiurban</td>\n",
       "      <td>0</td>\n",
       "    </tr>\n",
       "  </tbody>\n",
       "</table>\n",
       "<p>614 rows × 12 columns</p>\n",
       "</div>"
      ],
      "text/plain": [
       "     Gender Married Dependents     Education Self_Employed  ApplicantIncome  \\\n",
       "0      Male      No          0      Graduate            No             5849   \n",
       "1      Male     Yes          1      Graduate            No             4583   \n",
       "2      Male     Yes          0      Graduate           Yes             3000   \n",
       "3      Male     Yes          0  Not Graduate            No             2583   \n",
       "4      Male      No          0      Graduate            No             6000   \n",
       "..      ...     ...        ...           ...           ...              ...   \n",
       "609  Female      No          0      Graduate            No             2900   \n",
       "610    Male     Yes         3+      Graduate            No             4106   \n",
       "611    Male     Yes          1      Graduate            No             8072   \n",
       "612    Male     Yes          2      Graduate            No             7583   \n",
       "613  Female      No          0      Graduate           Yes             4583   \n",
       "\n",
       "     CoapplicantIncome  LoanAmount  Loan_Amount_Term  Credit_History  \\\n",
       "0                  0.0  146.412162             360.0             1.0   \n",
       "1               1508.0  128.000000             360.0             1.0   \n",
       "2                  0.0   66.000000             360.0             1.0   \n",
       "3               2358.0  120.000000             360.0             1.0   \n",
       "4                  0.0  141.000000             360.0             1.0   \n",
       "..                 ...         ...               ...             ...   \n",
       "609                0.0   71.000000             360.0             1.0   \n",
       "610                0.0   40.000000             180.0             1.0   \n",
       "611              240.0  253.000000             360.0             1.0   \n",
       "612                0.0  187.000000             360.0             1.0   \n",
       "613                0.0  133.000000             360.0             0.0   \n",
       "\n",
       "    Property_Area  Loan_Status  \n",
       "0           Urban            1  \n",
       "1           Rural            0  \n",
       "2           Urban            1  \n",
       "3           Urban            1  \n",
       "4           Urban            1  \n",
       "..            ...          ...  \n",
       "609         Rural            1  \n",
       "610         Rural            1  \n",
       "611         Urban            1  \n",
       "612         Urban            1  \n",
       "613     Semiurban            0  \n",
       "\n",
       "[614 rows x 12 columns]"
      ]
     },
     "execution_count": 18,
     "metadata": {},
     "output_type": "execute_result"
    }
   ],
   "source": [
    "#filling missing numerical value\n",
    "for i in df.columns:\n",
    "    if (df[i].dtypes=='float')|(df[i].dtypes=='int64'):\n",
    "        df[i]=df[i].fillna(np.mean(df[i]))\n",
    "df"
   ]
  },
  {
   "cell_type": "code",
   "execution_count": 19,
   "id": "756867ae",
   "metadata": {},
   "outputs": [
    {
     "data": {
      "text/html": [
       "<div>\n",
       "<style scoped>\n",
       "    .dataframe tbody tr th:only-of-type {\n",
       "        vertical-align: middle;\n",
       "    }\n",
       "\n",
       "    .dataframe tbody tr th {\n",
       "        vertical-align: top;\n",
       "    }\n",
       "\n",
       "    .dataframe thead th {\n",
       "        text-align: right;\n",
       "    }\n",
       "</style>\n",
       "<table border=\"1\" class=\"dataframe\">\n",
       "  <thead>\n",
       "    <tr style=\"text-align: right;\">\n",
       "      <th></th>\n",
       "      <th>Gender</th>\n",
       "      <th>Married</th>\n",
       "      <th>Dependents</th>\n",
       "      <th>Education</th>\n",
       "      <th>Self_Employed</th>\n",
       "      <th>ApplicantIncome</th>\n",
       "      <th>CoapplicantIncome</th>\n",
       "      <th>LoanAmount</th>\n",
       "      <th>Loan_Amount_Term</th>\n",
       "      <th>Credit_History</th>\n",
       "      <th>Property_Area</th>\n",
       "      <th>Loan_Status</th>\n",
       "    </tr>\n",
       "  </thead>\n",
       "  <tbody>\n",
       "    <tr>\n",
       "      <th>0</th>\n",
       "      <td>Male</td>\n",
       "      <td>No</td>\n",
       "      <td>0</td>\n",
       "      <td>Graduate</td>\n",
       "      <td>No</td>\n",
       "      <td>5849</td>\n",
       "      <td>0.0</td>\n",
       "      <td>146.412162</td>\n",
       "      <td>360.0</td>\n",
       "      <td>1.0</td>\n",
       "      <td>Urban</td>\n",
       "      <td>1</td>\n",
       "    </tr>\n",
       "    <tr>\n",
       "      <th>1</th>\n",
       "      <td>Male</td>\n",
       "      <td>Yes</td>\n",
       "      <td>1</td>\n",
       "      <td>Graduate</td>\n",
       "      <td>No</td>\n",
       "      <td>4583</td>\n",
       "      <td>1508.0</td>\n",
       "      <td>128.000000</td>\n",
       "      <td>360.0</td>\n",
       "      <td>1.0</td>\n",
       "      <td>Rural</td>\n",
       "      <td>0</td>\n",
       "    </tr>\n",
       "    <tr>\n",
       "      <th>2</th>\n",
       "      <td>Male</td>\n",
       "      <td>Yes</td>\n",
       "      <td>0</td>\n",
       "      <td>Graduate</td>\n",
       "      <td>Yes</td>\n",
       "      <td>3000</td>\n",
       "      <td>0.0</td>\n",
       "      <td>66.000000</td>\n",
       "      <td>360.0</td>\n",
       "      <td>1.0</td>\n",
       "      <td>Urban</td>\n",
       "      <td>1</td>\n",
       "    </tr>\n",
       "    <tr>\n",
       "      <th>3</th>\n",
       "      <td>Male</td>\n",
       "      <td>Yes</td>\n",
       "      <td>0</td>\n",
       "      <td>Not Graduate</td>\n",
       "      <td>No</td>\n",
       "      <td>2583</td>\n",
       "      <td>2358.0</td>\n",
       "      <td>120.000000</td>\n",
       "      <td>360.0</td>\n",
       "      <td>1.0</td>\n",
       "      <td>Urban</td>\n",
       "      <td>1</td>\n",
       "    </tr>\n",
       "    <tr>\n",
       "      <th>4</th>\n",
       "      <td>Male</td>\n",
       "      <td>No</td>\n",
       "      <td>0</td>\n",
       "      <td>Graduate</td>\n",
       "      <td>No</td>\n",
       "      <td>6000</td>\n",
       "      <td>0.0</td>\n",
       "      <td>141.000000</td>\n",
       "      <td>360.0</td>\n",
       "      <td>1.0</td>\n",
       "      <td>Urban</td>\n",
       "      <td>1</td>\n",
       "    </tr>\n",
       "    <tr>\n",
       "      <th>...</th>\n",
       "      <td>...</td>\n",
       "      <td>...</td>\n",
       "      <td>...</td>\n",
       "      <td>...</td>\n",
       "      <td>...</td>\n",
       "      <td>...</td>\n",
       "      <td>...</td>\n",
       "      <td>...</td>\n",
       "      <td>...</td>\n",
       "      <td>...</td>\n",
       "      <td>...</td>\n",
       "      <td>...</td>\n",
       "    </tr>\n",
       "    <tr>\n",
       "      <th>609</th>\n",
       "      <td>Female</td>\n",
       "      <td>No</td>\n",
       "      <td>0</td>\n",
       "      <td>Graduate</td>\n",
       "      <td>No</td>\n",
       "      <td>2900</td>\n",
       "      <td>0.0</td>\n",
       "      <td>71.000000</td>\n",
       "      <td>360.0</td>\n",
       "      <td>1.0</td>\n",
       "      <td>Rural</td>\n",
       "      <td>1</td>\n",
       "    </tr>\n",
       "    <tr>\n",
       "      <th>610</th>\n",
       "      <td>Male</td>\n",
       "      <td>Yes</td>\n",
       "      <td>3+</td>\n",
       "      <td>Graduate</td>\n",
       "      <td>No</td>\n",
       "      <td>4106</td>\n",
       "      <td>0.0</td>\n",
       "      <td>40.000000</td>\n",
       "      <td>180.0</td>\n",
       "      <td>1.0</td>\n",
       "      <td>Rural</td>\n",
       "      <td>1</td>\n",
       "    </tr>\n",
       "    <tr>\n",
       "      <th>611</th>\n",
       "      <td>Male</td>\n",
       "      <td>Yes</td>\n",
       "      <td>1</td>\n",
       "      <td>Graduate</td>\n",
       "      <td>No</td>\n",
       "      <td>8072</td>\n",
       "      <td>240.0</td>\n",
       "      <td>253.000000</td>\n",
       "      <td>360.0</td>\n",
       "      <td>1.0</td>\n",
       "      <td>Urban</td>\n",
       "      <td>1</td>\n",
       "    </tr>\n",
       "    <tr>\n",
       "      <th>612</th>\n",
       "      <td>Male</td>\n",
       "      <td>Yes</td>\n",
       "      <td>2</td>\n",
       "      <td>Graduate</td>\n",
       "      <td>No</td>\n",
       "      <td>7583</td>\n",
       "      <td>0.0</td>\n",
       "      <td>187.000000</td>\n",
       "      <td>360.0</td>\n",
       "      <td>1.0</td>\n",
       "      <td>Urban</td>\n",
       "      <td>1</td>\n",
       "    </tr>\n",
       "    <tr>\n",
       "      <th>613</th>\n",
       "      <td>Female</td>\n",
       "      <td>No</td>\n",
       "      <td>0</td>\n",
       "      <td>Graduate</td>\n",
       "      <td>Yes</td>\n",
       "      <td>4583</td>\n",
       "      <td>0.0</td>\n",
       "      <td>133.000000</td>\n",
       "      <td>360.0</td>\n",
       "      <td>0.0</td>\n",
       "      <td>Semiurban</td>\n",
       "      <td>0</td>\n",
       "    </tr>\n",
       "  </tbody>\n",
       "</table>\n",
       "<p>614 rows × 12 columns</p>\n",
       "</div>"
      ],
      "text/plain": [
       "     Gender Married Dependents     Education Self_Employed  ApplicantIncome  \\\n",
       "0      Male      No          0      Graduate            No             5849   \n",
       "1      Male     Yes          1      Graduate            No             4583   \n",
       "2      Male     Yes          0      Graduate           Yes             3000   \n",
       "3      Male     Yes          0  Not Graduate            No             2583   \n",
       "4      Male      No          0      Graduate            No             6000   \n",
       "..      ...     ...        ...           ...           ...              ...   \n",
       "609  Female      No          0      Graduate            No             2900   \n",
       "610    Male     Yes         3+      Graduate            No             4106   \n",
       "611    Male     Yes          1      Graduate            No             8072   \n",
       "612    Male     Yes          2      Graduate            No             7583   \n",
       "613  Female      No          0      Graduate           Yes             4583   \n",
       "\n",
       "     CoapplicantIncome  LoanAmount  Loan_Amount_Term  Credit_History  \\\n",
       "0                  0.0  146.412162             360.0             1.0   \n",
       "1               1508.0  128.000000             360.0             1.0   \n",
       "2                  0.0   66.000000             360.0             1.0   \n",
       "3               2358.0  120.000000             360.0             1.0   \n",
       "4                  0.0  141.000000             360.0             1.0   \n",
       "..                 ...         ...               ...             ...   \n",
       "609                0.0   71.000000             360.0             1.0   \n",
       "610                0.0   40.000000             180.0             1.0   \n",
       "611              240.0  253.000000             360.0             1.0   \n",
       "612                0.0  187.000000             360.0             1.0   \n",
       "613                0.0  133.000000             360.0             0.0   \n",
       "\n",
       "    Property_Area  Loan_Status  \n",
       "0           Urban            1  \n",
       "1           Rural            0  \n",
       "2           Urban            1  \n",
       "3           Urban            1  \n",
       "4           Urban            1  \n",
       "..            ...          ...  \n",
       "609         Rural            1  \n",
       "610         Rural            1  \n",
       "611         Urban            1  \n",
       "612         Urban            1  \n",
       "613     Semiurban            0  \n",
       "\n",
       "[614 rows x 12 columns]"
      ]
     },
     "execution_count": 19,
     "metadata": {},
     "output_type": "execute_result"
    }
   ],
   "source": [
    "#filling missing categoical value\n",
    "for i in df.columns:\n",
    "    if (df[i].dtypes=='object'):\n",
    "        df[i] = df[i].fillna(df[i].mode()[0])\n",
    "df"
   ]
  },
  {
   "cell_type": "code",
   "execution_count": 20,
   "id": "1e0e2cbf",
   "metadata": {},
   "outputs": [],
   "source": [
    "#replace the value of 3+ in dependents with 4 \n",
    "df.loc[df[\"Dependents\"] == \"3+\", \"Dependents\"] = 4"
   ]
  },
  {
   "cell_type": "code",
   "execution_count": 21,
   "id": "553c281a",
   "metadata": {},
   "outputs": [],
   "source": [
    "df[\"Dependents\"]=df[\"Dependents\"].astype('int64')"
   ]
  },
  {
   "cell_type": "markdown",
   "id": "fb22a8c4",
   "metadata": {},
   "source": [
    "# Correlation"
   ]
  },
  {
   "cell_type": "code",
   "execution_count": 22,
   "id": "88583ba2",
   "metadata": {},
   "outputs": [
    {
     "data": {
      "text/plain": [
       "CoapplicantIncome   -0.059187\n",
       "LoanAmount          -0.036416\n",
       "Loan_Amount_Term    -0.020974\n",
       "ApplicantIncome     -0.004710\n",
       "Dependents           0.002474\n",
       "Credit_History       0.540483\n",
       "Loan_Status          1.000000\n",
       "Name: Loan_Status, dtype: float64"
      ]
     },
     "execution_count": 22,
     "metadata": {},
     "output_type": "execute_result"
    }
   ],
   "source": [
    "df.corr()['Loan_Status'].sort_values()"
   ]
  },
  {
   "cell_type": "code",
   "execution_count": 23,
   "id": "d8509b48",
   "metadata": {},
   "outputs": [
    {
     "data": {
      "text/plain": [
       "<AxesSubplot:>"
      ]
     },
     "execution_count": 23,
     "metadata": {},
     "output_type": "execute_result"
    },
    {
     "data": {
      "image/png": "[encoded data removed]",
      "text/plain": [
       "<Figure size 1584x504 with 2 Axes>"
      ]
     },
     "metadata": {
      "needs_background": "light"
     },
     "output_type": "display_data"
    }
   ],
   "source": [
    "plt.figure(figsize=(22,7))\n",
    "sns.heatmap(df.corr(),annot=True,fmt='0.2f',linecolor='yellow')"
   ]
  },
  {
   "cell_type": "markdown",
   "id": "f3c4b343",
   "metadata": {},
   "source": [
    "Observations:\n",
    "\n",
    "Loan_Status is highly correlated with credit history and least with Coapplicant Income"
   ]
  },
  {
   "cell_type": "markdown",
   "id": "0e0f19ed",
   "metadata": {},
   "source": [
    "# Checking Skewness"
   ]
  },
  {
   "cell_type": "code",
   "execution_count": 24,
   "id": "f7f78a43",
   "metadata": {},
   "outputs": [
    {
     "data": {
      "text/plain": [
       "Dependents           1.456965\n",
       "ApplicantIncome      6.539513\n",
       "CoapplicantIncome    7.491531\n",
       "LoanAmount           2.726601\n",
       "Loan_Amount_Term    -2.389680\n",
       "Credit_History      -1.963600\n",
       "Loan_Status         -0.809998\n",
       "dtype: float64"
      ]
     },
     "execution_count": 24,
     "metadata": {},
     "output_type": "execute_result"
    }
   ],
   "source": [
    "df.skew()"
   ]
  },
  {
   "cell_type": "code",
   "execution_count": 25,
   "id": "d31acff4",
   "metadata": {},
   "outputs": [
    {
     "data": {
      "image/png": "[encoded data removed]",
      "text/plain": [
       "<Figure size 432x288 with 1 Axes>"
      ]
     },
     "metadata": {
      "needs_background": "light"
     },
     "output_type": "display_data"
    },
    {
     "data": {
      "image/png": "[encoded data removed]",
      "text/plain": [
       "<Figure size 432x288 with 1 Axes>"
      ]
     },
     "metadata": {
      "needs_background": "light"
     },
     "output_type": "display_data"
    },
    {
     "data": {
      "image/png": "[encoded data removed]",
      "text/plain": [
       "<Figure size 432x288 with 1 Axes>"
      ]
     },
     "metadata": {
      "needs_background": "light"
     },
     "output_type": "display_data"
    },
    {
     "data": {
      "image/png": "[encoded data removed]",
      "text/plain": [
       "<Figure size 432x288 with 1 Axes>"
      ]
     },
     "metadata": {
      "needs_background": "light"
     },
     "output_type": "display_data"
    },
    {
     "data": {
      "image/png": "[encoded data removed]",
      "text/plain": [
       "<Figure size 432x288 with 1 Axes>"
      ]
     },
     "metadata": {
      "needs_background": "light"
     },
     "output_type": "display_data"
    },
    {
     "data": {
      "image/png": "[encoded data removed]",
      "text/plain": [
       "<Figure size 432x288 with 1 Axes>"
      ]
     },
     "metadata": {
      "needs_background": "light"
     },
     "output_type": "display_data"
    },
    {
     "data": {
      "image/png": "[encoded data removed]",
      "text/plain": [
       "<Figure size 432x288 with 1 Axes>"
      ]
     },
     "metadata": {
      "needs_background": "light"
     },
     "output_type": "display_data"
    }
   ],
   "source": [
    "for i in df.columns:\n",
    "    if (df[i].dtypes=='float')|(df[i].dtypes=='int64'):\n",
    "        sns.distplot(df[i])\n",
    "        plt.show()"
   ]
  },
  {
   "cell_type": "markdown",
   "id": "519ace09",
   "metadata": {},
   "source": [
    "Observation:\n",
    "    \n",
    "Left skewed:Loan_Amount_Term,Credit_History,Loan_Status  \n",
    "    \n",
    "Right skewed:Dependents,ApplicantIncome,CoapplicantIncome,LoanAmount           "
   ]
  },
  {
   "cell_type": "markdown",
   "id": "650f636e",
   "metadata": {},
   "source": [
    "# Outliers Checking:"
   ]
  },
  {
   "cell_type": "code",
   "execution_count": 26,
   "id": "4e5e30ca",
   "metadata": {},
   "outputs": [
    {
     "data": {
      "text/plain": [
       "Dependents              AxesSubplot(0.125,0.657941;0.168478x0.222059)\n",
       "ApplicantIncome      AxesSubplot(0.327174,0.657941;0.168478x0.222059)\n",
       "CoapplicantIncome    AxesSubplot(0.529348,0.657941;0.168478x0.222059)\n",
       "LoanAmount           AxesSubplot(0.731522,0.657941;0.168478x0.222059)\n",
       "Loan_Amount_Term        AxesSubplot(0.125,0.391471;0.168478x0.222059)\n",
       "Credit_History       AxesSubplot(0.327174,0.391471;0.168478x0.222059)\n",
       "Loan_Status          AxesSubplot(0.529348,0.391471;0.168478x0.222059)\n",
       "dtype: object"
      ]
     },
     "execution_count": 26,
     "metadata": {},
     "output_type": "execute_result"
    },
    {
     "data": {
      "image/png": "[encoded data removed]",
      "text/plain": [
       "<Figure size 720x720 with 12 Axes>"
      ]
     },
     "metadata": {
      "needs_background": "light"
     },
     "output_type": "display_data"
    }
   ],
   "source": [
    "df.plot(kind='box',subplots=True,layout=(3,4),figsize=(10,10))"
   ]
  },
  {
   "cell_type": "markdown",
   "id": "d42d8d86",
   "metadata": {},
   "source": [
    "Observation:\n",
    "    \n",
    "ApplicantIncome,CoapplicantIncome,LoanAmount are the features(continuous) with outliers present."
   ]
  },
  {
   "cell_type": "markdown",
   "id": "061705df",
   "metadata": {},
   "source": [
    "# Checking if the target is balanced or not"
   ]
  },
  {
   "cell_type": "code",
   "execution_count": 27,
   "id": "cc3acae0",
   "metadata": {},
   "outputs": [
    {
     "data": {
      "text/plain": [
       "1    422\n",
       "0    192\n",
       "Name: Loan_Status, dtype: int64"
      ]
     },
     "execution_count": 27,
     "metadata": {},
     "output_type": "execute_result"
    }
   ],
   "source": [
    "df['Loan_Status'].value_counts()"
   ]
  },
  {
   "cell_type": "markdown",
   "id": "990092e3",
   "metadata": {},
   "source": [
    "Target data is imbalanced and needs to be balanced"
   ]
  },
  {
   "cell_type": "markdown",
   "id": "dffaaaee",
   "metadata": {},
   "source": [
    "# Data Preprocessing"
   ]
  },
  {
   "cell_type": "code",
   "execution_count": 28,
   "id": "ff404fa6",
   "metadata": {},
   "outputs": [],
   "source": [
    "#removing unnecessary column Education\n",
    "df.drop(['Education'],axis=1,inplace=True)"
   ]
  },
  {
   "cell_type": "markdown",
   "id": "04cf9b48",
   "metadata": {},
   "source": [
    "# REMOVING OUTLIERS:"
   ]
  },
  {
   "cell_type": "code",
   "execution_count": 29,
   "id": "46e25c7a",
   "metadata": {},
   "outputs": [
    {
     "name": "stdout",
     "output_type": "stream",
     "text": [
      "ApplicantIncome\n",
      "upper bound: 32540.410000000047\n",
      "lower bound: 1025.0\n",
      "\n",
      "\n",
      "CoapplicantIncome\n",
      "upper bound: 8895.890000000003\n",
      "lower bound: 0.0\n",
      "\n",
      "\n",
      "LoanAmount\n",
      "upper bound: 495.87\n",
      "lower bound: 30.65\n",
      "\n",
      "\n"
     ]
    }
   ],
   "source": [
    "#using quantile method\n",
    "out=['ApplicantIncome','CoapplicantIncome','LoanAmount']\n",
    "for i in out:\n",
    "    ub=df[i].quantile(0.99)\n",
    "    lb=df[i].quantile(0.01)\n",
    "    print(i)\n",
    "    print('upper bound:',ub)\n",
    "    print('lower bound:',lb)\n",
    "    print('\\n')"
   ]
  },
  {
   "cell_type": "code",
   "execution_count": 30,
   "id": "5709e144",
   "metadata": {},
   "outputs": [],
   "source": [
    "df_new=df[(df['ApplicantIncome']<=32540.410)&(df['ApplicantIncome']>=1025.0)]\n",
    "df_new=df[(df['CoapplicantIncome']<=8895.890)&(df['CoapplicantIncome']>=0.0)]\n",
    "df_new=df[(df['LoanAmount']<=495.87)&(df['LoanAmount']>=30.65)]"
   ]
  },
  {
   "cell_type": "code",
   "execution_count": 31,
   "id": "c9e44152",
   "metadata": {},
   "outputs": [
    {
     "data": {
      "text/plain": [
       "614"
      ]
     },
     "execution_count": 31,
     "metadata": {},
     "output_type": "execute_result"
    }
   ],
   "source": [
    "df.shape[0]"
   ]
  },
  {
   "cell_type": "code",
   "execution_count": 32,
   "id": "9d6e542e",
   "metadata": {},
   "outputs": [
    {
     "data": {
      "text/plain": [
       "600"
      ]
     },
     "execution_count": 32,
     "metadata": {},
     "output_type": "execute_result"
    }
   ],
   "source": [
    "df_new.shape[0]"
   ]
  },
  {
   "cell_type": "code",
   "execution_count": 33,
   "id": "252171fd",
   "metadata": {},
   "outputs": [
    {
     "data": {
      "text/plain": [
       "2.2801302931596092"
      ]
     },
     "execution_count": 33,
     "metadata": {},
     "output_type": "execute_result"
    }
   ],
   "source": [
    "data_loss=((df.shape[0]-df_new.shape[0])/df.shape[0])*100\n",
    "data_loss"
   ]
  },
  {
   "cell_type": "markdown",
   "id": "4387a9a0",
   "metadata": {},
   "source": [
    "Since only 2% data is lost due to ouliers removal we can consider to remove outliers"
   ]
  },
  {
   "cell_type": "code",
   "execution_count": 34,
   "id": "8f04ddb1",
   "metadata": {},
   "outputs": [],
   "source": [
    "df=df_new"
   ]
  },
  {
   "cell_type": "markdown",
   "id": "4a567671",
   "metadata": {},
   "source": [
    "# Converting Categorical Data to Numerical"
   ]
  },
  {
   "cell_type": "code",
   "execution_count": 35,
   "id": "f4943330",
   "metadata": {},
   "outputs": [],
   "source": [
    "from sklearn.preprocessing import OrdinalEncoder\n",
    "enc=OrdinalEncoder()\n",
    "for i in df.columns:\n",
    "    if df[i].dtypes=='object':\n",
    "        df[i]=enc.fit_transform(df[i].values.reshape(-1,1))"
   ]
  },
  {
   "cell_type": "markdown",
   "id": "25ffb390",
   "metadata": {},
   "source": [
    "# Skewness Treatment:"
   ]
  },
  {
   "cell_type": "code",
   "execution_count": 36,
   "id": "5e03e5f6",
   "metadata": {},
   "outputs": [],
   "source": [
    "x=df.drop(['Loan_Status'],axis=1)\n",
    "y=df['Loan_Status']"
   ]
  },
  {
   "cell_type": "code",
   "execution_count": 37,
   "id": "c878995d",
   "metadata": {},
   "outputs": [
    {
     "data": {
      "text/plain": [
       "array([[ 0.46852129, -1.36777681, -0.81879456, ...,  0.17964994,\n",
       "         0.51654822,  1.1992707 ],\n",
       "       [ 0.46852129,  0.73111343,  0.8429482 , ...,  0.17964994,\n",
       "         0.51654822, -1.33964616],\n",
       "       [ 0.46852129,  0.73111343, -0.81879456, ...,  0.17964994,\n",
       "         0.51654822,  1.1992707 ],\n",
       "       ...,\n",
       "       [ 0.46852129,  0.73111343,  0.8429482 , ...,  0.17964994,\n",
       "         0.51654822,  1.1992707 ],\n",
       "       [ 0.46852129,  0.73111343,  1.2949569 , ...,  0.17964994,\n",
       "         0.51654822,  1.1992707 ],\n",
       "       [-2.13437475, -1.36777681, -0.81879456, ...,  0.17964994,\n",
       "        -2.2352112 ,  0.02026093]])"
      ]
     },
     "execution_count": 37,
     "metadata": {},
     "output_type": "execute_result"
    }
   ],
   "source": [
    "from sklearn.preprocessing import power_transform\n",
    "x=power_transform(x,method='yeo-johnson')\n",
    "x"
   ]
  },
  {
   "cell_type": "code",
   "execution_count": 38,
   "id": "24dcaa3e",
   "metadata": {},
   "outputs": [
    {
     "data": {
      "text/plain": [
       "array([[ 0.46852129, -1.36777681, -0.81879456, ...,  0.17964994,\n",
       "         0.51654822,  1.1992707 ],\n",
       "       [ 0.46852129,  0.73111343,  0.8429482 , ...,  0.17964994,\n",
       "         0.51654822, -1.33964616],\n",
       "       [ 0.46852129,  0.73111343, -0.81879456, ...,  0.17964994,\n",
       "         0.51654822,  1.1992707 ],\n",
       "       ...,\n",
       "       [ 0.46852129,  0.73111343,  0.8429482 , ...,  0.17964994,\n",
       "         0.51654822,  1.1992707 ],\n",
       "       [ 0.46852129,  0.73111343,  1.2949569 , ...,  0.17964994,\n",
       "         0.51654822,  1.1992707 ],\n",
       "       [-2.13437475, -1.36777681, -0.81879456, ...,  0.17964994,\n",
       "        -2.2352112 ,  0.02026093]])"
      ]
     },
     "execution_count": 38,
     "metadata": {},
     "output_type": "execute_result"
    }
   ],
   "source": [
    "#feature scaling\n",
    "from sklearn.preprocessing import StandardScaler\n",
    "sc=StandardScaler()\n",
    "x=sc.fit_transform(x)\n",
    "x"
   ]
  },
  {
   "cell_type": "markdown",
   "id": "5e3c2189",
   "metadata": {},
   "source": [
    "# Balancing the dataset"
   ]
  },
  {
   "cell_type": "code",
   "execution_count": 39,
   "id": "77378b18",
   "metadata": {},
   "outputs": [],
   "source": [
    "from imblearn.over_sampling import SMOTE\n",
    "smt=SMOTE()\n",
    "x,y=smt.fit_resample(x,y)"
   ]
  },
  {
   "cell_type": "code",
   "execution_count": 40,
   "id": "3bbb06b8",
   "metadata": {},
   "outputs": [
    {
     "data": {
      "text/plain": [
       "0    411\n",
       "1    411\n",
       "Name: Loan_Status, dtype: int64"
      ]
     },
     "execution_count": 40,
     "metadata": {},
     "output_type": "execute_result"
    }
   ],
   "source": [
    "y.value_counts()"
   ]
  },
  {
   "cell_type": "markdown",
   "id": "c9422a40",
   "metadata": {},
   "source": [
    "# Model Building:"
   ]
  },
  {
   "cell_type": "code",
   "execution_count": 41,
   "id": "0689fdf5",
   "metadata": {},
   "outputs": [
    {
     "name": "stdout",
     "output_type": "stream",
     "text": [
      "At random state 110 The model performs very well\n",
      "Training Accuracy Score is: 71.5\n",
      "Testing Accuracy Score is: 71.5\n",
      "\n",
      "\n",
      "At random state 156 The model performs very well\n",
      "Training Accuracy Score is: 72.1\n",
      "Testing Accuracy Score is: 72.1\n",
      "\n",
      "\n",
      "At random state 172 The model performs very well\n",
      "Training Accuracy Score is: 71.5\n",
      "Testing Accuracy Score is: 71.5\n",
      "\n",
      "\n",
      "At random state 212 The model performs very well\n",
      "Training Accuracy Score is: 72.1\n",
      "Testing Accuracy Score is: 72.1\n",
      "\n",
      "\n",
      "At random state 251 The model performs very well\n",
      "Training Accuracy Score is: 70.9\n",
      "Testing Accuracy Score is: 70.9\n",
      "\n",
      "\n",
      "At random state 257 The model performs very well\n",
      "Training Accuracy Score is: 72.1\n",
      "Testing Accuracy Score is: 72.1\n",
      "\n",
      "\n",
      "At random state 378 The model performs very well\n",
      "Training Accuracy Score is: 70.9\n",
      "Testing Accuracy Score is: 70.9\n",
      "\n",
      "\n",
      "At random state 440 The model performs very well\n",
      "Training Accuracy Score is: 70.3\n",
      "Testing Accuracy Score is: 70.3\n",
      "\n",
      "\n",
      "At random state 453 The model performs very well\n",
      "Training Accuracy Score is: 71.5\n",
      "Testing Accuracy Score is: 71.5\n",
      "\n",
      "\n",
      "At random state 563 The model performs very well\n",
      "Training Accuracy Score is: 71.5\n",
      "Testing Accuracy Score is: 71.5\n",
      "\n",
      "\n",
      "At random state 578 The model performs very well\n",
      "Training Accuracy Score is: 72.1\n",
      "Testing Accuracy Score is: 72.1\n",
      "\n",
      "\n",
      "At random state 596 The model performs very well\n",
      "Training Accuracy Score is: 70.3\n",
      "Testing Accuracy Score is: 70.3\n",
      "\n",
      "\n",
      "At random state 738 The model performs very well\n",
      "Training Accuracy Score is: 71.5\n",
      "Testing Accuracy Score is: 71.5\n",
      "\n",
      "\n",
      "At random state 813 The model performs very well\n",
      "Training Accuracy Score is: 71.5\n",
      "Testing Accuracy Score is: 71.5\n",
      "\n",
      "\n",
      "At random state 902 The model performs very well\n",
      "Training Accuracy Score is: 71.5\n",
      "Testing Accuracy Score is: 71.5\n",
      "\n",
      "\n",
      "At random state 994 The model performs very well\n",
      "Training Accuracy Score is: 72.1\n",
      "Testing Accuracy Score is: 72.1\n",
      "\n",
      "\n"
     ]
    }
   ],
   "source": [
    "# Since our outcome has only two variable we will use binary classification model\n",
    "from sklearn.model_selection import train_test_split\n",
    "from sklearn.linear_model import LogisticRegression\n",
    "lr=LogisticRegression()\n",
    "from sklearn.metrics import accuracy_score\n",
    "for i in range(0,1000):\n",
    "    x_train,x_test,y_train,y_test=train_test_split(x,y,random_state=i,test_size=0.20)\n",
    "    lr.fit(x_train,y_train)\n",
    "    pred_train=lr.predict(x_train)\n",
    "    pred_test=lr.predict(x_test)\n",
    "    if round(accuracy_score(y_train,pred_train)*100,1)==round(accuracy_score(y_test,pred_test)*100,1):\n",
    "        print('At random state',i,'The model performs very well')\n",
    "        print('Training Accuracy Score is:',round(accuracy_score(y_train,pred_train)*100,1))\n",
    "        print('Testing Accuracy Score is:',round(accuracy_score(y_test,pred_test)*100,1))\n",
    "        print('\\n')"
   ]
  },
  {
   "cell_type": "code",
   "execution_count": 42,
   "id": "69d0333e",
   "metadata": {},
   "outputs": [],
   "source": [
    "from sklearn.metrics import confusion_matrix,classification_report,accuracy_score\n",
    "from sklearn.tree import DecisionTreeClassifier\n",
    "from sklearn.neighbors import KNeighborsClassifier\n",
    "from sklearn.svm import SVC"
   ]
  },
  {
   "cell_type": "markdown",
   "id": "acdb13d9",
   "metadata": {},
   "source": [
    "# Logistic Regression Model"
   ]
  },
  {
   "cell_type": "code",
   "execution_count": 65,
   "id": "47f9404a",
   "metadata": {},
   "outputs": [
    {
     "name": "stdout",
     "output_type": "stream",
     "text": [
      "Training Accuracy Score is: 72.1\n",
      "Testing Accuracy Score is: 72.1\n"
     ]
    }
   ],
   "source": [
    "#selecting random state=39\n",
    "x_train,x_test,y_train,y_test=train_test_split(x,y,random_state=156,test_size=0.20)\n",
    "lr.fit(x_train,y_train)\n",
    "pred_train=lr.predict(x_train)\n",
    "pred_test=lr.predict(x_test)\n",
    "print('Training Accuracy Score is:',round(accuracy_score(y_train,pred_train)*100,1))\n",
    "print('Testing Accuracy Score is:',round(accuracy_score(y_test,pred_test)*100,1))"
   ]
  },
  {
   "cell_type": "markdown",
   "id": "99a1b851",
   "metadata": {},
   "source": [
    "# CROSS VALIDATION OF THE MODEL"
   ]
  },
  {
   "cell_type": "code",
   "execution_count": 66,
   "id": "8af965ec",
   "metadata": {},
   "outputs": [
    {
     "name": "stdout",
     "output_type": "stream",
     "text": [
      "At crossfold= 2 the cv score is 0.7141119221411192\n",
      "training score : 0.7214611872146118\n",
      "testing score : 0.7212121212121212\n",
      "\n",
      "\n",
      "At crossfold= 3 the cv score is 0.7141119221411193\n",
      "training score : 0.7214611872146118\n",
      "testing score : 0.7212121212121212\n",
      "\n",
      "\n",
      "At crossfold= 4 the cv score is 0.7116741652853422\n",
      "training score : 0.7214611872146118\n",
      "testing score : 0.7212121212121212\n",
      "\n",
      "\n",
      "At crossfold= 5 the cv score is 0.7153141167775313\n",
      "training score : 0.7214611872146118\n",
      "testing score : 0.7212121212121212\n",
      "\n",
      "\n",
      "At crossfold= 6 the cv score is 0.7068126520681265\n",
      "training score : 0.7214611872146118\n",
      "testing score : 0.7212121212121212\n",
      "\n",
      "\n",
      "At crossfold= 7 the cv score is 0.7080151486931149\n",
      "training score : 0.7214611872146118\n",
      "testing score : 0.7212121212121212\n",
      "\n",
      "\n",
      "At crossfold= 8 the cv score is 0.7055492099752523\n",
      "training score : 0.7214611872146118\n",
      "testing score : 0.7212121212121212\n",
      "\n",
      "\n",
      "At crossfold= 9 the cv score is 0.7019164410468758\n",
      "training score : 0.7214611872146118\n",
      "testing score : 0.7212121212121212\n",
      "\n",
      "\n",
      "At crossfold= 10 the cv score is 0.7092271525124889\n",
      "training score : 0.7214611872146118\n",
      "testing score : 0.7212121212121212\n",
      "\n",
      "\n",
      "At crossfold= 11 the cv score is 0.7104176904176905\n",
      "training score : 0.7214611872146118\n",
      "testing score : 0.7212121212121212\n",
      "\n",
      "\n",
      "At crossfold= 12 the cv score is 0.7104113384484229\n",
      "training score : 0.7214611872146118\n",
      "testing score : 0.7212121212121212\n",
      "\n",
      "\n",
      "At crossfold= 13 the cv score is 0.714133089133089\n",
      "training score : 0.7214611872146118\n",
      "testing score : 0.7212121212121212\n",
      "\n",
      "\n",
      "At crossfold= 14 the cv score is 0.7079610920931786\n",
      "training score : 0.7214611872146118\n",
      "testing score : 0.7212121212121212\n",
      "\n",
      "\n"
     ]
    }
   ],
   "source": [
    "from sklearn.model_selection import cross_val_score\n",
    "for k in range(2,15):\n",
    "    cv_score=cross_val_score(lr,x,y,cv=k)\n",
    "    cv_mean=cv_score.mean()\n",
    "    print('At crossfold=',k,'the cv score is',cv_mean)\n",
    "    print('training score :',accuracy_score(y_train,pred_train))\n",
    "    print('testing score :',accuracy_score(y_test,pred_test))\n",
    "    print('\\n')"
   ]
  },
  {
   "cell_type": "code",
   "execution_count": 67,
   "id": "1ffc5c27",
   "metadata": {},
   "outputs": [
    {
     "name": "stdout",
     "output_type": "stream",
     "text": [
      "DecisionTreeClassifier()\n",
      "accuracy score: 0.793939393939394\n",
      "the cv score is 0.7641241685144124\n",
      "[[59 22]\n",
      " [12 72]]\n",
      "              precision    recall  f1-score   support\n",
      "\n",
      "           0       0.83      0.73      0.78        81\n",
      "           1       0.77      0.86      0.81        84\n",
      "\n",
      "    accuracy                           0.79       165\n",
      "   macro avg       0.80      0.79      0.79       165\n",
      "weighted avg       0.80      0.79      0.79       165\n",
      "\n",
      "\n",
      "\n",
      "KNeighborsClassifier()\n",
      "accuracy score: 0.7393939393939394\n",
      "the cv score is 0.7299334811529933\n",
      "[[56 25]\n",
      " [18 66]]\n",
      "              precision    recall  f1-score   support\n",
      "\n",
      "           0       0.76      0.69      0.72        81\n",
      "           1       0.73      0.79      0.75        84\n",
      "\n",
      "    accuracy                           0.74       165\n",
      "   macro avg       0.74      0.74      0.74       165\n",
      "weighted avg       0.74      0.74      0.74       165\n",
      "\n",
      "\n",
      "\n",
      "SVC()\n",
      "accuracy score: 0.7272727272727273\n",
      "the cv score is 0.7335624538063562\n",
      "[[44 37]\n",
      " [ 8 76]]\n",
      "              precision    recall  f1-score   support\n",
      "\n",
      "           0       0.85      0.54      0.66        81\n",
      "           1       0.67      0.90      0.77        84\n",
      "\n",
      "    accuracy                           0.73       165\n",
      "   macro avg       0.76      0.72      0.72       165\n",
      "weighted avg       0.76      0.73      0.72       165\n",
      "\n",
      "\n",
      "\n"
     ]
    }
   ],
   "source": [
    "#selecting cv=5 as it is very close to testing score\n",
    "model=[DecisionTreeClassifier(),KNeighborsClassifier(),SVC()]\n",
    "for i in model:\n",
    "    i.fit(x_train,y_train)\n",
    "    ipred=i.predict(x_test)\n",
    "    i.score(x_train,y_train)\n",
    "    print(i)\n",
    "    print('accuracy score:',accuracy_score(y_test,ipred))\n",
    "    cv_score=cross_val_score(i,x,y,cv=5)\n",
    "    cv_mean=cv_score.mean()\n",
    "    print('the cv score is',cv_mean)\n",
    "    print(confusion_matrix(y_test,ipred))\n",
    "    print(classification_report(y_test,ipred))\n",
    "    print('\\n')"
   ]
  },
  {
   "cell_type": "markdown",
   "id": "f1b8d486",
   "metadata": {},
   "source": [
    "# Ensemble Techniques"
   ]
  },
  {
   "cell_type": "markdown",
   "id": "87ffe848",
   "metadata": {},
   "source": [
    "# Ramdom Forest Classifier"
   ]
  },
  {
   "cell_type": "code",
   "execution_count": 68,
   "id": "2f243c35",
   "metadata": {},
   "outputs": [
    {
     "name": "stdout",
     "output_type": "stream",
     "text": [
      "accuracy score: 0.8363636363636363\n",
      "the cv score is 0.8347376201034737\n",
      "[[59 22]\n",
      " [ 5 79]]\n",
      "              precision    recall  f1-score   support\n",
      "\n",
      "           0       0.92      0.73      0.81        81\n",
      "           1       0.78      0.94      0.85        84\n",
      "\n",
      "    accuracy                           0.84       165\n",
      "   macro avg       0.85      0.83      0.83       165\n",
      "weighted avg       0.85      0.84      0.83       165\n",
      "\n"
     ]
    }
   ],
   "source": [
    "from sklearn.ensemble import RandomForestClassifier\n",
    "rf=RandomForestClassifier()\n",
    "rf.fit(x_train,y_train)\n",
    "rfpred=rf.predict(x_test)\n",
    "rf.score(x_train,y_train)\n",
    "print('accuracy score:',accuracy_score(y_test,rfpred))\n",
    "cv_score=cross_val_score(rf,x,y,cv=5)\n",
    "cv_mean=cv_score.mean()\n",
    "print('the cv score is',cv_mean)\n",
    "print(confusion_matrix(y_test,rfpred))\n",
    "print(classification_report(y_test,rfpred))"
   ]
  },
  {
   "cell_type": "markdown",
   "id": "317377d1",
   "metadata": {},
   "source": [
    "# Adaboost Classifier"
   ]
  },
  {
   "cell_type": "code",
   "execution_count": 69,
   "id": "60e1e0d4",
   "metadata": {},
   "outputs": [
    {
     "name": "stdout",
     "output_type": "stream",
     "text": [
      "accuracy score: 0.7393939393939394\n",
      "the cv score is 0.7629342202512934\n",
      "[[53 28]\n",
      " [15 69]]\n",
      "              precision    recall  f1-score   support\n",
      "\n",
      "           0       0.78      0.65      0.71        81\n",
      "           1       0.71      0.82      0.76        84\n",
      "\n",
      "    accuracy                           0.74       165\n",
      "   macro avg       0.75      0.74      0.74       165\n",
      "weighted avg       0.74      0.74      0.74       165\n",
      "\n"
     ]
    }
   ],
   "source": [
    "from sklearn.ensemble import AdaBoostClassifier\n",
    "ad=AdaBoostClassifier()     \n",
    "ad.fit(x_train,y_train)\n",
    "adpred=ad.predict(x_test)\n",
    "ad.score(x_train,y_train)\n",
    "print('accuracy score:',accuracy_score(y_test,adpred))\n",
    "cv_score=cross_val_score(ad,x,y,cv=5)\n",
    "cv_mean=cv_score.mean()\n",
    "print('the cv score is',cv_mean)\n",
    "print(confusion_matrix(y_test,adpred))\n",
    "print(classification_report(y_test,adpred))"
   ]
  },
  {
   "cell_type": "markdown",
   "id": "053e6023",
   "metadata": {},
   "source": [
    "# GradientBoosting Classifier"
   ]
  },
  {
   "cell_type": "code",
   "execution_count": 70,
   "id": "d9ef171b",
   "metadata": {},
   "outputs": [
    {
     "name": "stdout",
     "output_type": "stream",
     "text": [
      "accuracy score: 0.8303030303030303\n",
      "the cv score is 0.7933850702143385\n",
      "[[58 23]\n",
      " [ 5 79]]\n",
      "              precision    recall  f1-score   support\n",
      "\n",
      "           0       0.92      0.72      0.81        81\n",
      "           1       0.77      0.94      0.85        84\n",
      "\n",
      "    accuracy                           0.83       165\n",
      "   macro avg       0.85      0.83      0.83       165\n",
      "weighted avg       0.85      0.83      0.83       165\n",
      "\n"
     ]
    }
   ],
   "source": [
    "from sklearn.ensemble import GradientBoostingClassifier\n",
    "gb=GradientBoostingClassifier(n_estimators=200)    \n",
    "gb.fit(x_train,y_train)\n",
    "gbpred=gb.predict(x_test)\n",
    "gb.score(x_train,y_train)\n",
    "print('accuracy score:',accuracy_score(y_test,gbpred))\n",
    "cv_score=cross_val_score(gb,x,y,cv=5)\n",
    "cv_mean=cv_score.mean()\n",
    "print('the cv score is',cv_mean)\n",
    "print(confusion_matrix(y_test,gbpred))\n",
    "print(classification_report(y_test,gbpred))"
   ]
  },
  {
   "cell_type": "markdown",
   "id": "d5954a8a",
   "metadata": {},
   "source": [
    "# Voting Classifier"
   ]
  },
  {
   "cell_type": "code",
   "execution_count": 71,
   "id": "2c6dd0f8",
   "metadata": {},
   "outputs": [],
   "source": [
    "from sklearn.ensemble import VotingClassifier"
   ]
  },
  {
   "cell_type": "code",
   "execution_count": 72,
   "id": "bd758352",
   "metadata": {},
   "outputs": [],
   "source": [
    "estimator=[]\n",
    "estimator.append(('KNN',KNeighborsClassifier()))\n",
    "estimator.append(('SVC',SVC(gamma='auto',probability=True)))\n",
    "estimator.append(('DTC',DecisionTreeClassifier()))"
   ]
  },
  {
   "cell_type": "code",
   "execution_count": 73,
   "id": "bc8d833f",
   "metadata": {},
   "outputs": [
    {
     "name": "stdout",
     "output_type": "stream",
     "text": [
      "accuracy score: 0.7575757575757576\n",
      "the cv score is 0.7738137472283814\n",
      "[[52 29]\n",
      " [11 73]]\n",
      "              precision    recall  f1-score   support\n",
      "\n",
      "           0       0.83      0.64      0.72        81\n",
      "           1       0.72      0.87      0.78        84\n",
      "\n",
      "    accuracy                           0.76       165\n",
      "   macro avg       0.77      0.76      0.75       165\n",
      "weighted avg       0.77      0.76      0.75       165\n",
      "\n"
     ]
    }
   ],
   "source": [
    "#voting classifier with hard voting\n",
    "vot_hard=VotingClassifier(estimators=estimator,voting='hard')\n",
    "vot_hard.fit(x_train,y_train)\n",
    "vot_hardpred=vot_hard.predict(x_test)\n",
    "vot_hard.score(x_train,y_train)\n",
    "print('accuracy score:',accuracy_score(y_test,vot_hardpred))\n",
    "cv_score=cross_val_score(vot_hard,x,y,cv=5)\n",
    "cv_mean=cv_score.mean()\n",
    "print('the cv score is',cv_mean)\n",
    "print(confusion_matrix(y_test,vot_hardpred))\n",
    "print(classification_report(y_test,vot_hardpred))"
   ]
  },
  {
   "cell_type": "code",
   "execution_count": 74,
   "id": "d6de96a2",
   "metadata": {},
   "outputs": [
    {
     "name": "stdout",
     "output_type": "stream",
     "text": [
      "accuracy score: 0.7818181818181819\n",
      "the cv score is 0.7823725055432373\n",
      "[[59 22]\n",
      " [14 70]]\n",
      "              precision    recall  f1-score   support\n",
      "\n",
      "           0       0.81      0.73      0.77        81\n",
      "           1       0.76      0.83      0.80        84\n",
      "\n",
      "    accuracy                           0.78       165\n",
      "   macro avg       0.78      0.78      0.78       165\n",
      "weighted avg       0.78      0.78      0.78       165\n",
      "\n"
     ]
    }
   ],
   "source": [
    "#voting classifier with soft voting\n",
    "vot_soft=VotingClassifier(estimators=estimator,voting='soft')\n",
    "vot_soft.fit(x_train,y_train)\n",
    "vot_softpred=vot_soft.predict(x_test)\n",
    "vot_soft.score(x_train,y_train)\n",
    "print('accuracy score:',accuracy_score(y_test,vot_softpred))\n",
    "cv_score=cross_val_score(vot_soft,x,y,cv=5)\n",
    "cv_mean=cv_score.mean()\n",
    "print('the cv score is',cv_mean)\n",
    "print(confusion_matrix(y_test,vot_softpred))\n",
    "print(classification_report(y_test,vot_softpred))"
   ]
  },
  {
   "cell_type": "markdown",
   "id": "6860b15f",
   "metadata": {},
   "source": [
    "# HYPER PARAMETER TUNING USING GRID SEARCH CV"
   ]
  },
  {
   "cell_type": "code",
   "execution_count": 75,
   "id": "5dad5bf5",
   "metadata": {},
   "outputs": [],
   "source": [
    "from sklearn.model_selection import GridSearchCV"
   ]
  },
  {
   "cell_type": "code",
   "execution_count": 76,
   "id": "92757151",
   "metadata": {},
   "outputs": [
    {
     "name": "stdout",
     "output_type": "stream",
     "text": [
      "{'max_depth': 10, 'max_features': 'sqrt', 'n_estimators': 200}\n"
     ]
    }
   ],
   "source": [
    "#tuning random forest model\n",
    "from sklearn.ensemble import RandomForestClassifier\n",
    "parameters={'n_estimators':[100,200,300,350],'max_features':['auto','sqrt','log2'],'max_depth':[5,10]}\n",
    "rf=RandomForestClassifier()\n",
    "rfg=GridSearchCV(rf,parameters)\n",
    "rfg.fit(x_train,y_train)\n",
    "print(rfg.best_params_)"
   ]
  },
  {
   "cell_type": "code",
   "execution_count": 77,
   "id": "19a721ed",
   "metadata": {},
   "outputs": [
    {
     "name": "stdout",
     "output_type": "stream",
     "text": [
      "accuracy score: 0.806060606060606\n",
      "the cv score is 0.8250184774575018\n",
      "[[54 27]\n",
      " [ 5 79]]\n",
      "              precision    recall  f1-score   support\n",
      "\n",
      "           0       0.92      0.67      0.77        81\n",
      "           1       0.75      0.94      0.83        84\n",
      "\n",
      "    accuracy                           0.81       165\n",
      "   macro avg       0.83      0.80      0.80       165\n",
      "weighted avg       0.83      0.81      0.80       165\n",
      "\n"
     ]
    }
   ],
   "source": [
    "rf=RandomForestClassifier(n_estimators=200,max_features='sqrt',max_depth=10)\n",
    "rf.fit(x_train,y_train)\n",
    "rfpred=rf.predict(x_test)\n",
    "rf.score(x_train,y_train)\n",
    "print('accuracy score:',accuracy_score(y_test,rfpred))\n",
    "cv_score=cross_val_score(rf,x,y,cv=5)\n",
    "cv_mean=cv_score.mean()\n",
    "print('the cv score is',cv_mean)\n",
    "print(confusion_matrix(y_test,rfpred))\n",
    "print(classification_report(y_test,rfpred))"
   ]
  },
  {
   "cell_type": "code",
   "execution_count": 78,
   "id": "9ed3a099",
   "metadata": {},
   "outputs": [
    {
     "name": "stdout",
     "output_type": "stream",
     "text": [
      "GridSearchCV(cv=5, estimator=GradientBoostingClassifier(),\n",
      "             param_grid={'learning_rate': [0.1, 0.01, 0.001, 1, 10, 100],\n",
      "                         'n_estimators': [100, 150, 200, 250, 300]},\n",
      "             scoring='accuracy')\n",
      "0.7982779009608278\n",
      "friedman_mse\n",
      "{'learning_rate': 0.1, 'n_estimators': 250}\n"
     ]
    }
   ],
   "source": [
    "#tuning gradient boosting model\n",
    "grid_param={'n_estimators':[100,150,200,250,300],'learning_rate':[0.1,0.01,0.001,1,10,100]}\n",
    "model=GradientBoostingClassifier()\n",
    "grid=GridSearchCV(estimator=model,param_grid=grid_param,scoring='accuracy',cv=5)\n",
    "grid.fit(x,y)\n",
    "print(grid)\n",
    "print(grid.best_score_)\n",
    "print(grid.best_estimator_.criterion)\n",
    "print(grid.best_params_)"
   ]
  },
  {
   "cell_type": "code",
   "execution_count": 79,
   "id": "a04a28bd",
   "metadata": {},
   "outputs": [
    {
     "name": "stdout",
     "output_type": "stream",
     "text": [
      "accuracy score: 0.8303030303030303\n",
      "the cv score is 0.7982779009608278\n",
      "[[59 22]\n",
      " [ 6 78]]\n",
      "              precision    recall  f1-score   support\n",
      "\n",
      "           0       0.91      0.73      0.81        81\n",
      "           1       0.78      0.93      0.85        84\n",
      "\n",
      "    accuracy                           0.83       165\n",
      "   macro avg       0.84      0.83      0.83       165\n",
      "weighted avg       0.84      0.83      0.83       165\n",
      "\n"
     ]
    }
   ],
   "source": [
    "gb=GradientBoostingClassifier(n_estimators=250,learning_rate=0.1)    \n",
    "gb.fit(x_train,y_train)\n",
    "gbpred=gb.predict(x_test)\n",
    "gb.score(x_train,y_train)\n",
    "print('accuracy score:',accuracy_score(y_test,gbpred))\n",
    "cv_score=cross_val_score(gb,x,y,cv=5)\n",
    "cv_mean=cv_score.mean()\n",
    "print('the cv score is',cv_mean)\n",
    "print(confusion_matrix(y_test,gbpred))\n",
    "print(classification_report(y_test,gbpred))"
   ]
  },
  {
   "cell_type": "code",
   "execution_count": 80,
   "id": "1726eced",
   "metadata": {},
   "outputs": [
    {
     "name": "stdout",
     "output_type": "stream",
     "text": [
      "{'C': 10, 'gamma': 1, 'kernel': 'rbf'}\n"
     ]
    }
   ],
   "source": [
    "#tuning SVC\n",
    "parameters={'C': [0.1, 1, 10,100], \n",
    "'gamma': [1, 0.1, 0.01],\n",
    "'kernel': ['rbf','poly','linear']}\n",
    "svc=SVC()\n",
    "svc=GridSearchCV(svc,parameters)\n",
    "svc.fit(x_train,y_train)\n",
    "print(svc.best_params_)"
   ]
  },
  {
   "cell_type": "code",
   "execution_count": 81,
   "id": "85d7560c",
   "metadata": {},
   "outputs": [
    {
     "name": "stdout",
     "output_type": "stream",
     "text": [
      "accuracy score: 0.806060606060606\n",
      "the cv score is 0.8017664449371766\n",
      "[[62 19]\n",
      " [13 71]]\n",
      "              precision    recall  f1-score   support\n",
      "\n",
      "           0       0.83      0.77      0.79        81\n",
      "           1       0.79      0.85      0.82        84\n",
      "\n",
      "    accuracy                           0.81       165\n",
      "   macro avg       0.81      0.81      0.81       165\n",
      "weighted avg       0.81      0.81      0.81       165\n",
      "\n"
     ]
    }
   ],
   "source": [
    "svc=SVC(C=10,kernel='rbf',gamma=1)\n",
    "svc.fit(x_train,y_train)\n",
    "svcpred=svc.predict(x_test)\n",
    "svc.score(x_train,y_train)\n",
    "print('accuracy score:',accuracy_score(y_test,svcpred))\n",
    "cv_score=cross_val_score(svc,x,y,cv=5)\n",
    "cv_mean=cv_score.mean()\n",
    "print('the cv score is',cv_mean)\n",
    "print(confusion_matrix(y_test,svcpred))\n",
    "print(classification_report(y_test,svcpred))"
   ]
  },
  {
   "cell_type": "code",
   "execution_count": 82,
   "id": "e8a4fad4",
   "metadata": {},
   "outputs": [
    {
     "name": "stdout",
     "output_type": "stream",
     "text": [
      "{'criterion': 'entropy', 'max_depth': 20, 'max_features': 'auto'}\n"
     ]
    }
   ],
   "source": [
    "#tuning decision tree model\n",
    "parameters={'criterion':['gini','entropy'],'max_features':['auto','sqrt','log2'],'max_depth':[5,10,15,20]}\n",
    "dtc=DecisionTreeClassifier()\n",
    "dtc=GridSearchCV(dtc,parameters)\n",
    "dtc.fit(x_train,y_train)\n",
    "print(dtc.best_params_)"
   ]
  },
  {
   "cell_type": "code",
   "execution_count": 83,
   "id": "5293226f",
   "metadata": {},
   "outputs": [
    {
     "name": "stdout",
     "output_type": "stream",
     "text": [
      "accuracy score: 0.7212121212121212\n",
      "the cv score is 0.7532076866223207\n",
      "[[52 29]\n",
      " [17 67]]\n",
      "              precision    recall  f1-score   support\n",
      "\n",
      "           0       0.75      0.64      0.69        81\n",
      "           1       0.70      0.80      0.74        84\n",
      "\n",
      "    accuracy                           0.72       165\n",
      "   macro avg       0.73      0.72      0.72       165\n",
      "weighted avg       0.73      0.72      0.72       165\n",
      "\n"
     ]
    }
   ],
   "source": [
    "dtc=DecisionTreeClassifier(criterion='entropy',max_depth=20,max_features='auto')\n",
    "dtc.fit(x_train,y_train)\n",
    "dtcpred=dtc.predict(x_test)\n",
    "dtc.score(x_train,y_train)\n",
    "print('accuracy score:',accuracy_score(y_test,dtcpred))\n",
    "cv_score=cross_val_score(dtc,x,y,cv=5)\n",
    "cv_mean=cv_score.mean()\n",
    "print('the cv score is',cv_mean)\n",
    "print(confusion_matrix(y_test,dtcpred))\n",
    "print(classification_report(y_test,dtcpred))"
   ]
  },
  {
   "cell_type": "markdown",
   "id": "bcfaed41",
   "metadata": {},
   "source": [
    "# CONCLUSION:"
   ]
  },
  {
   "cell_type": "markdown",
   "id": "6d1cc58c",
   "metadata": {},
   "source": [
    "Selecting Random Forest as our final model as the model is performing extremely well having cv score and testing score almost equal."
   ]
  },
  {
   "cell_type": "markdown",
   "id": "d4825b87",
   "metadata": {},
   "source": [
    "# ROC AUC CURVE"
   ]
  },
  {
   "cell_type": "code",
   "execution_count": 84,
   "id": "a09f8944",
   "metadata": {},
   "outputs": [
    {
     "data": {
      "image/png": "[encoded data removed]",
      "text/plain": [
       "<Figure size 432x288 with 1 Axes>"
      ]
     },
     "metadata": {
      "needs_background": "light"
     },
     "output_type": "display_data"
    }
   ],
   "source": [
    "from sklearn.metrics import plot_roc_curve\n",
    "plot_roc_curve(rf,x_test,y_test)\n",
    "plt.title('ROC AUC PLOT')\n",
    "plt.show()"
   ]
  },
  {
   "cell_type": "markdown",
   "id": "b36b2eb6",
   "metadata": {},
   "source": [
    "AUC score is 89%"
   ]
  },
  {
   "cell_type": "code",
   "execution_count": 85,
   "id": "cf4b8609",
   "metadata": {},
   "outputs": [
    {
     "data": {
      "text/html": [
       "<div>\n",
       "<style scoped>\n",
       "    .dataframe tbody tr th:only-of-type {\n",
       "        vertical-align: middle;\n",
       "    }\n",
       "\n",
       "    .dataframe tbody tr th {\n",
       "        vertical-align: top;\n",
       "    }\n",
       "\n",
       "    .dataframe thead th {\n",
       "        text-align: right;\n",
       "    }\n",
       "</style>\n",
       "<table border=\"1\" class=\"dataframe\">\n",
       "  <thead>\n",
       "    <tr style=\"text-align: right;\">\n",
       "      <th></th>\n",
       "      <th>Original</th>\n",
       "      <th>Predicted</th>\n",
       "    </tr>\n",
       "  </thead>\n",
       "  <tbody>\n",
       "    <tr>\n",
       "      <th>0</th>\n",
       "      <td>1</td>\n",
       "      <td>1</td>\n",
       "    </tr>\n",
       "    <tr>\n",
       "      <th>1</th>\n",
       "      <td>1</td>\n",
       "      <td>1</td>\n",
       "    </tr>\n",
       "    <tr>\n",
       "      <th>2</th>\n",
       "      <td>0</td>\n",
       "      <td>1</td>\n",
       "    </tr>\n",
       "    <tr>\n",
       "      <th>3</th>\n",
       "      <td>1</td>\n",
       "      <td>1</td>\n",
       "    </tr>\n",
       "    <tr>\n",
       "      <th>4</th>\n",
       "      <td>1</td>\n",
       "      <td>0</td>\n",
       "    </tr>\n",
       "    <tr>\n",
       "      <th>...</th>\n",
       "      <td>...</td>\n",
       "      <td>...</td>\n",
       "    </tr>\n",
       "    <tr>\n",
       "      <th>160</th>\n",
       "      <td>0</td>\n",
       "      <td>0</td>\n",
       "    </tr>\n",
       "    <tr>\n",
       "      <th>161</th>\n",
       "      <td>1</td>\n",
       "      <td>1</td>\n",
       "    </tr>\n",
       "    <tr>\n",
       "      <th>162</th>\n",
       "      <td>1</td>\n",
       "      <td>1</td>\n",
       "    </tr>\n",
       "    <tr>\n",
       "      <th>163</th>\n",
       "      <td>1</td>\n",
       "      <td>1</td>\n",
       "    </tr>\n",
       "    <tr>\n",
       "      <th>164</th>\n",
       "      <td>0</td>\n",
       "      <td>0</td>\n",
       "    </tr>\n",
       "  </tbody>\n",
       "</table>\n",
       "<p>165 rows × 2 columns</p>\n",
       "</div>"
      ],
      "text/plain": [
       "     Original  Predicted\n",
       "0           1          1\n",
       "1           1          1\n",
       "2           0          1\n",
       "3           1          1\n",
       "4           1          0\n",
       "..        ...        ...\n",
       "160         0          0\n",
       "161         1          1\n",
       "162         1          1\n",
       "163         1          1\n",
       "164         0          0\n",
       "\n",
       "[165 rows x 2 columns]"
      ]
     },
     "execution_count": 85,
     "metadata": {},
     "output_type": "execute_result"
    }
   ],
   "source": [
    "original=np.array(y_test)\n",
    "predicted=np.array(rfpred)\n",
    "df_com=pd.DataFrame({'Original':original,'Predicted':predicted},index=range(len(original)))\n",
    "df_com"
   ]
  },
  {
   "cell_type": "markdown",
   "id": "7270caaa",
   "metadata": {},
   "source": [
    "# SAVING BEST MODEL"
   ]
  },
  {
   "cell_type": "code",
   "execution_count": 86,
   "id": "7106f282",
   "metadata": {},
   "outputs": [
    {
     "data": {
      "text/plain": [
       "['rffile.obj']"
      ]
     },
     "execution_count": 86,
     "metadata": {},
     "output_type": "execute_result"
    }
   ],
   "source": [
    "import joblib\n",
    "joblib.dump(rf,'rffile.obj')"
   ]
  }
 ],
 "metadata": {
  "kernelspec": {
   "display_name": "Python 3",
   "language": "python",
   "name": "python3"
  },
  "language_info": {
   "codemirror_mode": {
    "name": "ipython",
    "version": 3
   },
   "file_extension": ".py",
   "mimetype": "text/x-python",
   "name": "python",
   "nbconvert_exporter": "python",
   "pygments_lexer": "ipython3",
   "version": "3.8.8"
  }
 },
 "nbformat": 4,
 "nbformat_minor": 5
}
