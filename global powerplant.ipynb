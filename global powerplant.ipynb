{
 "cells": [
  {
   "cell_type": "markdown",
   "id": "b17d0d16",
   "metadata": {},
   "source": [
    "# Data Frame Description"
   ]
  },
  {
   "cell_type": "markdown",
   "id": "3ee31809",
   "metadata": {},
   "source": [
    "Description\n",
    "\n",
    "The Global Power Plant Database is a comprehensive, open source database of power plants around the world. It centralizes power plant data to make it easier to navigate, compare and draw insights for one’s own analysis. The database covers approximately 35,000 power plants from 167 countries and includes thermal plants (e.g. coal, gas, oil, nuclear, biomass, waste, geothermal) and renewables (e.g. hydro, wind, solar). Each power plant is geolocated and entries contain information on plant capacity, generation, ownership, and fuel type. It will be continuously updated as data becomes available.\n",
    "\n",
    "Key attributes of the database\n",
    "The database includes the following indicators:\n",
    "\n",
    "`country` (text): 3 character country code corresponding to the ISO 3166-1 alpha-3 specification\n",
    "\n",
    "`country_long` (text): longer form of the country designation\n",
    "\n",
    "`name` (text): name or title of the power plant, generally in Romanized form\n",
    "\n",
    "`gppd_idnr` (text): 10 or 12 character identifier for the power plant\n",
    "\n",
    "`capacity_mw` (number): electrical generating capacity in megawatts\n",
    "\n",
    "`latitude` (number): geolocation in decimal degrees; WGS84 (EPSG:4326)\n",
    "\n",
    "`longitude` (number): geolocation in decimal degrees; WGS84 (EPSG:4326)\n",
    "\n",
    "`primary_fuel` (text): energy source used in primary electricity generation or export\n",
    "\n",
    "`other_fuel1` (text): energy source used in electricity generation or export\n",
    "\n",
    "`other_fuel2` (text): energy source used in electricity generation or export\n",
    "\n",
    "`other_fuel3` (text): energy source used in electricity generation or export\n",
    "\n",
    " `commissioning_year` (number): year of plant operation, weighted by unit-capacity when data is available\n",
    " \n",
    "`owner` (text): majority shareholder of the power plant, generally in Romanized form\n",
    "\n",
    "`source` (text): entity reporting the data; could be an organization, report, or document, generally in Romanized form\n",
    "\n",
    "`url` (text): web document corresponding to the `source` field\n",
    "\n",
    "`geolocation_source` (text): attribution for geolocation information\n",
    "\n",
    "`wepp_id` (text): a reference to a unique plant identifier in the widely-used PLATTS-WEPP database.\n",
    "\n",
    "`year_of_capacity_data` (number): year the capacity information was reported\n",
    "\n",
    "`generation_gwh_2013` (number): electricity generation in gigawatt-hours reported for the year 2013\n",
    "\n",
    "`generation_gwh_2014` (number): electricity generation in gigawatt-hours reported for the year 2014\n",
    "\n",
    "`generation_gwh_2015` (number): electricity generation in gigawatt-hours reported for the year 2015\n",
    "\n",
    "`generation_gwh_2016` (number): electricity generation in gigawatt-hours reported for the year 2016\n",
    "\n",
    "`generation_gwh_2017` (number): electricity generation in gigawatt-hours reported for the year 2017\n",
    "\n",
    "`generation_gwh_2018` (number): electricity generation in gigawatt-hours reported for the year 2018\n",
    "\n",
    "`generation_gwh_2019` (number): electricity generation in gigawatt-hours reported for the year 2019\n",
    "\n",
    "`generation_data_source` (text): attribution for the reported generation information\n",
    "\n",
    "`estimated_generation_gwh_2013` (number): estimated electricity generation in gigawatt-hours for the year 2013\n",
    "\n",
    "`estimated_generation_gwh_2014` (number): estimated electricity generation in gigawatt-hours for the year 2014 \n",
    "\n",
    "`estimated_generation_gwh_2015` (number): estimated electricity generation in gigawatt-hours for the year 2015 \n",
    "\n",
    "`estimated_generation_gwh_2016` (number): estimated electricity generation in gigawatt-hours for the year 2016 \n",
    "\n",
    "`estimated_generation_gwh_2017` (number): estimated electricity generation in gigawatt-hours for the year 2017 \n",
    "\n",
    "'estimated_generation_note_2013` (text): label of the model/method used to estimate generation for the year 2013\n",
    "\n",
    "`estimated_generation_note_2014` (text): label of the model/method used to estimate generation for the year 2014 \n",
    "\n",
    "`estimated_generation_note_2015` (text): label of the model/method used to estimate generation for the year 2015\n",
    "\n",
    "`estimated_generation_note_2016` (text): label of the model/method used to estimate generation for the year 2016\n",
    "\n",
    "`estimated_generation_note_2017` (text): label of the model/method used to estimate generation for the year 2017 \n",
    "\n",
    "Fuel Type Aggregation\n",
    "\n",
    "We define the \"Fuel Type\" attribute of our database based on common fuel categories. \n",
    "\n",
    "Prediction :   Make two prediction  1) Primary Fuel    2) capacity_mw"
   ]
  },
  {
   "cell_type": "markdown",
   "id": "ecca1673",
   "metadata": {},
   "source": [
    "# Importing modules"
   ]
  },
  {
   "cell_type": "code",
   "execution_count": 1,
   "id": "968bbf6c",
   "metadata": {},
   "outputs": [],
   "source": [
    "import pandas as pd\n",
    "import numpy as np\n",
    "import matplotlib.pyplot as plt\n",
    "import warnings\n",
    "warnings.filterwarnings(\"ignore\")\n",
    "import seaborn as sns"
   ]
  },
  {
   "cell_type": "markdown",
   "id": "39893876",
   "metadata": {},
   "source": [
    "# Loading the dataset"
   ]
  },
  {
   "cell_type": "code",
   "execution_count": 2,
   "id": "e6c529c7",
   "metadata": {
    "scrolled": true
   },
   "outputs": [
    {
     "data": {
      "text/html": [
       "<div>\n",
       "<style scoped>\n",
       "    .dataframe tbody tr th:only-of-type {\n",
       "        vertical-align: middle;\n",
       "    }\n",
       "\n",
       "    .dataframe tbody tr th {\n",
       "        vertical-align: top;\n",
       "    }\n",
       "\n",
       "    .dataframe thead th {\n",
       "        text-align: right;\n",
       "    }\n",
       "</style>\n",
       "<table border=\"1\" class=\"dataframe\">\n",
       "  <thead>\n",
       "    <tr style=\"text-align: right;\">\n",
       "      <th></th>\n",
       "      <th>country</th>\n",
       "      <th>country_long</th>\n",
       "      <th>name</th>\n",
       "      <th>gppd_idnr</th>\n",
       "      <th>capacity_mw</th>\n",
       "      <th>latitude</th>\n",
       "      <th>longitude</th>\n",
       "      <th>primary_fuel</th>\n",
       "      <th>other_fuel1</th>\n",
       "      <th>other_fuel2</th>\n",
       "      <th>...</th>\n",
       "      <th>year_of_capacity_data</th>\n",
       "      <th>generation_gwh_2013</th>\n",
       "      <th>generation_gwh_2014</th>\n",
       "      <th>generation_gwh_2015</th>\n",
       "      <th>generation_gwh_2016</th>\n",
       "      <th>generation_gwh_2017</th>\n",
       "      <th>generation_gwh_2018</th>\n",
       "      <th>generation_gwh_2019</th>\n",
       "      <th>generation_data_source</th>\n",
       "      <th>estimated_generation_gwh</th>\n",
       "    </tr>\n",
       "  </thead>\n",
       "  <tbody>\n",
       "    <tr>\n",
       "      <th>0</th>\n",
       "      <td>IND</td>\n",
       "      <td>India</td>\n",
       "      <td>ACME Solar Tower</td>\n",
       "      <td>WRI1020239</td>\n",
       "      <td>2.5</td>\n",
       "      <td>28.1839</td>\n",
       "      <td>73.2407</td>\n",
       "      <td>Solar</td>\n",
       "      <td>NaN</td>\n",
       "      <td>NaN</td>\n",
       "      <td>...</td>\n",
       "      <td>NaN</td>\n",
       "      <td>NaN</td>\n",
       "      <td>NaN</td>\n",
       "      <td>NaN</td>\n",
       "      <td>NaN</td>\n",
       "      <td>NaN</td>\n",
       "      <td>NaN</td>\n",
       "      <td>NaN</td>\n",
       "      <td>NaN</td>\n",
       "      <td>NaN</td>\n",
       "    </tr>\n",
       "    <tr>\n",
       "      <th>1</th>\n",
       "      <td>IND</td>\n",
       "      <td>India</td>\n",
       "      <td>ADITYA CEMENT WORKS</td>\n",
       "      <td>WRI1019881</td>\n",
       "      <td>98.0</td>\n",
       "      <td>24.7663</td>\n",
       "      <td>74.6090</td>\n",
       "      <td>Coal</td>\n",
       "      <td>NaN</td>\n",
       "      <td>NaN</td>\n",
       "      <td>...</td>\n",
       "      <td>NaN</td>\n",
       "      <td>NaN</td>\n",
       "      <td>NaN</td>\n",
       "      <td>NaN</td>\n",
       "      <td>NaN</td>\n",
       "      <td>NaN</td>\n",
       "      <td>NaN</td>\n",
       "      <td>NaN</td>\n",
       "      <td>NaN</td>\n",
       "      <td>NaN</td>\n",
       "    </tr>\n",
       "    <tr>\n",
       "      <th>2</th>\n",
       "      <td>IND</td>\n",
       "      <td>India</td>\n",
       "      <td>AES Saurashtra Windfarms</td>\n",
       "      <td>WRI1026669</td>\n",
       "      <td>39.2</td>\n",
       "      <td>21.9038</td>\n",
       "      <td>69.3732</td>\n",
       "      <td>Wind</td>\n",
       "      <td>NaN</td>\n",
       "      <td>NaN</td>\n",
       "      <td>...</td>\n",
       "      <td>NaN</td>\n",
       "      <td>NaN</td>\n",
       "      <td>NaN</td>\n",
       "      <td>NaN</td>\n",
       "      <td>NaN</td>\n",
       "      <td>NaN</td>\n",
       "      <td>NaN</td>\n",
       "      <td>NaN</td>\n",
       "      <td>NaN</td>\n",
       "      <td>NaN</td>\n",
       "    </tr>\n",
       "    <tr>\n",
       "      <th>3</th>\n",
       "      <td>IND</td>\n",
       "      <td>India</td>\n",
       "      <td>AGARTALA GT</td>\n",
       "      <td>IND0000001</td>\n",
       "      <td>135.0</td>\n",
       "      <td>23.8712</td>\n",
       "      <td>91.3602</td>\n",
       "      <td>Gas</td>\n",
       "      <td>NaN</td>\n",
       "      <td>NaN</td>\n",
       "      <td>...</td>\n",
       "      <td>2019.0</td>\n",
       "      <td>NaN</td>\n",
       "      <td>617.789264</td>\n",
       "      <td>843.747</td>\n",
       "      <td>886.004428</td>\n",
       "      <td>663.774500</td>\n",
       "      <td>626.239128</td>\n",
       "      <td>NaN</td>\n",
       "      <td>Central Electricity Authority</td>\n",
       "      <td>NaN</td>\n",
       "    </tr>\n",
       "    <tr>\n",
       "      <th>4</th>\n",
       "      <td>IND</td>\n",
       "      <td>India</td>\n",
       "      <td>AKALTARA TPP</td>\n",
       "      <td>IND0000002</td>\n",
       "      <td>1800.0</td>\n",
       "      <td>21.9603</td>\n",
       "      <td>82.4091</td>\n",
       "      <td>Coal</td>\n",
       "      <td>Oil</td>\n",
       "      <td>NaN</td>\n",
       "      <td>...</td>\n",
       "      <td>2019.0</td>\n",
       "      <td>NaN</td>\n",
       "      <td>3035.550000</td>\n",
       "      <td>5916.370</td>\n",
       "      <td>6243.000000</td>\n",
       "      <td>5385.579736</td>\n",
       "      <td>7279.000000</td>\n",
       "      <td>NaN</td>\n",
       "      <td>Central Electricity Authority</td>\n",
       "      <td>NaN</td>\n",
       "    </tr>\n",
       "  </tbody>\n",
       "</table>\n",
       "<p>5 rows × 27 columns</p>\n",
       "</div>"
      ],
      "text/plain": [
       "  country country_long                      name   gppd_idnr  capacity_mw  \\\n",
       "0     IND        India          ACME Solar Tower  WRI1020239          2.5   \n",
       "1     IND        India       ADITYA CEMENT WORKS  WRI1019881         98.0   \n",
       "2     IND        India  AES Saurashtra Windfarms  WRI1026669         39.2   \n",
       "3     IND        India               AGARTALA GT  IND0000001        135.0   \n",
       "4     IND        India              AKALTARA TPP  IND0000002       1800.0   \n",
       "\n",
       "   latitude  longitude primary_fuel other_fuel1 other_fuel2  ...  \\\n",
       "0   28.1839    73.2407        Solar         NaN         NaN  ...   \n",
       "1   24.7663    74.6090         Coal         NaN         NaN  ...   \n",
       "2   21.9038    69.3732         Wind         NaN         NaN  ...   \n",
       "3   23.8712    91.3602          Gas         NaN         NaN  ...   \n",
       "4   21.9603    82.4091         Coal         Oil         NaN  ...   \n",
       "\n",
       "   year_of_capacity_data  generation_gwh_2013 generation_gwh_2014  \\\n",
       "0                    NaN                  NaN                 NaN   \n",
       "1                    NaN                  NaN                 NaN   \n",
       "2                    NaN                  NaN                 NaN   \n",
       "3                 2019.0                  NaN          617.789264   \n",
       "4                 2019.0                  NaN         3035.550000   \n",
       "\n",
       "  generation_gwh_2015 generation_gwh_2016 generation_gwh_2017  \\\n",
       "0                 NaN                 NaN                 NaN   \n",
       "1                 NaN                 NaN                 NaN   \n",
       "2                 NaN                 NaN                 NaN   \n",
       "3             843.747          886.004428          663.774500   \n",
       "4            5916.370         6243.000000         5385.579736   \n",
       "\n",
       "   generation_gwh_2018  generation_gwh_2019         generation_data_source  \\\n",
       "0                  NaN                  NaN                            NaN   \n",
       "1                  NaN                  NaN                            NaN   \n",
       "2                  NaN                  NaN                            NaN   \n",
       "3           626.239128                  NaN  Central Electricity Authority   \n",
       "4          7279.000000                  NaN  Central Electricity Authority   \n",
       "\n",
       "   estimated_generation_gwh  \n",
       "0                       NaN  \n",
       "1                       NaN  \n",
       "2                       NaN  \n",
       "3                       NaN  \n",
       "4                       NaN  \n",
       "\n",
       "[5 rows x 27 columns]"
      ]
     },
     "execution_count": 2,
     "metadata": {},
     "output_type": "execute_result"
    }
   ],
   "source": [
    "df=pd.read_csv(r'https://raw.githubusercontent.com/wri/global-power-plant-database/master/source_databases_csv/database_IND.csv')\n",
    "df.head()"
   ]
  },
  {
   "cell_type": "code",
   "execution_count": 3,
   "id": "c99d5a8a",
   "metadata": {},
   "outputs": [
    {
     "data": {
      "text/plain": [
       "(907, 27)"
      ]
     },
     "execution_count": 3,
     "metadata": {},
     "output_type": "execute_result"
    }
   ],
   "source": [
    "df.shape"
   ]
  },
  {
   "cell_type": "markdown",
   "id": "9c6da4fc",
   "metadata": {},
   "source": [
    "The dataset contains 907 rows and 27 columns"
   ]
  },
  {
   "cell_type": "code",
   "execution_count": 4,
   "id": "d6ed2e94",
   "metadata": {},
   "outputs": [
    {
     "data": {
      "text/plain": [
       "Index(['country', 'country_long', 'name', 'gppd_idnr', 'capacity_mw',\n",
       "       'latitude', 'longitude', 'primary_fuel', 'other_fuel1', 'other_fuel2',\n",
       "       'other_fuel3', 'commissioning_year', 'owner', 'source', 'url',\n",
       "       'geolocation_source', 'wepp_id', 'year_of_capacity_data',\n",
       "       'generation_gwh_2013', 'generation_gwh_2014', 'generation_gwh_2015',\n",
       "       'generation_gwh_2016', 'generation_gwh_2017', 'generation_gwh_2018',\n",
       "       'generation_gwh_2019', 'generation_data_source',\n",
       "       'estimated_generation_gwh'],\n",
       "      dtype='object')"
      ]
     },
     "execution_count": 4,
     "metadata": {},
     "output_type": "execute_result"
    }
   ],
   "source": [
    "df.columns"
   ]
  },
  {
   "cell_type": "code",
   "execution_count": 5,
   "id": "4a9f2678",
   "metadata": {},
   "outputs": [
    {
     "data": {
      "text/plain": [
       "country                      object\n",
       "country_long                 object\n",
       "name                         object\n",
       "gppd_idnr                    object\n",
       "capacity_mw                 float64\n",
       "latitude                    float64\n",
       "longitude                   float64\n",
       "primary_fuel                 object\n",
       "other_fuel1                  object\n",
       "other_fuel2                  object\n",
       "other_fuel3                 float64\n",
       "commissioning_year          float64\n",
       "owner                        object\n",
       "source                       object\n",
       "url                          object\n",
       "geolocation_source           object\n",
       "wepp_id                     float64\n",
       "year_of_capacity_data       float64\n",
       "generation_gwh_2013         float64\n",
       "generation_gwh_2014         float64\n",
       "generation_gwh_2015         float64\n",
       "generation_gwh_2016         float64\n",
       "generation_gwh_2017         float64\n",
       "generation_gwh_2018         float64\n",
       "generation_gwh_2019         float64\n",
       "generation_data_source       object\n",
       "estimated_generation_gwh    float64\n",
       "dtype: object"
      ]
     },
     "execution_count": 5,
     "metadata": {},
     "output_type": "execute_result"
    }
   ],
   "source": [
    "df.dtypes"
   ]
  },
  {
   "cell_type": "markdown",
   "id": "6b3ca217",
   "metadata": {},
   "source": [
    "# Checking null values in the dataframe\n"
   ]
  },
  {
   "cell_type": "code",
   "execution_count": 6,
   "id": "d9525637",
   "metadata": {},
   "outputs": [
    {
     "data": {
      "text/plain": [
       "country                       0\n",
       "country_long                  0\n",
       "name                          0\n",
       "gppd_idnr                     0\n",
       "capacity_mw                   0\n",
       "latitude                     46\n",
       "longitude                    46\n",
       "primary_fuel                  0\n",
       "other_fuel1                 709\n",
       "other_fuel2                 906\n",
       "other_fuel3                 907\n",
       "commissioning_year          380\n",
       "owner                       565\n",
       "source                        0\n",
       "url                           0\n",
       "geolocation_source           19\n",
       "wepp_id                     907\n",
       "year_of_capacity_data       388\n",
       "generation_gwh_2013         907\n",
       "generation_gwh_2014         509\n",
       "generation_gwh_2015         485\n",
       "generation_gwh_2016         473\n",
       "generation_gwh_2017         467\n",
       "generation_gwh_2018         459\n",
       "generation_gwh_2019         907\n",
       "generation_data_source      458\n",
       "estimated_generation_gwh    907\n",
       "dtype: int64"
      ]
     },
     "execution_count": 6,
     "metadata": {},
     "output_type": "execute_result"
    }
   ],
   "source": [
    "df.isnull().sum()"
   ]
  },
  {
   "cell_type": "code",
   "execution_count": 7,
   "id": "581d65bc",
   "metadata": {
    "scrolled": true
   },
   "outputs": [
    {
     "data": {
      "text/plain": [
       "<AxesSubplot:>"
      ]
     },
     "execution_count": 7,
     "metadata": {},
     "output_type": "execute_result"
    },
    {
     "data": {
      "image/png": "[encoded data removed]",
      "text/plain": [
       "<Figure size 432x288 with 2 Axes>"
      ]
     },
     "metadata": {
      "needs_background": "light"
     },
     "output_type": "display_data"
    }
   ],
   "source": [
    "#data visualisation\n",
    "sns.heatmap(df.isnull(),cmap='Blues')"
   ]
  },
  {
   "cell_type": "code",
   "execution_count": 8,
   "id": "8dc14f8b",
   "metadata": {},
   "outputs": [
    {
     "data": {
      "text/plain": [
       "0"
      ]
     },
     "execution_count": 8,
     "metadata": {},
     "output_type": "execute_result"
    }
   ],
   "source": [
    "# Checking Duplicates\n",
    "df.duplicated().sum()"
   ]
  },
  {
   "cell_type": "code",
   "execution_count": 9,
   "id": "2ab07270",
   "metadata": {},
   "outputs": [
    {
     "name": "stdout",
     "output_type": "stream",
     "text": [
      "% data missing in country is: 0.0\n",
      "% data missing in country_long is: 0.0\n",
      "% data missing in name is: 0.0\n",
      "% data missing in gppd_idnr is: 0.0\n",
      "% data missing in capacity_mw is: 0.0\n",
      "% data missing in latitude is: 5.071664829106946\n",
      "% data missing in longitude is: 5.071664829106946\n",
      "% data missing in primary_fuel is: 0.0\n",
      "% data missing in other_fuel1 is: 78.16979051819185\n",
      "% data missing in other_fuel2 is: 99.88974641675854\n",
      "% data missing in other_fuel3 is: 100.0\n",
      "% data missing in commissioning_year is: 41.89636163175303\n",
      "% data missing in owner is: 62.29327453142227\n",
      "% data missing in source is: 0.0\n",
      "% data missing in url is: 0.0\n",
      "% data missing in geolocation_source is: 2.0948180815876514\n",
      "% data missing in wepp_id is: 100.0\n",
      "% data missing in year_of_capacity_data is: 42.77839029768467\n",
      "% data missing in generation_gwh_2013 is: 100.0\n",
      "% data missing in generation_gwh_2014 is: 56.119073869900774\n",
      "% data missing in generation_gwh_2015 is: 53.47298787210585\n",
      "% data missing in generation_gwh_2016 is: 52.149944873208376\n",
      "% data missing in generation_gwh_2017 is: 51.48842337375965\n",
      "% data missing in generation_gwh_2018 is: 50.60639470782801\n",
      "% data missing in generation_gwh_2019 is: 100.0\n",
      "% data missing in generation_data_source is: 50.49614112458654\n",
      "% data missing in estimated_generation_gwh is: 100.0\n"
     ]
    }
   ],
   "source": [
    "#%age data missing\n",
    "for i in df.columns:\n",
    "    print('% data missing in',i,'is:',(df[i].isnull().sum()/df.shape[0])*100)"
   ]
  },
  {
   "cell_type": "code",
   "execution_count": 10,
   "id": "256bc4e3",
   "metadata": {},
   "outputs": [],
   "source": [
    "#filling the value in year\n",
    "year=['commissioning_year','year_of_capacity_data']\n",
    "for i in year:    \n",
    "    df[i] = df[i].fillna(df[i].mode()[0])"
   ]
  },
  {
   "cell_type": "code",
   "execution_count": 11,
   "id": "753e882f",
   "metadata": {},
   "outputs": [
    {
     "data": {
      "text/plain": [
       "country                      object\n",
       "country_long                 object\n",
       "name                         object\n",
       "gppd_idnr                    object\n",
       "capacity_mw                 float64\n",
       "latitude                    float64\n",
       "longitude                   float64\n",
       "primary_fuel                 object\n",
       "other_fuel1                  object\n",
       "other_fuel2                  object\n",
       "other_fuel3                 float64\n",
       "commissioning_year            int32\n",
       "owner                        object\n",
       "source                       object\n",
       "url                          object\n",
       "geolocation_source           object\n",
       "wepp_id                     float64\n",
       "year_of_capacity_data         int32\n",
       "generation_gwh_2013         float64\n",
       "generation_gwh_2014         float64\n",
       "generation_gwh_2015         float64\n",
       "generation_gwh_2016         float64\n",
       "generation_gwh_2017         float64\n",
       "generation_gwh_2018         float64\n",
       "generation_gwh_2019         float64\n",
       "generation_data_source       object\n",
       "estimated_generation_gwh    float64\n",
       "dtype: object"
      ]
     },
     "execution_count": 11,
     "metadata": {},
     "output_type": "execute_result"
    }
   ],
   "source": [
    "#converting float data type in yeat to int32\n",
    "year=['commissioning_year','year_of_capacity_data']\n",
    "for i in year:    \n",
    "    df[i]=df[i].astype('int32')\n",
    "df.dtypes    "
   ]
  },
  {
   "cell_type": "code",
   "execution_count": 12,
   "id": "82c2306f",
   "metadata": {
    "scrolled": false
   },
   "outputs": [],
   "source": [
    "#extracting the categorical part of gppd_inr\n",
    "from string import digits\n",
    "\n",
    "#Removing tab spaces\n",
    "df['gppd_idnr'] = df['gppd_idnr'].str.replace('\\t','')\n",
    "\n",
    "#Removing digits\n",
    "remove_digits = str.maketrans('', '', digits)\n",
    "df['gppd_idnr']= df['gppd_idnr'].str.translate(remove_digits)\n",
    "\n",
    "#Removing leading and trailling spaces\n",
    "df['gppd_idnr'] = df['gppd_idnr'].str.strip()"
   ]
  },
  {
   "cell_type": "code",
   "execution_count": 13,
   "id": "fe304375",
   "metadata": {},
   "outputs": [
    {
     "data": {
      "text/plain": [
       "array(['WRI', 'IND'], dtype=object)"
      ]
     },
     "execution_count": 13,
     "metadata": {},
     "output_type": "execute_result"
    }
   ],
   "source": [
    "df['gppd_idnr'].unique()"
   ]
  },
  {
   "cell_type": "code",
   "execution_count": 14,
   "id": "754d778f",
   "metadata": {
    "scrolled": true
   },
   "outputs": [],
   "source": [
    "#dropping columns unnecessary columns and columns with more than 90% of data missing\n",
    "\n",
    "df.drop(['country_long','name','other_fuel1','other_fuel2','other_fuel3','owner','url','source','wepp_id','geolocation_source','gppd_idnr','generation_data_source','estimated_generation_gwh','generation_gwh_2019','generation_gwh_2013'],axis=1,inplace=True)"
   ]
  },
  {
   "cell_type": "markdown",
   "id": "574ba08b",
   "metadata": {},
   "source": [
    "# Exploratory Data Analysis:"
   ]
  },
  {
   "cell_type": "code",
   "execution_count": 15,
   "id": "a9d1209e",
   "metadata": {
    "scrolled": false
   },
   "outputs": [
    {
     "data": {
      "image/png": "[encoded data removed]",
      "text/plain": [
       "<Figure size 432x288 with 1 Axes>"
      ]
     },
     "metadata": {
      "needs_background": "light"
     },
     "output_type": "display_data"
    },
    {
     "data": {
      "image/png": "[encoded data removed]",
      "text/plain": [
       "<Figure size 432x288 with 1 Axes>"
      ]
     },
     "metadata": {
      "needs_background": "light"
     },
     "output_type": "display_data"
    },
    {
     "data": {
      "image/png": "[encoded data removed]",
      "text/plain": [
       "<Figure size 432x288 with 1 Axes>"
      ]
     },
     "metadata": {
      "needs_background": "light"
     },
     "output_type": "display_data"
    },
    {
     "data": {
      "image/png": "[encoded data removed]",
      "text/plain": [
       "<Figure size 432x288 with 1 Axes>"
      ]
     },
     "metadata": {
      "needs_background": "light"
     },
     "output_type": "display_data"
    },
    {
     "data": {
      "image/png": "[encoded data removed]",
      "text/plain": [
       "<Figure size 432x288 with 1 Axes>"
      ]
     },
     "metadata": {
      "needs_background": "light"
     },
     "output_type": "display_data"
    },
    {
     "data": {
      "image/png": "[encoded data removed]",
      "text/plain": [
       "<Figure size 432x288 with 1 Axes>"
      ]
     },
     "metadata": {
      "needs_background": "light"
     },
     "output_type": "display_data"
    },
    {
     "data": {
      "image/png": "[encoded data removed]",
      "text/plain": [
       "<Figure size 432x288 with 1 Axes>"
      ]
     },
     "metadata": {
      "needs_background": "light"
     },
     "output_type": "display_data"
    },
    {
     "data": {
      "image/png": "[encoded data removed]",
      "text/plain": [
       "<Figure size 432x288 with 1 Axes>"
      ]
     },
     "metadata": {
      "needs_background": "light"
     },
     "output_type": "display_data"
    }
   ],
   "source": [
    "for i in df.columns:\n",
    "    if (df[i].dtypes=='float')|(df[i].dtypes=='int64'):\n",
    "        sns.boxplot(x=i,data=df)\n",
    "        plt.show()    "
   ]
  },
  {
   "cell_type": "markdown",
   "id": "708e58f3",
   "metadata": {},
   "source": [
    "Observation:\n",
    "\n",
    "1.Maximum electrical generating capacity in megawatts is around 5000.\n",
    "\n",
    "2.Maximum electricity generation in gigawatt-hours reported for the year 2014 is around 27000.\n",
    "\n",
    "3.Maximum electricity generation in gigawatt-hours reported for the year 2015 is around 30000.\n",
    "\n",
    "3.Maximum electricity generation in gigawatt-hours reported for the year 2016 is around 30000.\n",
    "\n",
    "4,3.Maximum electricity generation in gigawatt-hours reported for the year 2015 is around 35000.\n",
    "\n",
    "3.Maximum electricity generation in gigawatt-hours reported for the year 2015 is around 35000."
   ]
  },
  {
   "cell_type": "markdown",
   "id": "47247de4",
   "metadata": {},
   "source": [
    "# Univariate Analysis(Categorical Data):"
   ]
  },
  {
   "cell_type": "code",
   "execution_count": 17,
   "id": "4f8db8d7",
   "metadata": {},
   "outputs": [
    {
     "name": "stdout",
     "output_type": "stream",
     "text": [
      "================================country===================================\n",
      "IND    907\n",
      "Name: country, dtype: int64\n",
      "\n",
      "\n",
      "================================primary_fuel===================================\n",
      "Coal       258\n",
      "Hydro      251\n",
      "Solar      127\n",
      "Wind       123\n",
      "Gas         69\n",
      "Biomass     50\n",
      "Oil         20\n",
      "Nuclear      9\n",
      "Name: primary_fuel, dtype: int64\n",
      "\n",
      "\n"
     ]
    }
   ],
   "source": [
    "for i in df.columns:\n",
    "    if (df[i].dtypes=='object'):\n",
    "        print(f'================================{i}===================================')\n",
    "        print(df[i].value_counts())\n",
    "        print('\\n')"
   ]
  },
  {
   "cell_type": "markdown",
   "id": "04ef2f75",
   "metadata": {},
   "source": [
    "# Bivariate Analysis:"
   ]
  },
  {
   "cell_type": "code",
   "execution_count": 18,
   "id": "d0487113",
   "metadata": {},
   "outputs": [
    {
     "data": {
      "text/plain": [
       "IND    907\n",
       "Name: country, dtype: int64"
      ]
     },
     "execution_count": 18,
     "metadata": {},
     "output_type": "execute_result"
    }
   ],
   "source": [
    "pd.set_option('display.max_rows',167)\n",
    "df['country'].value_counts().head(167)\n"
   ]
  },
  {
   "cell_type": "code",
   "execution_count": 19,
   "id": "73d39c4f",
   "metadata": {},
   "outputs": [
    {
     "data": {
      "text/plain": [
       "array(['IND'], dtype=object)"
      ]
     },
     "execution_count": 19,
     "metadata": {},
     "output_type": "execute_result"
    }
   ],
   "source": [
    "df['country'].unique()"
   ]
  },
  {
   "cell_type": "code",
   "execution_count": 20,
   "id": "8a0c46f9",
   "metadata": {},
   "outputs": [
    {
     "data": {
      "text/plain": [
       "IND    907\n",
       "Name: country, dtype: int64"
      ]
     },
     "execution_count": 20,
     "metadata": {},
     "output_type": "execute_result"
    }
   ],
   "source": [
    "df['country'].value_counts()"
   ]
  },
  {
   "cell_type": "code",
   "execution_count": 21,
   "id": "54d092c5",
   "metadata": {},
   "outputs": [
    {
     "data": {
      "image/png": "[encoded data removed]",
      "text/plain": [
       "<Figure size 1440x360 with 1 Axes>"
      ]
     },
     "metadata": {
      "needs_background": "light"
     },
     "output_type": "display_data"
    },
    {
     "data": {
      "image/png": "[encoded data removed]",
      "text/plain": [
       "<Figure size 1440x360 with 1 Axes>"
      ]
     },
     "metadata": {
      "needs_background": "light"
     },
     "output_type": "display_data"
    },
    {
     "data": {
      "image/png": "[encoded data removed]",
      "text/plain": [
       "<Figure size 1440x360 with 1 Axes>"
      ]
     },
     "metadata": {
      "needs_background": "light"
     },
     "output_type": "display_data"
    }
   ],
   "source": [
    "cat=['country','commissioning_year','year_of_capacity_data']\n",
    "for i in cat:\n",
    "    plt.figure(figsize=(20,5))\n",
    "    plt.xticks(rotation=90)\n",
    "    sns.countplot(x=i,hue='primary_fuel',data=df)\n",
    "    plt.show()"
   ]
  },
  {
   "cell_type": "markdown",
   "id": "de32c3e9",
   "metadata": {},
   "source": [
    "Observation:\n",
    "    \n",
    "1.Maximum plant started operation around 2015.\n",
    "\n",
    "2.In the year 2019 the maximum capacity information was reported was for coal and hydro type of primary fuel."
   ]
  },
  {
   "cell_type": "code",
   "execution_count": 22,
   "id": "75001360",
   "metadata": {
    "scrolled": false
   },
   "outputs": [
    {
     "data": {
      "image/png": "[encoded data removed]",
      "text/plain": [
       "<Figure size 432x288 with 1 Axes>"
      ]
     },
     "metadata": {
      "needs_background": "light"
     },
     "output_type": "display_data"
    },
    {
     "data": {
      "image/png": "[encoded data removed]",
      "text/plain": [
       "<Figure size 432x288 with 1 Axes>"
      ]
     },
     "metadata": {
      "needs_background": "light"
     },
     "output_type": "display_data"
    },
    {
     "data": {
      "image/png": "[encoded data removed]",
      "text/plain": [
       "<Figure size 432x288 with 1 Axes>"
      ]
     },
     "metadata": {
      "needs_background": "light"
     },
     "output_type": "display_data"
    },
    {
     "data": {
      "image/png": "[encoded data removed]",
      "text/plain": [
       "<Figure size 432x288 with 1 Axes>"
      ]
     },
     "metadata": {
      "needs_background": "light"
     },
     "output_type": "display_data"
    },
    {
     "data": {
      "image/png": "[encoded data removed]",
      "text/plain": [
       "<Figure size 432x288 with 1 Axes>"
      ]
     },
     "metadata": {
      "needs_background": "light"
     },
     "output_type": "display_data"
    },
    {
     "data": {
      "image/png": "[encoded data removed]",
      "text/plain": [
       "<Figure size 432x288 with 1 Axes>"
      ]
     },
     "metadata": {
      "needs_background": "light"
     },
     "output_type": "display_data"
    },
    {
     "data": {
      "image/png": "[encoded data removed]",
      "text/plain": [
       "<Figure size 432x288 with 1 Axes>"
      ]
     },
     "metadata": {
      "needs_background": "light"
     },
     "output_type": "display_data"
    },
    {
     "data": {
      "image/png": "[encoded data removed]",
      "text/plain": [
       "<Figure size 432x288 with 1 Axes>"
      ]
     },
     "metadata": {
      "needs_background": "light"
     },
     "output_type": "display_data"
    }
   ],
   "source": [
    "for i in df.columns:\n",
    "    if (df[i].dtypes=='float')|(df[i].dtypes=='int64'):\n",
    "        sns.scatterplot(y='capacity_mw',x=i,data=df)\n",
    "        plt.show()                               "
   ]
  },
  {
   "cell_type": "markdown",
   "id": "574a0e35",
   "metadata": {},
   "source": [
    "Observation:\n",
    "\n",
    "1.Longitude and latitude dont show any trend with the target.\n",
    "\n",
    "2.With increase in generation_gwh the capacity_mw increases"
   ]
  },
  {
   "cell_type": "markdown",
   "id": "9dbc53dc",
   "metadata": {},
   "source": [
    "# Data Set Description"
   ]
  },
  {
   "cell_type": "code",
   "execution_count": 23,
   "id": "d22e1ee7",
   "metadata": {},
   "outputs": [
    {
     "data": {
      "text/html": [
       "<div>\n",
       "<style scoped>\n",
       "    .dataframe tbody tr th:only-of-type {\n",
       "        vertical-align: middle;\n",
       "    }\n",
       "\n",
       "    .dataframe tbody tr th {\n",
       "        vertical-align: top;\n",
       "    }\n",
       "\n",
       "    .dataframe thead th {\n",
       "        text-align: right;\n",
       "    }\n",
       "</style>\n",
       "<table border=\"1\" class=\"dataframe\">\n",
       "  <thead>\n",
       "    <tr style=\"text-align: right;\">\n",
       "      <th></th>\n",
       "      <th>capacity_mw</th>\n",
       "      <th>latitude</th>\n",
       "      <th>longitude</th>\n",
       "      <th>commissioning_year</th>\n",
       "      <th>year_of_capacity_data</th>\n",
       "      <th>generation_gwh_2014</th>\n",
       "      <th>generation_gwh_2015</th>\n",
       "      <th>generation_gwh_2016</th>\n",
       "      <th>generation_gwh_2017</th>\n",
       "      <th>generation_gwh_2018</th>\n",
       "    </tr>\n",
       "  </thead>\n",
       "  <tbody>\n",
       "    <tr>\n",
       "      <th>count</th>\n",
       "      <td>907.000000</td>\n",
       "      <td>861.000000</td>\n",
       "      <td>861.000000</td>\n",
       "      <td>907.000000</td>\n",
       "      <td>907.0</td>\n",
       "      <td>398.000000</td>\n",
       "      <td>422.000000</td>\n",
       "      <td>434.000000</td>\n",
       "      <td>440.000000</td>\n",
       "      <td>448.000000</td>\n",
       "    </tr>\n",
       "    <tr>\n",
       "      <th>mean</th>\n",
       "      <td>326.223755</td>\n",
       "      <td>21.197918</td>\n",
       "      <td>77.464907</td>\n",
       "      <td>2004.594267</td>\n",
       "      <td>2019.0</td>\n",
       "      <td>2431.823590</td>\n",
       "      <td>2428.226946</td>\n",
       "      <td>2467.936859</td>\n",
       "      <td>2547.759305</td>\n",
       "      <td>2600.804099</td>\n",
       "    </tr>\n",
       "    <tr>\n",
       "      <th>std</th>\n",
       "      <td>590.085456</td>\n",
       "      <td>6.239612</td>\n",
       "      <td>4.939316</td>\n",
       "      <td>15.734928</td>\n",
       "      <td>0.0</td>\n",
       "      <td>4026.440035</td>\n",
       "      <td>4194.596959</td>\n",
       "      <td>4162.884308</td>\n",
       "      <td>4196.991169</td>\n",
       "      <td>4314.880456</td>\n",
       "    </tr>\n",
       "    <tr>\n",
       "      <th>min</th>\n",
       "      <td>0.000000</td>\n",
       "      <td>8.168900</td>\n",
       "      <td>68.644700</td>\n",
       "      <td>1927.000000</td>\n",
       "      <td>2019.0</td>\n",
       "      <td>0.000000</td>\n",
       "      <td>0.000000</td>\n",
       "      <td>0.000000</td>\n",
       "      <td>0.000000</td>\n",
       "      <td>0.000000</td>\n",
       "    </tr>\n",
       "    <tr>\n",
       "      <th>25%</th>\n",
       "      <td>16.725000</td>\n",
       "      <td>16.773900</td>\n",
       "      <td>74.256200</td>\n",
       "      <td>1998.000000</td>\n",
       "      <td>2019.0</td>\n",
       "      <td>223.557672</td>\n",
       "      <td>176.381063</td>\n",
       "      <td>188.285252</td>\n",
       "      <td>177.874930</td>\n",
       "      <td>193.378250</td>\n",
       "    </tr>\n",
       "    <tr>\n",
       "      <th>50%</th>\n",
       "      <td>59.200000</td>\n",
       "      <td>21.780000</td>\n",
       "      <td>76.719500</td>\n",
       "      <td>2014.000000</td>\n",
       "      <td>2019.0</td>\n",
       "      <td>801.123775</td>\n",
       "      <td>711.181225</td>\n",
       "      <td>737.205450</td>\n",
       "      <td>817.977250</td>\n",
       "      <td>751.644375</td>\n",
       "    </tr>\n",
       "    <tr>\n",
       "      <th>75%</th>\n",
       "      <td>385.250000</td>\n",
       "      <td>25.512400</td>\n",
       "      <td>79.440800</td>\n",
       "      <td>2015.000000</td>\n",
       "      <td>2019.0</td>\n",
       "      <td>3035.306250</td>\n",
       "      <td>3084.121250</td>\n",
       "      <td>3282.861313</td>\n",
       "      <td>3275.690475</td>\n",
       "      <td>3143.535900</td>\n",
       "    </tr>\n",
       "    <tr>\n",
       "      <th>max</th>\n",
       "      <td>4760.000000</td>\n",
       "      <td>34.649000</td>\n",
       "      <td>95.408000</td>\n",
       "      <td>2018.000000</td>\n",
       "      <td>2019.0</td>\n",
       "      <td>28127.000000</td>\n",
       "      <td>30539.000000</td>\n",
       "      <td>30015.000000</td>\n",
       "      <td>35116.000000</td>\n",
       "      <td>35136.000000</td>\n",
       "    </tr>\n",
       "  </tbody>\n",
       "</table>\n",
       "</div>"
      ],
      "text/plain": [
       "       capacity_mw    latitude   longitude  commissioning_year  \\\n",
       "count   907.000000  861.000000  861.000000          907.000000   \n",
       "mean    326.223755   21.197918   77.464907         2004.594267   \n",
       "std     590.085456    6.239612    4.939316           15.734928   \n",
       "min       0.000000    8.168900   68.644700         1927.000000   \n",
       "25%      16.725000   16.773900   74.256200         1998.000000   \n",
       "50%      59.200000   21.780000   76.719500         2014.000000   \n",
       "75%     385.250000   25.512400   79.440800         2015.000000   \n",
       "max    4760.000000   34.649000   95.408000         2018.000000   \n",
       "\n",
       "       year_of_capacity_data  generation_gwh_2014  generation_gwh_2015  \\\n",
       "count                  907.0           398.000000           422.000000   \n",
       "mean                  2019.0          2431.823590          2428.226946   \n",
       "std                      0.0          4026.440035          4194.596959   \n",
       "min                   2019.0             0.000000             0.000000   \n",
       "25%                   2019.0           223.557672           176.381063   \n",
       "50%                   2019.0           801.123775           711.181225   \n",
       "75%                   2019.0          3035.306250          3084.121250   \n",
       "max                   2019.0         28127.000000         30539.000000   \n",
       "\n",
       "       generation_gwh_2016  generation_gwh_2017  generation_gwh_2018  \n",
       "count           434.000000           440.000000           448.000000  \n",
       "mean           2467.936859          2547.759305          2600.804099  \n",
       "std            4162.884308          4196.991169          4314.880456  \n",
       "min               0.000000             0.000000             0.000000  \n",
       "25%             188.285252           177.874930           193.378250  \n",
       "50%             737.205450           817.977250           751.644375  \n",
       "75%            3282.861313          3275.690475          3143.535900  \n",
       "max           30015.000000         35116.000000         35136.000000  "
      ]
     },
     "execution_count": 23,
     "metadata": {},
     "output_type": "execute_result"
    }
   ],
   "source": [
    "df.describe()"
   ]
  },
  {
   "cell_type": "code",
   "execution_count": 24,
   "id": "8415b2d5",
   "metadata": {
    "scrolled": false
   },
   "outputs": [
    {
     "data": {
      "image/png": "[encoded data removed]",
      "text/plain": [
       "<Figure size 1080x504 with 2 Axes>"
      ]
     },
     "metadata": {
      "needs_background": "light"
     },
     "output_type": "display_data"
    }
   ],
   "source": [
    "#visualisation\n",
    "plt.figure(figsize=(15,7))\n",
    "sns.heatmap(round(df.describe()[1:].transpose(),2),annot=True,linewidth=1,linecolor='yellow',fmt='.2f')\n",
    "plt.show()"
   ]
  },
  {
   "cell_type": "markdown",
   "id": "e1c4bbb2",
   "metadata": {},
   "source": [
    "Observation:\n",
    "Outliers might be in all generation_gwh feature as there is huge difference between 75% and max.\n",
    "\n",
    "Also mean is greater than the median indicating right skewed data."
   ]
  },
  {
   "cell_type": "markdown",
   "id": "ec787837",
   "metadata": {},
   "source": [
    "# Filling Missing Values"
   ]
  },
  {
   "cell_type": "code",
   "execution_count": 25,
   "id": "79e58a18",
   "metadata": {},
   "outputs": [
    {
     "data": {
      "text/html": [
       "<div>\n",
       "<style scoped>\n",
       "    .dataframe tbody tr th:only-of-type {\n",
       "        vertical-align: middle;\n",
       "    }\n",
       "\n",
       "    .dataframe tbody tr th {\n",
       "        vertical-align: top;\n",
       "    }\n",
       "\n",
       "    .dataframe thead th {\n",
       "        text-align: right;\n",
       "    }\n",
       "</style>\n",
       "<table border=\"1\" class=\"dataframe\">\n",
       "  <thead>\n",
       "    <tr style=\"text-align: right;\">\n",
       "      <th></th>\n",
       "      <th>country</th>\n",
       "      <th>capacity_mw</th>\n",
       "      <th>latitude</th>\n",
       "      <th>longitude</th>\n",
       "      <th>primary_fuel</th>\n",
       "      <th>commissioning_year</th>\n",
       "      <th>year_of_capacity_data</th>\n",
       "      <th>generation_gwh_2014</th>\n",
       "      <th>generation_gwh_2015</th>\n",
       "      <th>generation_gwh_2016</th>\n",
       "      <th>generation_gwh_2017</th>\n",
       "      <th>generation_gwh_2018</th>\n",
       "    </tr>\n",
       "  </thead>\n",
       "  <tbody>\n",
       "    <tr>\n",
       "      <th>0</th>\n",
       "      <td>IND</td>\n",
       "      <td>2.5</td>\n",
       "      <td>28.1839</td>\n",
       "      <td>73.2407</td>\n",
       "      <td>Solar</td>\n",
       "      <td>2011</td>\n",
       "      <td>2019</td>\n",
       "      <td>2431.823590</td>\n",
       "      <td>2428.226946</td>\n",
       "      <td>2467.936859</td>\n",
       "      <td>2547.759305</td>\n",
       "      <td>2600.804099</td>\n",
       "    </tr>\n",
       "    <tr>\n",
       "      <th>1</th>\n",
       "      <td>IND</td>\n",
       "      <td>98.0</td>\n",
       "      <td>24.7663</td>\n",
       "      <td>74.6090</td>\n",
       "      <td>Coal</td>\n",
       "      <td>2015</td>\n",
       "      <td>2019</td>\n",
       "      <td>2431.823590</td>\n",
       "      <td>2428.226946</td>\n",
       "      <td>2467.936859</td>\n",
       "      <td>2547.759305</td>\n",
       "      <td>2600.804099</td>\n",
       "    </tr>\n",
       "    <tr>\n",
       "      <th>2</th>\n",
       "      <td>IND</td>\n",
       "      <td>39.2</td>\n",
       "      <td>21.9038</td>\n",
       "      <td>69.3732</td>\n",
       "      <td>Wind</td>\n",
       "      <td>2015</td>\n",
       "      <td>2019</td>\n",
       "      <td>2431.823590</td>\n",
       "      <td>2428.226946</td>\n",
       "      <td>2467.936859</td>\n",
       "      <td>2547.759305</td>\n",
       "      <td>2600.804099</td>\n",
       "    </tr>\n",
       "    <tr>\n",
       "      <th>3</th>\n",
       "      <td>IND</td>\n",
       "      <td>135.0</td>\n",
       "      <td>23.8712</td>\n",
       "      <td>91.3602</td>\n",
       "      <td>Gas</td>\n",
       "      <td>2004</td>\n",
       "      <td>2019</td>\n",
       "      <td>617.789264</td>\n",
       "      <td>843.747000</td>\n",
       "      <td>886.004428</td>\n",
       "      <td>663.774500</td>\n",
       "      <td>626.239128</td>\n",
       "    </tr>\n",
       "    <tr>\n",
       "      <th>4</th>\n",
       "      <td>IND</td>\n",
       "      <td>1800.0</td>\n",
       "      <td>21.9603</td>\n",
       "      <td>82.4091</td>\n",
       "      <td>Coal</td>\n",
       "      <td>2015</td>\n",
       "      <td>2019</td>\n",
       "      <td>3035.550000</td>\n",
       "      <td>5916.370000</td>\n",
       "      <td>6243.000000</td>\n",
       "      <td>5385.579736</td>\n",
       "      <td>7279.000000</td>\n",
       "    </tr>\n",
       "    <tr>\n",
       "      <th>...</th>\n",
       "      <td>...</td>\n",
       "      <td>...</td>\n",
       "      <td>...</td>\n",
       "      <td>...</td>\n",
       "      <td>...</td>\n",
       "      <td>...</td>\n",
       "      <td>...</td>\n",
       "      <td>...</td>\n",
       "      <td>...</td>\n",
       "      <td>...</td>\n",
       "      <td>...</td>\n",
       "      <td>...</td>\n",
       "    </tr>\n",
       "    <tr>\n",
       "      <th>902</th>\n",
       "      <td>IND</td>\n",
       "      <td>1600.0</td>\n",
       "      <td>16.2949</td>\n",
       "      <td>77.3568</td>\n",
       "      <td>Coal</td>\n",
       "      <td>2016</td>\n",
       "      <td>2019</td>\n",
       "      <td>2431.823590</td>\n",
       "      <td>0.994875</td>\n",
       "      <td>233.596650</td>\n",
       "      <td>865.400000</td>\n",
       "      <td>686.500000</td>\n",
       "    </tr>\n",
       "    <tr>\n",
       "      <th>903</th>\n",
       "      <td>IND</td>\n",
       "      <td>3.0</td>\n",
       "      <td>12.8932</td>\n",
       "      <td>78.1654</td>\n",
       "      <td>Solar</td>\n",
       "      <td>2015</td>\n",
       "      <td>2019</td>\n",
       "      <td>2431.823590</td>\n",
       "      <td>2428.226946</td>\n",
       "      <td>2467.936859</td>\n",
       "      <td>2547.759305</td>\n",
       "      <td>2600.804099</td>\n",
       "    </tr>\n",
       "    <tr>\n",
       "      <th>904</th>\n",
       "      <td>IND</td>\n",
       "      <td>25.5</td>\n",
       "      <td>15.2758</td>\n",
       "      <td>75.5811</td>\n",
       "      <td>Wind</td>\n",
       "      <td>2015</td>\n",
       "      <td>2019</td>\n",
       "      <td>2431.823590</td>\n",
       "      <td>2428.226946</td>\n",
       "      <td>2467.936859</td>\n",
       "      <td>2547.759305</td>\n",
       "      <td>2600.804099</td>\n",
       "    </tr>\n",
       "    <tr>\n",
       "      <th>905</th>\n",
       "      <td>IND</td>\n",
       "      <td>80.0</td>\n",
       "      <td>24.3500</td>\n",
       "      <td>73.7477</td>\n",
       "      <td>Coal</td>\n",
       "      <td>2015</td>\n",
       "      <td>2019</td>\n",
       "      <td>2431.823590</td>\n",
       "      <td>2428.226946</td>\n",
       "      <td>2467.936859</td>\n",
       "      <td>2547.759305</td>\n",
       "      <td>2600.804099</td>\n",
       "    </tr>\n",
       "    <tr>\n",
       "      <th>906</th>\n",
       "      <td>IND</td>\n",
       "      <td>16.5</td>\n",
       "      <td>9.9344</td>\n",
       "      <td>77.4768</td>\n",
       "      <td>Wind</td>\n",
       "      <td>2015</td>\n",
       "      <td>2019</td>\n",
       "      <td>2431.823590</td>\n",
       "      <td>2428.226946</td>\n",
       "      <td>2467.936859</td>\n",
       "      <td>2547.759305</td>\n",
       "      <td>2600.804099</td>\n",
       "    </tr>\n",
       "  </tbody>\n",
       "</table>\n",
       "<p>907 rows × 12 columns</p>\n",
       "</div>"
      ],
      "text/plain": [
       "    country  capacity_mw  latitude  longitude primary_fuel  \\\n",
       "0       IND          2.5   28.1839    73.2407        Solar   \n",
       "1       IND         98.0   24.7663    74.6090         Coal   \n",
       "2       IND         39.2   21.9038    69.3732         Wind   \n",
       "3       IND        135.0   23.8712    91.3602          Gas   \n",
       "4       IND       1800.0   21.9603    82.4091         Coal   \n",
       "..      ...          ...       ...        ...          ...   \n",
       "902     IND       1600.0   16.2949    77.3568         Coal   \n",
       "903     IND          3.0   12.8932    78.1654        Solar   \n",
       "904     IND         25.5   15.2758    75.5811         Wind   \n",
       "905     IND         80.0   24.3500    73.7477         Coal   \n",
       "906     IND         16.5    9.9344    77.4768         Wind   \n",
       "\n",
       "     commissioning_year  year_of_capacity_data  generation_gwh_2014  \\\n",
       "0                  2011                   2019          2431.823590   \n",
       "1                  2015                   2019          2431.823590   \n",
       "2                  2015                   2019          2431.823590   \n",
       "3                  2004                   2019           617.789264   \n",
       "4                  2015                   2019          3035.550000   \n",
       "..                  ...                    ...                  ...   \n",
       "902                2016                   2019          2431.823590   \n",
       "903                2015                   2019          2431.823590   \n",
       "904                2015                   2019          2431.823590   \n",
       "905                2015                   2019          2431.823590   \n",
       "906                2015                   2019          2431.823590   \n",
       "\n",
       "     generation_gwh_2015  generation_gwh_2016  generation_gwh_2017  \\\n",
       "0            2428.226946          2467.936859          2547.759305   \n",
       "1            2428.226946          2467.936859          2547.759305   \n",
       "2            2428.226946          2467.936859          2547.759305   \n",
       "3             843.747000           886.004428           663.774500   \n",
       "4            5916.370000          6243.000000          5385.579736   \n",
       "..                   ...                  ...                  ...   \n",
       "902             0.994875           233.596650           865.400000   \n",
       "903          2428.226946          2467.936859          2547.759305   \n",
       "904          2428.226946          2467.936859          2547.759305   \n",
       "905          2428.226946          2467.936859          2547.759305   \n",
       "906          2428.226946          2467.936859          2547.759305   \n",
       "\n",
       "     generation_gwh_2018  \n",
       "0            2600.804099  \n",
       "1            2600.804099  \n",
       "2            2600.804099  \n",
       "3             626.239128  \n",
       "4            7279.000000  \n",
       "..                   ...  \n",
       "902           686.500000  \n",
       "903          2600.804099  \n",
       "904          2600.804099  \n",
       "905          2600.804099  \n",
       "906          2600.804099  \n",
       "\n",
       "[907 rows x 12 columns]"
      ]
     },
     "execution_count": 25,
     "metadata": {},
     "output_type": "execute_result"
    }
   ],
   "source": [
    "#filling missing numerical value\n",
    "for i in df.columns:\n",
    "    if (df[i].dtypes=='float')|(df[i].dtypes=='int64'):\n",
    "        df[i]=df[i].fillna(np.mean(df[i]))\n",
    "df"
   ]
  },
  {
   "cell_type": "code",
   "execution_count": 26,
   "id": "74dbc371",
   "metadata": {},
   "outputs": [
    {
     "data": {
      "text/html": [
       "<div>\n",
       "<style scoped>\n",
       "    .dataframe tbody tr th:only-of-type {\n",
       "        vertical-align: middle;\n",
       "    }\n",
       "\n",
       "    .dataframe tbody tr th {\n",
       "        vertical-align: top;\n",
       "    }\n",
       "\n",
       "    .dataframe thead th {\n",
       "        text-align: right;\n",
       "    }\n",
       "</style>\n",
       "<table border=\"1\" class=\"dataframe\">\n",
       "  <thead>\n",
       "    <tr style=\"text-align: right;\">\n",
       "      <th></th>\n",
       "      <th>country</th>\n",
       "      <th>capacity_mw</th>\n",
       "      <th>latitude</th>\n",
       "      <th>longitude</th>\n",
       "      <th>primary_fuel</th>\n",
       "      <th>commissioning_year</th>\n",
       "      <th>year_of_capacity_data</th>\n",
       "      <th>generation_gwh_2014</th>\n",
       "      <th>generation_gwh_2015</th>\n",
       "      <th>generation_gwh_2016</th>\n",
       "      <th>generation_gwh_2017</th>\n",
       "      <th>generation_gwh_2018</th>\n",
       "    </tr>\n",
       "  </thead>\n",
       "  <tbody>\n",
       "    <tr>\n",
       "      <th>0</th>\n",
       "      <td>IND</td>\n",
       "      <td>2.5</td>\n",
       "      <td>28.1839</td>\n",
       "      <td>73.2407</td>\n",
       "      <td>Solar</td>\n",
       "      <td>2011</td>\n",
       "      <td>2019</td>\n",
       "      <td>2431.823590</td>\n",
       "      <td>2428.226946</td>\n",
       "      <td>2467.936859</td>\n",
       "      <td>2547.759305</td>\n",
       "      <td>2600.804099</td>\n",
       "    </tr>\n",
       "    <tr>\n",
       "      <th>1</th>\n",
       "      <td>IND</td>\n",
       "      <td>98.0</td>\n",
       "      <td>24.7663</td>\n",
       "      <td>74.6090</td>\n",
       "      <td>Coal</td>\n",
       "      <td>2015</td>\n",
       "      <td>2019</td>\n",
       "      <td>2431.823590</td>\n",
       "      <td>2428.226946</td>\n",
       "      <td>2467.936859</td>\n",
       "      <td>2547.759305</td>\n",
       "      <td>2600.804099</td>\n",
       "    </tr>\n",
       "    <tr>\n",
       "      <th>2</th>\n",
       "      <td>IND</td>\n",
       "      <td>39.2</td>\n",
       "      <td>21.9038</td>\n",
       "      <td>69.3732</td>\n",
       "      <td>Wind</td>\n",
       "      <td>2015</td>\n",
       "      <td>2019</td>\n",
       "      <td>2431.823590</td>\n",
       "      <td>2428.226946</td>\n",
       "      <td>2467.936859</td>\n",
       "      <td>2547.759305</td>\n",
       "      <td>2600.804099</td>\n",
       "    </tr>\n",
       "    <tr>\n",
       "      <th>3</th>\n",
       "      <td>IND</td>\n",
       "      <td>135.0</td>\n",
       "      <td>23.8712</td>\n",
       "      <td>91.3602</td>\n",
       "      <td>Gas</td>\n",
       "      <td>2004</td>\n",
       "      <td>2019</td>\n",
       "      <td>617.789264</td>\n",
       "      <td>843.747000</td>\n",
       "      <td>886.004428</td>\n",
       "      <td>663.774500</td>\n",
       "      <td>626.239128</td>\n",
       "    </tr>\n",
       "    <tr>\n",
       "      <th>4</th>\n",
       "      <td>IND</td>\n",
       "      <td>1800.0</td>\n",
       "      <td>21.9603</td>\n",
       "      <td>82.4091</td>\n",
       "      <td>Coal</td>\n",
       "      <td>2015</td>\n",
       "      <td>2019</td>\n",
       "      <td>3035.550000</td>\n",
       "      <td>5916.370000</td>\n",
       "      <td>6243.000000</td>\n",
       "      <td>5385.579736</td>\n",
       "      <td>7279.000000</td>\n",
       "    </tr>\n",
       "    <tr>\n",
       "      <th>...</th>\n",
       "      <td>...</td>\n",
       "      <td>...</td>\n",
       "      <td>...</td>\n",
       "      <td>...</td>\n",
       "      <td>...</td>\n",
       "      <td>...</td>\n",
       "      <td>...</td>\n",
       "      <td>...</td>\n",
       "      <td>...</td>\n",
       "      <td>...</td>\n",
       "      <td>...</td>\n",
       "      <td>...</td>\n",
       "    </tr>\n",
       "    <tr>\n",
       "      <th>902</th>\n",
       "      <td>IND</td>\n",
       "      <td>1600.0</td>\n",
       "      <td>16.2949</td>\n",
       "      <td>77.3568</td>\n",
       "      <td>Coal</td>\n",
       "      <td>2016</td>\n",
       "      <td>2019</td>\n",
       "      <td>2431.823590</td>\n",
       "      <td>0.994875</td>\n",
       "      <td>233.596650</td>\n",
       "      <td>865.400000</td>\n",
       "      <td>686.500000</td>\n",
       "    </tr>\n",
       "    <tr>\n",
       "      <th>903</th>\n",
       "      <td>IND</td>\n",
       "      <td>3.0</td>\n",
       "      <td>12.8932</td>\n",
       "      <td>78.1654</td>\n",
       "      <td>Solar</td>\n",
       "      <td>2015</td>\n",
       "      <td>2019</td>\n",
       "      <td>2431.823590</td>\n",
       "      <td>2428.226946</td>\n",
       "      <td>2467.936859</td>\n",
       "      <td>2547.759305</td>\n",
       "      <td>2600.804099</td>\n",
       "    </tr>\n",
       "    <tr>\n",
       "      <th>904</th>\n",
       "      <td>IND</td>\n",
       "      <td>25.5</td>\n",
       "      <td>15.2758</td>\n",
       "      <td>75.5811</td>\n",
       "      <td>Wind</td>\n",
       "      <td>2015</td>\n",
       "      <td>2019</td>\n",
       "      <td>2431.823590</td>\n",
       "      <td>2428.226946</td>\n",
       "      <td>2467.936859</td>\n",
       "      <td>2547.759305</td>\n",
       "      <td>2600.804099</td>\n",
       "    </tr>\n",
       "    <tr>\n",
       "      <th>905</th>\n",
       "      <td>IND</td>\n",
       "      <td>80.0</td>\n",
       "      <td>24.3500</td>\n",
       "      <td>73.7477</td>\n",
       "      <td>Coal</td>\n",
       "      <td>2015</td>\n",
       "      <td>2019</td>\n",
       "      <td>2431.823590</td>\n",
       "      <td>2428.226946</td>\n",
       "      <td>2467.936859</td>\n",
       "      <td>2547.759305</td>\n",
       "      <td>2600.804099</td>\n",
       "    </tr>\n",
       "    <tr>\n",
       "      <th>906</th>\n",
       "      <td>IND</td>\n",
       "      <td>16.5</td>\n",
       "      <td>9.9344</td>\n",
       "      <td>77.4768</td>\n",
       "      <td>Wind</td>\n",
       "      <td>2015</td>\n",
       "      <td>2019</td>\n",
       "      <td>2431.823590</td>\n",
       "      <td>2428.226946</td>\n",
       "      <td>2467.936859</td>\n",
       "      <td>2547.759305</td>\n",
       "      <td>2600.804099</td>\n",
       "    </tr>\n",
       "  </tbody>\n",
       "</table>\n",
       "<p>907 rows × 12 columns</p>\n",
       "</div>"
      ],
      "text/plain": [
       "    country  capacity_mw  latitude  longitude primary_fuel  \\\n",
       "0       IND          2.5   28.1839    73.2407        Solar   \n",
       "1       IND         98.0   24.7663    74.6090         Coal   \n",
       "2       IND         39.2   21.9038    69.3732         Wind   \n",
       "3       IND        135.0   23.8712    91.3602          Gas   \n",
       "4       IND       1800.0   21.9603    82.4091         Coal   \n",
       "..      ...          ...       ...        ...          ...   \n",
       "902     IND       1600.0   16.2949    77.3568         Coal   \n",
       "903     IND          3.0   12.8932    78.1654        Solar   \n",
       "904     IND         25.5   15.2758    75.5811         Wind   \n",
       "905     IND         80.0   24.3500    73.7477         Coal   \n",
       "906     IND         16.5    9.9344    77.4768         Wind   \n",
       "\n",
       "     commissioning_year  year_of_capacity_data  generation_gwh_2014  \\\n",
       "0                  2011                   2019          2431.823590   \n",
       "1                  2015                   2019          2431.823590   \n",
       "2                  2015                   2019          2431.823590   \n",
       "3                  2004                   2019           617.789264   \n",
       "4                  2015                   2019          3035.550000   \n",
       "..                  ...                    ...                  ...   \n",
       "902                2016                   2019          2431.823590   \n",
       "903                2015                   2019          2431.823590   \n",
       "904                2015                   2019          2431.823590   \n",
       "905                2015                   2019          2431.823590   \n",
       "906                2015                   2019          2431.823590   \n",
       "\n",
       "     generation_gwh_2015  generation_gwh_2016  generation_gwh_2017  \\\n",
       "0            2428.226946          2467.936859          2547.759305   \n",
       "1            2428.226946          2467.936859          2547.759305   \n",
       "2            2428.226946          2467.936859          2547.759305   \n",
       "3             843.747000           886.004428           663.774500   \n",
       "4            5916.370000          6243.000000          5385.579736   \n",
       "..                   ...                  ...                  ...   \n",
       "902             0.994875           233.596650           865.400000   \n",
       "903          2428.226946          2467.936859          2547.759305   \n",
       "904          2428.226946          2467.936859          2547.759305   \n",
       "905          2428.226946          2467.936859          2547.759305   \n",
       "906          2428.226946          2467.936859          2547.759305   \n",
       "\n",
       "     generation_gwh_2018  \n",
       "0            2600.804099  \n",
       "1            2600.804099  \n",
       "2            2600.804099  \n",
       "3             626.239128  \n",
       "4            7279.000000  \n",
       "..                   ...  \n",
       "902           686.500000  \n",
       "903          2600.804099  \n",
       "904          2600.804099  \n",
       "905          2600.804099  \n",
       "906          2600.804099  \n",
       "\n",
       "[907 rows x 12 columns]"
      ]
     },
     "execution_count": 26,
     "metadata": {},
     "output_type": "execute_result"
    }
   ],
   "source": [
    "#filling missing categoical value\n",
    "for i in df.columns:\n",
    "    if (df[i].dtypes=='object'):\n",
    "        df[i] = df[i].fillna(df[i].mode()[0])\n",
    "df"
   ]
  },
  {
   "cell_type": "markdown",
   "id": "3fc7cb60",
   "metadata": {},
   "source": [
    "# Label Encoding target column"
   ]
  },
  {
   "cell_type": "code",
   "execution_count": 28,
   "id": "c9a056b3",
   "metadata": {},
   "outputs": [],
   "source": [
    "from sklearn.preprocessing import LabelEncoder\n",
    "le=LabelEncoder()\n",
    "\n",
    "df['primary_fuel']=le.fit_transform(df['primary_fuel'].values.reshape(-1,1))"
   ]
  },
  {
   "cell_type": "markdown",
   "id": "4b71fa28",
   "metadata": {},
   "source": [
    "# Correlation"
   ]
  },
  {
   "cell_type": "code",
   "execution_count": 29,
   "id": "e435a7c8",
   "metadata": {},
   "outputs": [
    {
     "data": {
      "text/plain": [
       "primary_fuel            -0.380395\n",
       "commissioning_year      -0.004072\n",
       "latitude                 0.050984\n",
       "longitude                0.195882\n",
       "generation_gwh_2014      0.694350\n",
       "generation_gwh_2015      0.711190\n",
       "generation_gwh_2016      0.742221\n",
       "generation_gwh_2017      0.757585\n",
       "generation_gwh_2018      0.773456\n",
       "capacity_mw              1.000000\n",
       "year_of_capacity_data         NaN\n",
       "Name: capacity_mw, dtype: float64"
      ]
     },
     "execution_count": 29,
     "metadata": {},
     "output_type": "execute_result"
    }
   ],
   "source": [
    "df.corr()['capacity_mw'].sort_values()"
   ]
  },
  {
   "cell_type": "code",
   "execution_count": 30,
   "id": "dac581b2",
   "metadata": {
    "scrolled": true
   },
   "outputs": [
    {
     "data": {
      "text/plain": [
       "<AxesSubplot:>"
      ]
     },
     "execution_count": 30,
     "metadata": {},
     "output_type": "execute_result"
    },
    {
     "data": {
      "image/png": "[encoded data removed]",
      "text/plain": [
       "<Figure size 1584x504 with 2 Axes>"
      ]
     },
     "metadata": {
      "needs_background": "light"
     },
     "output_type": "display_data"
    }
   ],
   "source": [
    "plt.figure(figsize=(22,7))\n",
    "sns.heatmap(df.corr(),annot=True,fmt='0.2f',linecolor='yellow')"
   ]
  },
  {
   "cell_type": "markdown",
   "id": "3900d9c0",
   "metadata": {},
   "source": [
    "Observation:\n",
    "    \n",
    "capacity_mw is highly correlated with generation_gwh_2018 and least with latitude."
   ]
  },
  {
   "cell_type": "markdown",
   "id": "d9fd0a35",
   "metadata": {},
   "source": [
    "# Checking Skewness"
   ]
  },
  {
   "cell_type": "code",
   "execution_count": 31,
   "id": "915f316a",
   "metadata": {},
   "outputs": [
    {
     "data": {
      "text/plain": [
       "capacity_mw              3.123576\n",
       "latitude                -0.149698\n",
       "longitude                1.141881\n",
       "primary_fuel             0.472251\n",
       "commissioning_year      -1.714873\n",
       "year_of_capacity_data    0.000000\n",
       "generation_gwh_2014      5.035446\n",
       "generation_gwh_2015      5.364134\n",
       "generation_gwh_2016      5.068427\n",
       "generation_gwh_2017      5.110952\n",
       "generation_gwh_2018      4.937907\n",
       "dtype: float64"
      ]
     },
     "execution_count": 31,
     "metadata": {},
     "output_type": "execute_result"
    }
   ],
   "source": [
    "df.skew()"
   ]
  },
  {
   "cell_type": "code",
   "execution_count": 32,
   "id": "526f96d8",
   "metadata": {},
   "outputs": [
    {
     "data": {
      "image/png": "[encoded data removed]",
      "text/plain": [
       "<Figure size 432x288 with 1 Axes>"
      ]
     },
     "metadata": {
      "needs_background": "light"
     },
     "output_type": "display_data"
    },
    {
     "data": {
      "image/png": "[encoded data removed]",
      "text/plain": [
       "<Figure size 432x288 with 1 Axes>"
      ]
     },
     "metadata": {
      "needs_background": "light"
     },
     "output_type": "display_data"
    },
    {
     "data": {
      "image/png": "[encoded data removed]",
      "text/plain": [
       "<Figure size 432x288 with 1 Axes>"
      ]
     },
     "metadata": {
      "needs_background": "light"
     },
     "output_type": "display_data"
    },
    {
     "data": {
      "image/png": "[encoded data removed]",
      "text/plain": [
       "<Figure size 432x288 with 1 Axes>"
      ]
     },
     "metadata": {
      "needs_background": "light"
     },
     "output_type": "display_data"
    },
    {
     "data": {
      "image/png": "[encoded data removed]",
      "text/plain": [
       "<Figure size 432x288 with 1 Axes>"
      ]
     },
     "metadata": {
      "needs_background": "light"
     },
     "output_type": "display_data"
    },
    {
     "data": {
      "image/png": "[encoded data removed]",
      "text/plain": [
       "<Figure size 432x288 with 1 Axes>"
      ]
     },
     "metadata": {
      "needs_background": "light"
     },
     "output_type": "display_data"
    },
    {
     "data": {
      "image/png": "[encoded data removed]",
      "text/plain": [
       "<Figure size 432x288 with 1 Axes>"
      ]
     },
     "metadata": {
      "needs_background": "light"
     },
     "output_type": "display_data"
    },
    {
     "data": {
      "image/png": "[encoded data removed]",
      "text/plain": [
       "<Figure size 432x288 with 1 Axes>"
      ]
     },
     "metadata": {
      "needs_background": "light"
     },
     "output_type": "display_data"
    }
   ],
   "source": [
    "for i in df.columns:\n",
    "    if (df[i].dtypes=='float')|(df[i].dtypes=='int64'):\n",
    "        sns.distplot(df[i])\n",
    "        plt.show()"
   ]
  },
  {
   "cell_type": "markdown",
   "id": "a174dd26",
   "metadata": {},
   "source": [
    "Observation:\n",
    "Except latitude all continuous features are right skewed.All generation_gwh feature are highly skewed."
   ]
  },
  {
   "cell_type": "markdown",
   "id": "6b60b000",
   "metadata": {},
   "source": [
    "# Outliers Checking:"
   ]
  },
  {
   "cell_type": "code",
   "execution_count": 33,
   "id": "1ad5fef1",
   "metadata": {},
   "outputs": [
    {
     "data": {
      "text/plain": [
       "capacity_mw                 AxesSubplot(0.125,0.772143;0.227941x0.107857)\n",
       "latitude                 AxesSubplot(0.398529,0.772143;0.227941x0.107857)\n",
       "longitude                AxesSubplot(0.672059,0.772143;0.227941x0.107857)\n",
       "primary_fuel                AxesSubplot(0.125,0.642714;0.227941x0.107857)\n",
       "commissioning_year       AxesSubplot(0.398529,0.642714;0.227941x0.107857)\n",
       "year_of_capacity_data    AxesSubplot(0.672059,0.642714;0.227941x0.107857)\n",
       "generation_gwh_2014         AxesSubplot(0.125,0.513286;0.227941x0.107857)\n",
       "generation_gwh_2015      AxesSubplot(0.398529,0.513286;0.227941x0.107857)\n",
       "generation_gwh_2016      AxesSubplot(0.672059,0.513286;0.227941x0.107857)\n",
       "generation_gwh_2017         AxesSubplot(0.125,0.383857;0.227941x0.107857)\n",
       "generation_gwh_2018      AxesSubplot(0.398529,0.383857;0.227941x0.107857)\n",
       "dtype: object"
      ]
     },
     "execution_count": 33,
     "metadata": {},
     "output_type": "execute_result"
    },
    {
     "data": {
      "text/plain": [
       "<Figure size 1080x360 with 0 Axes>"
      ]
     },
     "metadata": {},
     "output_type": "display_data"
    },
    {
     "data": {
      "image/png": "[encoded data removed]",
      "text/plain": [
       "<Figure size 720x720 with 18 Axes>"
      ]
     },
     "metadata": {
      "needs_background": "light"
     },
     "output_type": "display_data"
    }
   ],
   "source": [
    "plt.figure(figsize=(15,5))\n",
    "df.plot(kind='box',subplots=True,layout=(6,3),figsize=(10,10))\n"
   ]
  },
  {
   "cell_type": "markdown",
   "id": "5f16dcd7",
   "metadata": {},
   "source": [
    "Observation:\n",
    "    \n",
    "Except latitude and capacit_mw(target) all continuous featues have outliers present and need to be removed."
   ]
  },
  {
   "cell_type": "markdown",
   "id": "38cc535b",
   "metadata": {},
   "source": [
    "# Data Preprocessing"
   ]
  },
  {
   "cell_type": "markdown",
   "id": "678bf1bc",
   "metadata": {},
   "source": [
    "# REMOVING OUTLIERS:"
   ]
  },
  {
   "cell_type": "code",
   "execution_count": 34,
   "id": "0746c4e2",
   "metadata": {},
   "outputs": [
    {
     "name": "stdout",
     "output_type": "stream",
     "text": [
      "latitude\n",
      "upper bound: 34.001324\n",
      "lower bound: 8.76707\n",
      "\n",
      "\n",
      "longitude\n",
      "upper bound: 92.70831999999999\n",
      "lower bound: 69.529606\n",
      "\n",
      "\n",
      "generation_gwh_2014\n",
      "upper bound: 15033.119999999964\n",
      "lower bound: 0.0\n",
      "\n",
      "\n",
      "generation_gwh_2015\n",
      "upper bound: 18729.39999999977\n",
      "lower bound: 0.0\n",
      "\n",
      "\n",
      "generation_gwh_2016\n",
      "upper bound: 16555.187999999893\n",
      "lower bound: 0.0\n",
      "\n",
      "\n",
      "generation_gwh_2017\n",
      "upper bound: 16527.852577999925\n",
      "lower bound: 0.0\n",
      "\n",
      "\n",
      "generation_gwh_2018\n",
      "upper bound: 18618.056545999923\n",
      "lower bound: 0.0\n",
      "\n",
      "\n"
     ]
    }
   ],
   "source": [
    "#using quantile method\n",
    "out=['latitude','longitude','generation_gwh_2014','generation_gwh_2015','generation_gwh_2016','generation_gwh_2017','generation_gwh_2018']\n",
    "for i in out:\n",
    "    ub=df[i].quantile(0.99)\n",
    "    lb=df[i].quantile(0.01)\n",
    "    print(i)\n",
    "    print('upper bound:',ub)\n",
    "    print('lower bound:',lb)\n",
    "    print('\\n')"
   ]
  },
  {
   "cell_type": "code",
   "execution_count": 35,
   "id": "2380eda1",
   "metadata": {},
   "outputs": [],
   "source": [
    "df_new=df[(df['latitude']<=34.00)&(df['latitude']>=8.76)]"
   ]
  },
  {
   "cell_type": "code",
   "execution_count": 36,
   "id": "e470227a",
   "metadata": {},
   "outputs": [],
   "source": [
    "df_new=df[(df['longitude']<=92.70)&(df['longitude']>=69.52)]"
   ]
  },
  {
   "cell_type": "code",
   "execution_count": 37,
   "id": "15ef77ad",
   "metadata": {},
   "outputs": [],
   "source": [
    "df_new=df[(df['generation_gwh_2014']<=15033.11)&(df['generation_gwh_2014']>=0)]"
   ]
  },
  {
   "cell_type": "code",
   "execution_count": 38,
   "id": "5fa2abf6",
   "metadata": {},
   "outputs": [],
   "source": [
    "df_new=df[(df['generation_gwh_2015']<=18729.39)&(df['generation_gwh_2015']>=0)]"
   ]
  },
  {
   "cell_type": "code",
   "execution_count": 39,
   "id": "cd23a993",
   "metadata": {},
   "outputs": [],
   "source": [
    "df_new=df[(df['generation_gwh_2016']<=16555.18)&(df['generation_gwh_2016']>=0)]"
   ]
  },
  {
   "cell_type": "code",
   "execution_count": 40,
   "id": "e263d5a6",
   "metadata": {},
   "outputs": [],
   "source": [
    "df_new=df[(df['generation_gwh_2017']<=16527.85)&(df['generation_gwh_2017']>=0)]"
   ]
  },
  {
   "cell_type": "code",
   "execution_count": 41,
   "id": "a4837662",
   "metadata": {},
   "outputs": [],
   "source": [
    "df_new=df[(df['generation_gwh_2018']<=18618.05)&(df['generation_gwh_2018']>=0)]"
   ]
  },
  {
   "cell_type": "code",
   "execution_count": 42,
   "id": "03bd26da",
   "metadata": {},
   "outputs": [
    {
     "data": {
      "text/plain": [
       "897"
      ]
     },
     "execution_count": 42,
     "metadata": {},
     "output_type": "execute_result"
    }
   ],
   "source": [
    "df_new.shape[0]"
   ]
  },
  {
   "cell_type": "code",
   "execution_count": 43,
   "id": "efffcb0f",
   "metadata": {},
   "outputs": [
    {
     "data": {
      "text/plain": [
       "1.1025358324145533"
      ]
     },
     "execution_count": 43,
     "metadata": {},
     "output_type": "execute_result"
    }
   ],
   "source": [
    "data_loss=((df.shape[0]-df_new.shape[0])/df.shape[0])*100\n",
    "data_loss"
   ]
  },
  {
   "cell_type": "markdown",
   "id": "b252c5b9",
   "metadata": {},
   "source": [
    "Since only 1% data is lost due to ouliers removal we can consider to remove outliers"
   ]
  },
  {
   "cell_type": "code",
   "execution_count": 44,
   "id": "ad90d175",
   "metadata": {},
   "outputs": [],
   "source": [
    "df=df_new"
   ]
  },
  {
   "cell_type": "markdown",
   "id": "da17aeec",
   "metadata": {},
   "source": [
    "# Converting string data to numeric data"
   ]
  },
  {
   "cell_type": "code",
   "execution_count": 45,
   "id": "a8fa34f5",
   "metadata": {},
   "outputs": [],
   "source": [
    "from sklearn.preprocessing import OrdinalEncoder\n",
    "enc=OrdinalEncoder()\n",
    "for i in df.columns:\n",
    "    if df[i].dtypes=='object':\n",
    "        df[i]=enc.fit_transform(df[i].values.reshape(-1,1))"
   ]
  },
  {
   "cell_type": "markdown",
   "id": "6e845523",
   "metadata": {},
   "source": [
    "# Skewness Treatment:"
   ]
  },
  {
   "cell_type": "code",
   "execution_count": 46,
   "id": "359cf169",
   "metadata": {},
   "outputs": [],
   "source": [
    "x=df.drop(['capacity_mw'],axis=1)\n",
    "y=df['capacity_mw']"
   ]
  },
  {
   "cell_type": "code",
   "execution_count": 47,
   "id": "513a87e7",
   "metadata": {},
   "outputs": [
    {
     "data": {
      "text/plain": [
       "array([[ 0.        ,  1.15545764, -0.95408068, ...,  0.35373138,\n",
       "         0.34998415,  0.36067825],\n",
       "       [ 0.        ,  0.58025806, -0.54070918, ...,  0.35373138,\n",
       "         0.34998415,  0.36067825],\n",
       "       [ 0.        ,  0.10452447, -2.41101677, ...,  0.35373138,\n",
       "         0.34998415,  0.36067825],\n",
       "       ...,\n",
       "       [ 0.        , -0.97202028, -0.27351496, ...,  0.35373138,\n",
       "         0.34998415,  0.36067825],\n",
       "       [ 0.        ,  0.51071358, -0.79553213, ...,  0.35373138,\n",
       "         0.34998415,  0.36067825],\n",
       "       [ 0.        , -1.80718018,  0.19201045, ...,  0.35373138,\n",
       "         0.34998415,  0.36067825]])"
      ]
     },
     "execution_count": 47,
     "metadata": {},
     "output_type": "execute_result"
    }
   ],
   "source": [
    "from sklearn.preprocessing import power_transform\n",
    "x=power_transform(x,method='yeo-johnson')\n",
    "x"
   ]
  },
  {
   "cell_type": "code",
   "execution_count": 48,
   "id": "6df7b34d",
   "metadata": {
    "scrolled": true
   },
   "outputs": [
    {
     "data": {
      "text/plain": [
       "array([[0.        , 0.74478977, 0.34289819, ..., 0.39029925, 0.40088469,\n",
       "        0.41943873],\n",
       "       [0.        , 0.61216795, 0.42211789, ..., 0.39029925, 0.40088469,\n",
       "        0.41943873],\n",
       "       [0.        , 0.50247968, 0.06368678, ..., 0.39029925, 0.40088469,\n",
       "        0.41943873],\n",
       "       ...,\n",
       "       [0.        , 0.25426442, 0.47332376, ..., 0.39029925, 0.40088469,\n",
       "        0.41943873],\n",
       "       [0.        , 0.59613332, 0.37328289, ..., 0.39029925, 0.40088469,\n",
       "        0.41943873],\n",
       "       [0.        , 0.06170444, 0.56253839, ..., 0.39029925, 0.40088469,\n",
       "        0.41943873]])"
      ]
     },
     "execution_count": 48,
     "metadata": {},
     "output_type": "execute_result"
    }
   ],
   "source": [
    "#feature scaling\n",
    "from sklearn.preprocessing import MinMaxScaler\n",
    "sc=MinMaxScaler()\n",
    "x=sc.fit_transform(x)\n",
    "x"
   ]
  },
  {
   "cell_type": "code",
   "execution_count": 49,
   "id": "19f9a542",
   "metadata": {},
   "outputs": [
    {
     "data": {
      "text/plain": [
       "(897, 11)"
      ]
     },
     "execution_count": 49,
     "metadata": {},
     "output_type": "execute_result"
    }
   ],
   "source": [
    "x.shape"
   ]
  },
  {
   "cell_type": "markdown",
   "id": "856b2869",
   "metadata": {},
   "source": [
    "# Dimension reduction using PCA"
   ]
  },
  {
   "cell_type": "code",
   "execution_count": 50,
   "id": "c020f9f9",
   "metadata": {},
   "outputs": [],
   "source": [
    "from sklearn.decomposition import PCA"
   ]
  },
  {
   "cell_type": "code",
   "execution_count": 51,
   "id": "1d8b9866",
   "metadata": {},
   "outputs": [],
   "source": [
    "pca=PCA(n_components=5)"
   ]
  },
  {
   "cell_type": "code",
   "execution_count": 52,
   "id": "ce30f0e1",
   "metadata": {},
   "outputs": [],
   "source": [
    "x=pca.fit_transform(x)"
   ]
  },
  {
   "cell_type": "code",
   "execution_count": 53,
   "id": "e0ef298a",
   "metadata": {},
   "outputs": [
    {
     "data": {
      "text/plain": [
       "array([[ 0.1878466 ,  0.38618143,  0.24222168,  0.00384208,  0.04239506],\n",
       "       [ 0.19731391, -0.22526256,  0.11272655, -0.20667721,  0.14041712],\n",
       "       [ 0.24976847,  0.55268093, -0.01639345, -0.0556372 ,  0.26600835],\n",
       "       ...,\n",
       "       [ 0.18613463,  0.40989583, -0.25657855,  0.01852197, -0.11019411],\n",
       "       [ 0.20256679, -0.21045059,  0.09624422, -0.20967674,  0.18636621],\n",
       "       [ 0.16519306,  0.37208943, -0.44584262,  0.05240515, -0.18878791]])"
      ]
     },
     "execution_count": 53,
     "metadata": {},
     "output_type": "execute_result"
    }
   ],
   "source": [
    "x"
   ]
  },
  {
   "cell_type": "code",
   "execution_count": 54,
   "id": "d52a7284",
   "metadata": {},
   "outputs": [
    {
     "data": {
      "text/plain": [
       "(897, 5)"
      ]
     },
     "execution_count": 54,
     "metadata": {},
     "output_type": "execute_result"
    }
   ],
   "source": [
    "x.shape"
   ]
  },
  {
   "cell_type": "markdown",
   "id": "d2f69cdc",
   "metadata": {},
   "source": [
    "# Predicting capacity_mw"
   ]
  },
  {
   "cell_type": "markdown",
   "id": "23da892a",
   "metadata": {},
   "source": [
    "# Model Building:"
   ]
  },
  {
   "cell_type": "code",
   "execution_count": 55,
   "id": "dcf15b2b",
   "metadata": {},
   "outputs": [
    {
     "name": "stdout",
     "output_type": "stream",
     "text": [
      "training score : 0.3411652695760501\n",
      "testing score : 0.34831937924808576\n",
      "At random_state= 1 the model performs well \n",
      "\n",
      "training score : 0.34716997300218244\n",
      "testing score : 0.3367435328746593\n",
      "At random_state= 4 the model performs well \n",
      "\n",
      "training score : 0.34950143683532475\n",
      "testing score : 0.3329322342308324\n",
      "At random_state= 28 the model performs well \n",
      "\n",
      "training score : 0.3441566559680491\n",
      "testing score : 0.341368135142856\n",
      "At random_state= 37 the model performs well \n",
      "\n",
      "training score : 0.34463661597938755\n",
      "testing score : 0.34656576527634475\n",
      "At random_state= 45 the model performs well \n",
      "\n",
      "training score : 0.3433969474145091\n",
      "testing score : 0.34906310866605805\n",
      "At random_state= 48 the model performs well \n",
      "\n",
      "training score : 0.34833384191428085\n",
      "testing score : 0.3402996288786394\n",
      "At random_state= 59 the model performs well \n",
      "\n",
      "training score : 0.34879144468469225\n",
      "testing score : 0.33500055148859964\n",
      "At random_state= 64 the model performs well \n",
      "\n",
      "training score : 0.3403488996405498\n",
      "testing score : 0.3197707688571215\n",
      "At random_state= 65 the model performs well \n",
      "\n",
      "training score : 0.34508199571776266\n",
      "testing score : 0.34467488050117845\n",
      "At random_state= 70 the model performs well \n",
      "\n",
      "training score : 0.3473131565617953\n",
      "testing score : 0.33644175510535335\n",
      "At random_state= 85 the model performs well \n",
      "\n",
      "training score : 0.34913008050807137\n",
      "testing score : 0.32740726752508975\n",
      "At random_state= 93 the model performs well \n",
      "\n",
      "training score : 0.3457353429779515\n",
      "testing score : 0.34124538614292466\n",
      "At random_state= 95 the model performs well \n",
      "\n",
      "training score : 0.34701409711683395\n",
      "testing score : 0.33926867864443366\n",
      "At random_state= 98 the model performs well \n",
      "\n"
     ]
    }
   ],
   "source": [
    "# Since our target is continuous variable we will use regression model\n",
    "from sklearn.linear_model import LinearRegression\n",
    "lr=LinearRegression()\n",
    "from sklearn.metrics import r2_score\n",
    "from sklearn.metrics import mean_squared_error,mean_absolute_error\n",
    "from sklearn.model_selection import train_test_split\n",
    "import warnings\n",
    "warnings.filterwarnings('ignore')\n",
    "for i in range(0,100):\n",
    "    x_train,x_test,y_train,y_test=train_test_split(x,y,test_size=.3,random_state=i)\n",
    "    lr.fit(x_train,y_train)\n",
    "    train_pred=lr.predict(x_train)\n",
    "    test_pred=lr.predict(x_test)\n",
    "    if round(r2_score(y_train,train_pred),1)==round(r2_score(y_test,test_pred),1):\n",
    "        print('training score :',r2_score(y_train,train_pred))\n",
    "        print('testing score :',r2_score(y_test,test_pred))\n",
    "        print('At random_state=',i,\"the model performs well\",'\\n')"
   ]
  },
  {
   "cell_type": "code",
   "execution_count": 56,
   "id": "cf188827",
   "metadata": {},
   "outputs": [
    {
     "name": "stdout",
     "output_type": "stream",
     "text": [
      "testing score : 0.34467488050117845\n",
      "training score : 0.34508199571776266\n",
      "Error:\n",
      "Mean absolue error: 267.07941180600005\n",
      "Mean squared error: 149939.5684924133\n",
      "Root Mean squared error: 387.22031002055314\n"
     ]
    }
   ],
   "source": [
    "#selecting random_state =70\n",
    "x_train,x_test,y_train,y_test=train_test_split(x,y,test_size=.3,random_state=70)\n",
    "lr.fit(x_train,y_train)\n",
    "test_pred=lr.predict(x_test)\n",
    "train_pred=lr.predict(x_train)\n",
    "print('testing score :',r2_score(y_test,test_pred))\n",
    "print('training score :',r2_score(y_train,train_pred))\n",
    "print('Error:')\n",
    "print('Mean absolue error:',mean_absolute_error(y_test,test_pred))\n",
    "print('Mean squared error:',mean_squared_error(y_test,test_pred))\n",
    "print('Root Mean squared error:',np.sqrt(mean_squared_error(y_test,test_pred)))"
   ]
  },
  {
   "cell_type": "markdown",
   "id": "c5caa193",
   "metadata": {},
   "source": [
    "# Cross Validation Of the Model:"
   ]
  },
  {
   "cell_type": "code",
   "execution_count": 57,
   "id": "3ea94b9a",
   "metadata": {},
   "outputs": [
    {
     "name": "stdout",
     "output_type": "stream",
     "text": [
      "At crossfold= 2 the cv score is 0.32973953279569906\n",
      "training score : 0.34508199571776266\n",
      "testing score : 0.34467488050117845\n",
      "\n",
      "\n",
      "At crossfold= 3 the cv score is 0.3292746209736583\n",
      "training score : 0.34508199571776266\n",
      "testing score : 0.34467488050117845\n",
      "\n",
      "\n",
      "At crossfold= 4 the cv score is 0.3393629964735019\n",
      "training score : 0.34508199571776266\n",
      "testing score : 0.34467488050117845\n",
      "\n",
      "\n",
      "At crossfold= 5 the cv score is 0.3349840960676258\n",
      "training score : 0.34508199571776266\n",
      "testing score : 0.34467488050117845\n",
      "\n",
      "\n",
      "At crossfold= 6 the cv score is 0.3156798570421386\n",
      "training score : 0.34508199571776266\n",
      "testing score : 0.34467488050117845\n",
      "\n",
      "\n",
      "At crossfold= 7 the cv score is 0.324794299280586\n",
      "training score : 0.34508199571776266\n",
      "testing score : 0.34467488050117845\n",
      "\n",
      "\n",
      "At crossfold= 8 the cv score is 0.325410274125703\n",
      "training score : 0.34508199571776266\n",
      "testing score : 0.34467488050117845\n",
      "\n",
      "\n",
      "At crossfold= 9 the cv score is 0.3082931723925452\n",
      "training score : 0.34508199571776266\n",
      "testing score : 0.34467488050117845\n",
      "\n",
      "\n",
      "At crossfold= 10 the cv score is 0.30378388053917227\n",
      "training score : 0.34508199571776266\n",
      "testing score : 0.34467488050117845\n",
      "\n",
      "\n",
      "At crossfold= 11 the cv score is 0.31177768640877884\n",
      "training score : 0.34508199571776266\n",
      "testing score : 0.34467488050117845\n",
      "\n",
      "\n",
      "At crossfold= 12 the cv score is 0.3118716154114558\n",
      "training score : 0.34508199571776266\n",
      "testing score : 0.34467488050117845\n",
      "\n",
      "\n",
      "At crossfold= 13 the cv score is 0.3096321332283533\n",
      "training score : 0.34508199571776266\n",
      "testing score : 0.34467488050117845\n",
      "\n",
      "\n",
      "At crossfold= 14 the cv score is 0.31800755521411045\n",
      "training score : 0.34508199571776266\n",
      "testing score : 0.34467488050117845\n",
      "\n",
      "\n"
     ]
    }
   ],
   "source": [
    "from sklearn.model_selection import cross_val_score\n",
    "for k in range(2,15):\n",
    "    cv_score=cross_val_score(lr,x,y,cv=k)\n",
    "    cv_mean=cv_score.mean()\n",
    "    print('At crossfold=',k,'the cv score is',cv_mean)\n",
    "    print('training score :',r2_score(y_train,train_pred))\n",
    "    print('testing score :',r2_score(y_test,test_pred))\n",
    "    print('\\n')"
   ]
  },
  {
   "cell_type": "markdown",
   "id": "1394a841",
   "metadata": {},
   "source": [
    "selecting cv=4 as it is performing better than other values of kfolds "
   ]
  },
  {
   "cell_type": "code",
   "execution_count": 58,
   "id": "87aec8c5",
   "metadata": {},
   "outputs": [
    {
     "data": {
      "image/png": "[encoded data removed]",
      "text/plain": [
       "<Figure size 360x360 with 1 Axes>"
      ]
     },
     "metadata": {
      "needs_background": "light"
     },
     "output_type": "display_data"
    }
   ],
   "source": [
    "plt.figure(figsize=(5,5))\n",
    "plt.scatter(y_test,test_pred,color='r')\n",
    "plt.plot(y_test,y_test,color='b',linewidth='4')\n",
    "plt.show()"
   ]
  },
  {
   "cell_type": "code",
   "execution_count": 59,
   "id": "2ffd6a60",
   "metadata": {},
   "outputs": [],
   "source": [
    "from sklearn.tree import DecisionTreeRegressor\n",
    "from sklearn.svm import SVR\n",
    "from sklearn.neighbors import KNeighborsRegressor\n",
    "from sklearn.ensemble import RandomForestRegressor\n",
    "from sklearn.ensemble import GradientBoostingRegressor\n",
    "from sklearn.ensemble import AdaBoostRegressor"
   ]
  },
  {
   "cell_type": "code",
   "execution_count": 60,
   "id": "e5faddd2",
   "metadata": {},
   "outputs": [
    {
     "name": "stdout",
     "output_type": "stream",
     "text": [
      "DecisionTreeRegressor()\n",
      "testing score : 0.27252059691365094\n",
      "training score : 0.9999701335980342\n",
      "the cv score is 0.5218539713021552\n",
      "Error:\n",
      "Mean absolue error: 179.19297407407407\n",
      "Mean squared error: 166448.59862735923\n",
      "Root Mean squared error: 407.9811253322379\n",
      "\n",
      "\n",
      "KNeighborsRegressor()\n",
      "testing score : 0.6218753286523602\n",
      "training score : 0.7959736087050461\n",
      "the cv score is 0.6593887603781761\n",
      "Error:\n",
      "Mean absolue error: 143.0422925925926\n",
      "Mean squared error: 86515.6063322591\n",
      "Root Mean squared error: 294.13535376125583\n",
      "\n",
      "\n",
      "LinearRegression()\n",
      "testing score : 0.34467488050117845\n",
      "training score : 0.34508199571776266\n",
      "the cv score is 0.3349840960676258\n",
      "Error:\n",
      "Mean absolue error: 267.07941180600005\n",
      "Mean squared error: 149939.5684924133\n",
      "Root Mean squared error: 387.22031002055314\n",
      "\n",
      "\n",
      "GradientBoostingRegressor()\n",
      "testing score : 0.6418528423374392\n",
      "training score : 0.9114303190658307\n",
      "the cv score is 0.673274528740946\n",
      "Error:\n",
      "Mean absolue error: 155.29798131372578\n",
      "Mean squared error: 81944.7151938531\n",
      "Root Mean squared error: 286.2598735307712\n",
      "\n",
      "\n",
      "RandomForestRegressor()\n",
      "testing score : 0.6588026290484159\n",
      "training score : 0.9623324012611234\n",
      "the cv score is 0.7276783261852277\n",
      "Error:\n",
      "Mean absolue error: 143.5538224818309\n",
      "Mean squared error: 78066.57344426485\n",
      "Root Mean squared error: 279.40396103896745\n",
      "\n",
      "\n",
      "AdaBoostRegressor()\n",
      "testing score : 0.33404409879452224\n",
      "training score : 0.4790598355021761\n",
      "the cv score is 0.5022001786655803\n",
      "Error:\n",
      "Mean absolue error: 338.01280224067324\n",
      "Mean squared error: 152371.91050770503\n",
      "Root Mean squared error: 390.34844755385546\n",
      "\n",
      "\n"
     ]
    }
   ],
   "source": [
    "model=[DecisionTreeRegressor(),KNeighborsRegressor(),LinearRegression(),GradientBoostingRegressor(),RandomForestRegressor(),AdaBoostRegressor()]\n",
    "for i in model:\n",
    "    i.fit(x_train,y_train)\n",
    "    i_pred=i.predict(x_test)\n",
    "    train_pred=i.predict(x_train)\n",
    "    print(i)\n",
    "    print('testing score :',r2_score(y_test,i_pred))\n",
    "    print('training score :',r2_score(y_train,train_pred))\n",
    "    from sklearn.model_selection import cross_val_score\n",
    "    cv_score=cross_val_score(i,x,y)\n",
    "    cv_mean=cv_score.mean()\n",
    "    print('the cv score is',cv_mean)\n",
    "    print('Error:')\n",
    "    print('Mean absolue error:',mean_absolute_error(y_test,i_pred))\n",
    "    print('Mean squared error:',mean_squared_error(y_test,i_pred))\n",
    "    print('Root Mean squared error:',np.sqrt(mean_squared_error(y_test,i_pred)))\n",
    "    print()\n",
    "    print()\n"
   ]
  },
  {
   "cell_type": "markdown",
   "id": "f1e482d5",
   "metadata": {},
   "source": [
    "Observation:\n",
    "    RandomForest,GradientBoosting and KNeighbors model performing well."
   ]
  },
  {
   "cell_type": "markdown",
   "id": "16ae1632",
   "metadata": {},
   "source": [
    "# TUNING THE MODEL USING GRID SEARCH CV"
   ]
  },
  {
   "cell_type": "code",
   "execution_count": 61,
   "id": "eacc4630",
   "metadata": {},
   "outputs": [],
   "source": [
    "from sklearn.model_selection import GridSearchCV"
   ]
  },
  {
   "cell_type": "code",
   "execution_count": 62,
   "id": "45558556",
   "metadata": {},
   "outputs": [
    {
     "name": "stdout",
     "output_type": "stream",
     "text": [
      "{'max_depth': 10, 'max_features': 'auto', 'n_estimators': 350}\n"
     ]
    }
   ],
   "source": [
    "#tuning random forest model\n",
    "from sklearn.ensemble import RandomForestRegressor\n",
    "parameters={'max_features':['auto','sqrt','log2'],'max_depth':[5,10],'n_estimators':[100,200,300,350]}\n",
    "rf=RandomForestRegressor()\n",
    "rfg=GridSearchCV(rf,parameters)\n",
    "rfg.fit(x_train,y_train)\n",
    "print(rfg.best_params_)"
   ]
  },
  {
   "cell_type": "code",
   "execution_count": 63,
   "id": "c946f9af",
   "metadata": {},
   "outputs": [
    {
     "name": "stdout",
     "output_type": "stream",
     "text": [
      "The CV score is: 0.7105440515928689\n",
      "testing score : 0.6717140095170983\n",
      "training score : 0.945629677817823\n",
      "Error:\n",
      "Mean absolue error: 132.53419821663329\n",
      "Mean squared error: 57742.16770567581\n",
      "Root Mean squared error: 240.29600018659448\n"
     ]
    }
   ],
   "source": [
    "rf=RandomForestRegressor(n_estimators=100,max_features='auto',max_depth=10)    \n",
    "x_train,x_test,y_train,y_test=train_test_split(x,y,test_size=.3,random_state=68)\n",
    "rf.fit(x_train,y_train)\n",
    "rfpred=rf.predict(x_test)\n",
    "rf.score(x_train,y_train)\n",
    "cv_score=cross_val_score(rf,x,y,cv=5)\n",
    "cv_mean=cv_score.mean()\n",
    "print('The CV score is:',cv_mean)\n",
    "print('testing score :',r2_score(y_test,rfpred))\n",
    "print('training score :',rf.score(x_train,y_train))\n",
    "print('Error:')\n",
    "print('Mean absolue error:',mean_absolute_error(y_test,rfpred))\n",
    "print('Mean squared error:',mean_squared_error(y_test,rfpred))\n",
    "print('Root Mean squared error:',np.sqrt(mean_squared_error(y_test,rfpred)))"
   ]
  },
  {
   "cell_type": "code",
   "execution_count": 64,
   "id": "c313973e",
   "metadata": {},
   "outputs": [
    {
     "name": "stdout",
     "output_type": "stream",
     "text": [
      "{'algorithm': 'auto', 'n_neighbors': 10, 'weights': 'distance'}\n"
     ]
    }
   ],
   "source": [
    "#kneighbors \n",
    "parameters={'n_neighbors':[2,3,5,10,15,20,25,30,35],'weights':['uniform','distance'],'algorithm':['auto','ball_tree','kd_tree','brute']}\n",
    "knr=KNeighborsRegressor()\n",
    "knrg=GridSearchCV(knr,parameters)\n",
    "knrg.fit(x_train,y_train)\n",
    "print(knrg.best_params_)"
   ]
  },
  {
   "cell_type": "code",
   "execution_count": 65,
   "id": "b8695867",
   "metadata": {},
   "outputs": [
    {
     "name": "stdout",
     "output_type": "stream",
     "text": [
      "The CV score is: 0.6664447820708702\n",
      "testing score : 0.5877639367515655\n",
      "training score : 0.9999039655785187\n",
      "Error:\n",
      "Mean absolue error: 134.2891835902383\n",
      "Mean squared error: 72508.13189866673\n",
      "Root Mean squared error: 269.2733404900432\n"
     ]
    }
   ],
   "source": [
    "knr=KNeighborsRegressor(n_neighbors=10,algorithm='auto',weights='distance')\n",
    "knr.fit(x_train,y_train)\n",
    "knrpred=knr.predict(x_test)\n",
    "knr.score(x_train,y_train)\n",
    "cv_score=cross_val_score(knr,x,y,cv=5)\n",
    "cv_mean=cv_score.mean()\n",
    "print('The CV score is:',cv_mean)\n",
    "print('testing score :',r2_score(y_test,knrpred))\n",
    "print('training score :',knr.score(x_train,y_train))\n",
    "print('Error:')\n",
    "print('Mean absolue error:',mean_absolute_error(y_test,knrpred))\n",
    "print('Mean squared error:',mean_squared_error(y_test,knrpred))\n",
    "print('Root Mean squared error:',np.sqrt(mean_squared_error(y_test,knrpred)))"
   ]
  },
  {
   "cell_type": "code",
   "execution_count": 66,
   "id": "48de22f9",
   "metadata": {},
   "outputs": [
    {
     "name": "stdout",
     "output_type": "stream",
     "text": [
      "{'learning_rate': 0.1, 'loss': 'huber', 'n_estimators': 100}\n"
     ]
    }
   ],
   "source": [
    "#tuning gradient boosting regressor\n",
    "from sklearn.ensemble import GradientBoostingRegressor\n",
    "parameters={'loss':['squared_error','absolute_error','huber','quantile'],'learning_rate':[0.1,0.001,1,10],'n_estimators':[100,200,300,350]}\n",
    "gb=GradientBoostingRegressor()\n",
    "gbrg=GridSearchCV(gb,parameters)\n",
    "gbrg.fit(x_train,y_train)\n",
    "print(gbrg.best_params_)"
   ]
  },
  {
   "cell_type": "code",
   "execution_count": 67,
   "id": "02049991",
   "metadata": {},
   "outputs": [
    {
     "name": "stdout",
     "output_type": "stream",
     "text": [
      "The CV score is: 0.6863796190898015\n",
      "testing score : 0.6295848021003942\n",
      "training score : 0.8243026620901324\n",
      "Error:\n",
      "Mean absolue error: 134.03753119985953\n",
      "Mean squared error: 65152.26691942593\n",
      "Root Mean squared error: 255.24942099723935\n"
     ]
    }
   ],
   "source": [
    "gb=GradientBoostingRegressor(n_estimators=100,loss='huber',learning_rate=0.1)\n",
    "gb.fit(x_train,y_train)\n",
    "gbpred=gb.predict(x_test)\n",
    "gb.score(x_train,y_train)\n",
    "cv_score=cross_val_score(gb,x,y,cv=5)\n",
    "cv_mean=cv_score.mean()\n",
    "print('The CV score is:',cv_mean)\n",
    "print('testing score :',r2_score(y_test,gbpred))\n",
    "print('training score :',gb.score(x_train,y_train))\n",
    "print('Error:')\n",
    "print('Mean absolue error:',mean_absolute_error(y_test,gbpred))\n",
    "print('Mean squared error:',mean_squared_error(y_test,gbpred))\n",
    "print('Root Mean squared error:',np.sqrt(mean_squared_error(y_test,gbpred)))"
   ]
  },
  {
   "cell_type": "markdown",
   "id": "aa467f60",
   "metadata": {},
   "source": [
    "# Conclusion:"
   ]
  },
  {
   "cell_type": "markdown",
   "id": "4cfdd7d0",
   "metadata": {},
   "source": [
    "Selecting random forest with default parameters as our final model as it is performing better than the tuned model."
   ]
  },
  {
   "cell_type": "code",
   "execution_count": 68,
   "id": "6cc2cf63",
   "metadata": {},
   "outputs": [
    {
     "data": {
      "image/png": "[encoded data removed]",
      "text/plain": [
       "<Figure size 360x360 with 1 Axes>"
      ]
     },
     "metadata": {
      "needs_background": "light"
     },
     "output_type": "display_data"
    }
   ],
   "source": [
    "plt.figure(figsize=(5,5))\n",
    "plt.scatter(y_test,rfpred,color='r')\n",
    "plt.plot(y_test,y_test,color='b',linewidth='4')\n",
    "plt.show()"
   ]
  },
  {
   "cell_type": "code",
   "execution_count": 69,
   "id": "44c7a292",
   "metadata": {},
   "outputs": [
    {
     "data": {
      "text/html": [
       "<div>\n",
       "<style scoped>\n",
       "    .dataframe tbody tr th:only-of-type {\n",
       "        vertical-align: middle;\n",
       "    }\n",
       "\n",
       "    .dataframe tbody tr th {\n",
       "        vertical-align: top;\n",
       "    }\n",
       "\n",
       "    .dataframe thead th {\n",
       "        text-align: right;\n",
       "    }\n",
       "</style>\n",
       "<table border=\"1\" class=\"dataframe\">\n",
       "  <thead>\n",
       "    <tr style=\"text-align: right;\">\n",
       "      <th></th>\n",
       "      <th>Original</th>\n",
       "      <th>Predicted</th>\n",
       "    </tr>\n",
       "  </thead>\n",
       "  <tbody>\n",
       "    <tr>\n",
       "      <th>105</th>\n",
       "      <td>22.0</td>\n",
       "      <td>146.791025</td>\n",
       "    </tr>\n",
       "    <tr>\n",
       "      <th>20</th>\n",
       "      <td>21.0</td>\n",
       "      <td>42.953284</td>\n",
       "    </tr>\n",
       "    <tr>\n",
       "      <th>193</th>\n",
       "      <td>440.0</td>\n",
       "      <td>85.738782</td>\n",
       "    </tr>\n",
       "    <tr>\n",
       "      <th>246</th>\n",
       "      <td>1094.0</td>\n",
       "      <td>619.767915</td>\n",
       "    </tr>\n",
       "    <tr>\n",
       "      <th>82</th>\n",
       "      <td>1.0</td>\n",
       "      <td>214.976767</td>\n",
       "    </tr>\n",
       "    <tr>\n",
       "      <th>263</th>\n",
       "      <td>24.0</td>\n",
       "      <td>36.977559</td>\n",
       "    </tr>\n",
       "    <tr>\n",
       "      <th>78</th>\n",
       "      <td>1.0</td>\n",
       "      <td>28.517896</td>\n",
       "    </tr>\n",
       "    <tr>\n",
       "      <th>267</th>\n",
       "      <td>90.0</td>\n",
       "      <td>239.085648</td>\n",
       "    </tr>\n",
       "    <tr>\n",
       "      <th>151</th>\n",
       "      <td>420.0</td>\n",
       "      <td>596.702422</td>\n",
       "    </tr>\n",
       "    <tr>\n",
       "      <th>240</th>\n",
       "      <td>231.0</td>\n",
       "      <td>218.385263</td>\n",
       "    </tr>\n",
       "  </tbody>\n",
       "</table>\n",
       "</div>"
      ],
      "text/plain": [
       "     Original   Predicted\n",
       "105      22.0  146.791025\n",
       "20       21.0   42.953284\n",
       "193     440.0   85.738782\n",
       "246    1094.0  619.767915\n",
       "82        1.0  214.976767\n",
       "263      24.0   36.977559\n",
       "78        1.0   28.517896\n",
       "267      90.0  239.085648\n",
       "151     420.0  596.702422\n",
       "240     231.0  218.385263"
      ]
     },
     "execution_count": 69,
     "metadata": {},
     "output_type": "execute_result"
    }
   ],
   "source": [
    "roriginal=np.array(y_test)\n",
    "rpredicted=np.array(rfpred)\n",
    "df_comp=pd.DataFrame({'Original':roriginal,'Predicted':rpredicted},index=range(len(roriginal)))\n",
    "df_comp.sample(10)"
   ]
  },
  {
   "cell_type": "markdown",
   "id": "ada127e4",
   "metadata": {},
   "source": [
    "# Predicting primary_fuel"
   ]
  },
  {
   "cell_type": "code",
   "execution_count": 70,
   "id": "93a83c86",
   "metadata": {},
   "outputs": [],
   "source": [
    "#assign the value target and feature\n",
    "xc = df.drop(['primary_fuel'],axis=1)\n",
    "yc = df[\"primary_fuel\"]"
   ]
  },
  {
   "cell_type": "code",
   "execution_count": 71,
   "id": "fadee3a2",
   "metadata": {},
   "outputs": [
    {
     "data": {
      "text/plain": [
       "array([[ 0.        , -1.69165588,  1.15545764, ...,  0.35373138,\n",
       "         0.34998415,  0.36067825],\n",
       "       [ 0.        ,  0.21394808,  0.58025806, ...,  0.35373138,\n",
       "         0.34998415,  0.36067825],\n",
       "       [ 0.        , -0.27969422,  0.10452447, ...,  0.35373138,\n",
       "         0.34998415,  0.36067825],\n",
       "       ...,\n",
       "       [ 0.        , -0.51287649, -0.97202028, ...,  0.35373138,\n",
       "         0.34998415,  0.36067825],\n",
       "       [ 0.        ,  0.10528201,  0.51071358, ...,  0.35373138,\n",
       "         0.34998415,  0.36067825],\n",
       "       [ 0.        , -0.74822075, -1.80718018, ...,  0.35373138,\n",
       "         0.34998415,  0.36067825]])"
      ]
     },
     "execution_count": 71,
     "metadata": {},
     "output_type": "execute_result"
    }
   ],
   "source": [
    "from sklearn.preprocessing import power_transform\n",
    "xc=power_transform(xc,method='yeo-johnson')\n",
    "xc"
   ]
  },
  {
   "cell_type": "code",
   "execution_count": 72,
   "id": "4305f728",
   "metadata": {},
   "outputs": [
    {
     "data": {
      "text/plain": [
       "array([[0.        , 0.17463911, 0.74478977, ..., 0.39029925, 0.40088469,\n",
       "        0.41943873],\n",
       "       [0.        , 0.60725319, 0.61216795, ..., 0.39029925, 0.40088469,\n",
       "        0.41943873],\n",
       "       [0.        , 0.49518551, 0.50247968, ..., 0.39029925, 0.40088469,\n",
       "        0.41943873],\n",
       "       ...,\n",
       "       [0.        , 0.442248  , 0.25426442, ..., 0.39029925, 0.40088469,\n",
       "        0.41943873],\n",
       "       [0.        , 0.5825836 , 0.59613332, ..., 0.39029925, 0.40088469,\n",
       "        0.41943873],\n",
       "       [0.        , 0.38881967, 0.06170444, ..., 0.39029925, 0.40088469,\n",
       "        0.41943873]])"
      ]
     },
     "execution_count": 72,
     "metadata": {},
     "output_type": "execute_result"
    }
   ],
   "source": [
    "#feature scaling\n",
    "from sklearn.preprocessing import MinMaxScaler\n",
    "scc=MinMaxScaler()\n",
    "xc=scc.fit_transform(xc)\n",
    "xc"
   ]
  },
  {
   "cell_type": "code",
   "execution_count": 73,
   "id": "382d61e1",
   "metadata": {},
   "outputs": [],
   "source": [
    "#dimension reduction using PCA\n",
    "pca_c=PCA(n_components=5)"
   ]
  },
  {
   "cell_type": "code",
   "execution_count": 74,
   "id": "1a0aefe9",
   "metadata": {},
   "outputs": [
    {
     "data": {
      "text/plain": [
       "(897, 5)"
      ]
     },
     "execution_count": 74,
     "metadata": {},
     "output_type": "execute_result"
    }
   ],
   "source": [
    "xc=pca_c.fit_transform(xc)\n",
    "xc.shape"
   ]
  },
  {
   "cell_type": "markdown",
   "id": "5d149bae",
   "metadata": {},
   "source": [
    "# Model Building"
   ]
  },
  {
   "cell_type": "code",
   "execution_count": 75,
   "id": "5255b9c4",
   "metadata": {},
   "outputs": [],
   "source": [
    "# Since our target is categorical variable we will use classification model\n",
    "from sklearn.metrics import confusion_matrix,classification_report,accuracy_score\n",
    "from sklearn.tree import DecisionTreeClassifier\n",
    "from sklearn.neighbors import KNeighborsClassifier\n",
    "from sklearn.svm import SVC\n",
    "from sklearn.ensemble import RandomForestClassifier\n",
    "from sklearn.ensemble import AdaBoostClassifier\n",
    "from sklearn.ensemble import GradientBoostingClassifier"
   ]
  },
  {
   "cell_type": "code",
   "execution_count": 76,
   "id": "5be988f2",
   "metadata": {},
   "outputs": [
    {
     "name": "stdout",
     "output_type": "stream",
     "text": [
      "accuracy score correspond to random state  0 is 0.6592592592592592\n",
      "accuracy score correspond to random state  1 is 0.725925925925926\n",
      "accuracy score correspond to random state  2 is 0.6222222222222222\n",
      "accuracy score correspond to random state  3 is 0.6370370370370371\n",
      "accuracy score correspond to random state  4 is 0.6444444444444445\n",
      "accuracy score correspond to random state  5 is 0.6925925925925925\n",
      "accuracy score correspond to random state  6 is 0.6703703703703704\n",
      "accuracy score correspond to random state  7 is 0.674074074074074\n",
      "accuracy score correspond to random state  8 is 0.674074074074074\n",
      "accuracy score correspond to random state  9 is 0.6777777777777778\n",
      "accuracy score correspond to random state  10 is 0.6703703703703704\n",
      "accuracy score correspond to random state  11 is 0.725925925925926\n",
      "accuracy score correspond to random state  12 is 0.6703703703703704\n",
      "accuracy score correspond to random state  13 is 0.6851851851851852\n",
      "accuracy score correspond to random state  14 is 0.6703703703703704\n",
      "accuracy score correspond to random state  15 is 0.6703703703703704\n",
      "accuracy score correspond to random state  16 is 0.6555555555555556\n",
      "accuracy score correspond to random state  17 is 0.7074074074074074\n",
      "accuracy score correspond to random state  18 is 0.6555555555555556\n",
      "accuracy score correspond to random state  19 is 0.6296296296296297\n",
      "accuracy score correspond to random state  20 is 0.6481481481481481\n",
      "accuracy score correspond to random state  21 is 0.6814814814814815\n",
      "accuracy score correspond to random state  22 is 0.6592592592592592\n",
      "accuracy score correspond to random state  23 is 0.6703703703703704\n",
      "accuracy score correspond to random state  24 is 0.7222222222222222\n",
      "accuracy score correspond to random state  25 is 0.6851851851851852\n",
      "accuracy score correspond to random state  26 is 0.6444444444444445\n",
      "accuracy score correspond to random state  27 is 0.6703703703703704\n",
      "accuracy score correspond to random state  28 is 0.6518518518518519\n",
      "accuracy score correspond to random state  29 is 0.6814814814814815\n",
      "accuracy score correspond to random state  30 is 0.6407407407407407\n",
      "accuracy score correspond to random state  31 is 0.7296296296296296\n",
      "accuracy score correspond to random state  32 is 0.6814814814814815\n",
      "accuracy score correspond to random state  33 is 0.7037037037037037\n",
      "accuracy score correspond to random state  34 is 0.6703703703703704\n",
      "accuracy score correspond to random state  35 is 0.6851851851851852\n",
      "accuracy score correspond to random state  36 is 0.6814814814814815\n",
      "accuracy score correspond to random state  37 is 0.662962962962963\n",
      "accuracy score correspond to random state  38 is 0.6518518518518519\n",
      "accuracy score correspond to random state  39 is 0.6925925925925925\n",
      "accuracy score correspond to random state  40 is 0.6814814814814815\n",
      "accuracy score correspond to random state  41 is 0.6370370370370371\n",
      "accuracy score correspond to random state  42 is 0.7222222222222222\n",
      "accuracy score correspond to random state  43 is 0.6592592592592592\n",
      "accuracy score correspond to random state  44 is 0.6296296296296297\n",
      "accuracy score correspond to random state  45 is 0.6370370370370371\n",
      "accuracy score correspond to random state  46 is 0.6555555555555556\n",
      "accuracy score correspond to random state  47 is 0.7\n",
      "accuracy score correspond to random state  48 is 0.6666666666666666\n",
      "accuracy score correspond to random state  49 is 0.6814814814814815\n",
      "accuracy score correspond to random state  50 is 0.6925925925925925\n",
      "accuracy score correspond to random state  51 is 0.7\n",
      "accuracy score correspond to random state  52 is 0.6666666666666666\n",
      "accuracy score correspond to random state  53 is 0.6925925925925925\n",
      "accuracy score correspond to random state  54 is 0.7148148148148148\n",
      "accuracy score correspond to random state  55 is 0.6518518518518519\n",
      "accuracy score correspond to random state  56 is 0.662962962962963\n",
      "accuracy score correspond to random state  57 is 0.6666666666666666\n",
      "accuracy score correspond to random state  58 is 0.6777777777777778\n",
      "accuracy score correspond to random state  59 is 0.6851851851851852\n",
      "accuracy score correspond to random state  60 is 0.6481481481481481\n",
      "accuracy score correspond to random state  61 is 0.6851851851851852\n",
      "accuracy score correspond to random state  62 is 0.6481481481481481\n",
      "accuracy score correspond to random state  63 is 0.6481481481481481\n",
      "accuracy score correspond to random state  64 is 0.6555555555555556\n",
      "accuracy score correspond to random state  65 is 0.6962962962962963\n",
      "accuracy score correspond to random state  66 is 0.6259259259259259\n",
      "accuracy score correspond to random state  67 is 0.6962962962962963\n",
      "accuracy score correspond to random state  68 is 0.674074074074074\n",
      "accuracy score correspond to random state  69 is 0.6074074074074074\n",
      "accuracy score correspond to random state  70 is 0.662962962962963\n",
      "accuracy score correspond to random state  71 is 0.6925925925925925\n",
      "accuracy score correspond to random state  72 is 0.7\n",
      "accuracy score correspond to random state  73 is 0.725925925925926\n",
      "accuracy score correspond to random state  74 is 0.6814814814814815\n",
      "accuracy score correspond to random state  75 is 0.6925925925925925\n",
      "accuracy score correspond to random state  76 is 0.6703703703703704\n",
      "accuracy score correspond to random state  77 is 0.6703703703703704\n",
      "accuracy score correspond to random state  78 is 0.7037037037037037\n",
      "accuracy score correspond to random state  79 is 0.6407407407407407\n",
      "accuracy score correspond to random state  80 is 0.6851851851851852\n",
      "accuracy score correspond to random state  81 is 0.6444444444444445\n",
      "accuracy score correspond to random state  82 is 0.7296296296296296\n",
      "accuracy score correspond to random state  83 is 0.7037037037037037\n",
      "accuracy score correspond to random state  84 is 0.7407407407407407\n",
      "accuracy score correspond to random state  85 is 0.6370370370370371\n",
      "accuracy score correspond to random state  86 is 0.6962962962962963\n",
      "accuracy score correspond to random state  87 is 0.6777777777777778\n",
      "accuracy score correspond to random state  88 is 0.662962962962963\n",
      "accuracy score correspond to random state  89 is 0.7148148148148148\n",
      "accuracy score correspond to random state  90 is 0.7111111111111111\n",
      "accuracy score correspond to random state  91 is 0.674074074074074\n",
      "accuracy score correspond to random state  92 is 0.6518518518518519\n",
      "accuracy score correspond to random state  93 is 0.7\n",
      "accuracy score correspond to random state  94 is 0.6518518518518519\n",
      "accuracy score correspond to random state  95 is 0.7\n",
      "accuracy score correspond to random state  96 is 0.6518518518518519\n",
      "accuracy score correspond to random state  97 is 0.674074074074074\n",
      "accuracy score correspond to random state  98 is 0.674074074074074\n",
      "accuracy score correspond to random state  99 is 0.6851851851851852\n"
     ]
    }
   ],
   "source": [
    "#finding out the best random state\n",
    "\n",
    "model = [DecisionTreeClassifier()]\n",
    "maxaccuracy_score=0\n",
    "for i in range(0,100):\n",
    "    xc_train,xc_test,yc_train,yc_test=train_test_split(xc,yc,test_size=.3,random_state=i)\n",
    "    for i_c in model:\n",
    "        i_c.fit(xc_train,yc_train)\n",
    "        pre_c = i_c.predict(xc_test)\n",
    "        ac_score = accuracy_score(yc_test,pre_c)\n",
    "        print(\"accuracy score correspond to random state \" ,i ,\"is\", ac_score)\n",
    "        "
   ]
  },
  {
   "cell_type": "code",
   "execution_count": 77,
   "id": "39a88bd2",
   "metadata": {},
   "outputs": [
    {
     "name": "stdout",
     "output_type": "stream",
     "text": [
      "Training Accuracy Score is: 100.0\n",
      "Testing Accuracy Score is: 73.0\n"
     ]
    }
   ],
   "source": [
    "#selecting random state=11\n",
    "dtc=DecisionTreeClassifier()\n",
    "xc_train,xc_test,yc_train,yc_test=train_test_split(xc,yc,random_state=11,test_size=0.30)\n",
    "dtc.fit(xc_train,yc_train)\n",
    "pred_train=dtc.predict(xc_train)\n",
    "pred_test=dtc.predict(xc_test)\n",
    "print('Training Accuracy Score is:',round(accuracy_score(yc_train,pred_train)*100,1))\n",
    "print('Testing Accuracy Score is:',round(accuracy_score(yc_test,pred_test)*100,1))"
   ]
  },
  {
   "cell_type": "markdown",
   "id": "ad3538f2",
   "metadata": {},
   "source": [
    "# CROSS VALIDATION OF THE MODEL"
   ]
  },
  {
   "cell_type": "code",
   "execution_count": 78,
   "id": "d48cb410",
   "metadata": {},
   "outputs": [
    {
     "name": "stdout",
     "output_type": "stream",
     "text": [
      "At crossfold= 2 the cv score is 0.6621783526885141\n",
      "training score : 1.0\n",
      "testing score : 0.7296296296296296\n",
      "\n",
      "\n",
      "At crossfold= 3 the cv score is 0.6376811594202899\n",
      "training score : 1.0\n",
      "testing score : 0.7296296296296296\n",
      "\n",
      "\n",
      "At crossfold= 4 the cv score is 0.6744593253968254\n",
      "training score : 1.0\n",
      "testing score : 0.7296296296296296\n",
      "\n",
      "\n",
      "At crossfold= 5 the cv score is 0.669993792675357\n",
      "training score : 1.0\n",
      "testing score : 0.7296296296296296\n",
      "\n",
      "\n",
      "At crossfold= 6 the cv score is 0.6722595078299776\n",
      "training score : 1.0\n",
      "testing score : 0.7296296296296296\n",
      "\n",
      "\n",
      "At crossfold= 7 the cv score is 0.6789521040974529\n",
      "training score : 1.0\n",
      "testing score : 0.7296296296296296\n",
      "\n",
      "\n",
      "At crossfold= 8 the cv score is 0.6789763748419722\n",
      "training score : 1.0\n",
      "testing score : 0.7296296296296296\n",
      "\n",
      "\n",
      "At crossfold= 9 the cv score is 0.6656228956228956\n",
      "training score : 1.0\n",
      "testing score : 0.7296296296296296\n",
      "\n",
      "\n",
      "At crossfold= 10 the cv score is 0.6699875156054932\n",
      "training score : 1.0\n",
      "testing score : 0.7296296296296296\n",
      "\n",
      "\n",
      "At crossfold= 11 the cv score is 0.6711696914948947\n",
      "training score : 1.0\n",
      "testing score : 0.7296296296296296\n",
      "\n",
      "\n",
      "At crossfold= 12 the cv score is 0.6802402402402402\n",
      "training score : 1.0\n",
      "testing score : 0.7296296296296296\n",
      "\n",
      "\n",
      "At crossfold= 13 the cv score is 0.6666666666666667\n",
      "training score : 1.0\n",
      "testing score : 0.7296296296296296\n",
      "\n",
      "\n",
      "At crossfold= 14 the cv score is 0.6710851648351649\n",
      "training score : 1.0\n",
      "testing score : 0.7296296296296296\n",
      "\n",
      "\n",
      "At crossfold= 15 the cv score is 0.6900188323917137\n",
      "training score : 1.0\n",
      "testing score : 0.7296296296296296\n",
      "\n",
      "\n",
      "At crossfold= 16 the cv score is 0.6822916666666666\n",
      "training score : 1.0\n",
      "testing score : 0.7296296296296296\n",
      "\n",
      "\n",
      "At crossfold= 17 the cv score is 0.6656492785793563\n",
      "training score : 1.0\n",
      "testing score : 0.7296296296296296\n",
      "\n",
      "\n",
      "At crossfold= 18 the cv score is 0.6699773242630386\n",
      "training score : 1.0\n",
      "testing score : 0.7296296296296296\n",
      "\n",
      "\n",
      "At crossfold= 19 the cv score is 0.681410974244121\n",
      "training score : 1.0\n",
      "testing score : 0.7296296296296296\n",
      "\n",
      "\n",
      "At crossfold= 20 the cv score is 0.6809848484848484\n",
      "training score : 1.0\n",
      "testing score : 0.7296296296296296\n",
      "\n",
      "\n",
      "At crossfold= 21 the cv score is 0.6777935980593788\n",
      "training score : 1.0\n",
      "testing score : 0.7296296296296296\n",
      "\n",
      "\n",
      "At crossfold= 22 the cv score is 0.6713414634146342\n",
      "training score : 1.0\n",
      "testing score : 0.7296296296296296\n",
      "\n",
      "\n",
      "At crossfold= 23 the cv score is 0.6644370122630991\n",
      "training score : 1.0\n",
      "testing score : 0.7296296296296296\n",
      "\n",
      "\n",
      "At crossfold= 24 the cv score is 0.6890113798008534\n",
      "training score : 1.0\n",
      "testing score : 0.7296296296296296\n",
      "\n",
      "\n"
     ]
    }
   ],
   "source": [
    "from sklearn.model_selection import cross_val_score\n",
    "for k in range(2,25):\n",
    "    cv_score=cross_val_score(dtc,xc,yc,cv=k)\n",
    "    cv_mean=cv_score.mean()\n",
    "    print('At crossfold=',k,'the cv score is',cv_mean)\n",
    "    print('training score :',accuracy_score(yc_train,pred_train))\n",
    "    print('testing score :',accuracy_score(yc_test,pred_test))\n",
    "    print('\\n')"
   ]
  },
  {
   "cell_type": "code",
   "execution_count": 79,
   "id": "75b55559",
   "metadata": {},
   "outputs": [
    {
     "name": "stdout",
     "output_type": "stream",
     "text": [
      "DecisionTreeClassifier()\n",
      "testing score : 0.7185185185185186\n",
      "training score : 1.0\n",
      "\n",
      "KNeighborsClassifier()\n",
      "testing score : 0.7555555555555555\n",
      "training score : 0.7974481658692185\n",
      "\n",
      "GradientBoostingClassifier()\n",
      "testing score : 0.7185185185185186\n",
      "training score : 1.0\n",
      "\n",
      "RandomForestClassifier()\n",
      "testing score : 0.7444444444444445\n",
      "training score : 1.0\n",
      "\n",
      "AdaBoostClassifier()\n",
      "testing score : 0.4\n",
      "training score : 0.43859649122807015\n",
      "\n",
      "SVC()\n",
      "testing score : 0.6518518518518519\n",
      "training score : 0.7097288676236044\n",
      "\n"
     ]
    }
   ],
   "source": [
    "model=[DecisionTreeClassifier(),KNeighborsClassifier(),GradientBoostingClassifier(),RandomForestClassifier(),AdaBoostClassifier(),SVC()]\n",
    "for i in model:\n",
    "    i.fit(xc_train,yc_train)\n",
    "    i_pred=i.predict(xc_test)\n",
    "    train_pred=i.predict(xc_train)\n",
    "    print(i)\n",
    "    print('testing score :',accuracy_score(yc_test,i_pred))\n",
    "    print('training score :',accuracy_score(yc_train,train_pred))\n",
    "\n",
    "    print()\n"
   ]
  },
  {
   "cell_type": "markdown",
   "id": "15429de8",
   "metadata": {},
   "source": [
    "Observation: Random Forest and Kneighbors are the best performing models"
   ]
  },
  {
   "cell_type": "markdown",
   "id": "be1c8743",
   "metadata": {},
   "source": [
    "# HYPER PARAMETER TUNING USING GRID SEARCH CV"
   ]
  },
  {
   "cell_type": "code",
   "execution_count": 80,
   "id": "a65bbe41",
   "metadata": {},
   "outputs": [
    {
     "name": "stdout",
     "output_type": "stream",
     "text": [
      "{'max_depth': 10, 'max_features': 'log2', 'n_estimators': 300}\n"
     ]
    }
   ],
   "source": [
    "#tuning random forest model\n",
    "from sklearn.ensemble import RandomForestClassifier\n",
    "parameters={'n_estimators':[100,200,300,350],'max_features':['auto','sqrt','log2'],'max_depth':[5,10]}\n",
    "rfc=RandomForestClassifier()\n",
    "rfcg=GridSearchCV(rf,parameters)\n",
    "rfg .fit(xc_train,yc_train)\n",
    "print(rfg.best_params_)"
   ]
  },
  {
   "cell_type": "code",
   "execution_count": 81,
   "id": "1fabe0db",
   "metadata": {},
   "outputs": [
    {
     "name": "stdout",
     "output_type": "stream",
     "text": [
      "testing score : 0.7407407407407407\n",
      "training score : 0.9904306220095693\n",
      "the cv score is 0.7424444444444444\n"
     ]
    }
   ],
   "source": [
    "rfc=RandomForestClassifier(max_depth=10,max_features='sqrt',n_estimators=300)\n",
    "rfc.fit(xc_train,yc_train)\n",
    "rfc_pred=rfc.predict(xc_test)\n",
    "train_pred=rfc.predict(xc_train)\n",
    "print('testing score :',accuracy_score(yc_test,rfc_pred))\n",
    "print('training score :',accuracy_score(yc_train,train_pred))\n",
    "cv_score=cross_val_score(rfc,xc,yc,cv=25) #selecting cv=25\n",
    "cv_mean=cv_score.mean()\n",
    "print('the cv score is',cv_mean)"
   ]
  },
  {
   "cell_type": "code",
   "execution_count": 82,
   "id": "0e73e0b5",
   "metadata": {},
   "outputs": [
    {
     "name": "stdout",
     "output_type": "stream",
     "text": [
      "{'algorithm': 'auto', 'n_neighbors': 10, 'weights': 'distance'}\n"
     ]
    }
   ],
   "source": [
    "#kneighbors \n",
    "parameters={'n_neighbors':[2,3,5,10,15,20,25,30,35],'weights':['uniform','distance'],'algorithm':['auto','ball_tree','kd_tree','brute']}\n",
    "knc=KNeighborsClassifier()\n",
    "kncg=GridSearchCV(knc,parameters)\n",
    "kncg.fit(xc_train,yc_train)\n",
    "print(kncg.best_params_)"
   ]
  },
  {
   "cell_type": "code",
   "execution_count": 83,
   "id": "2fd7aa93",
   "metadata": {},
   "outputs": [
    {
     "name": "stdout",
     "output_type": "stream",
     "text": [
      "testing score : 0.7666666666666667\n",
      "training score : 1.0\n",
      "the cv score is 0.7480634920634921\n"
     ]
    }
   ],
   "source": [
    "knc=KNeighborsClassifier(algorithm='auto',weights='distance',n_neighbors=10)\n",
    "knc.fit(xc_train,yc_train)\n",
    "knc_pred=knc.predict(xc_test)\n",
    "train_pred=knc.predict(xc_train)\n",
    "print('testing score :',accuracy_score(yc_test,knc_pred))\n",
    "print('training score :',accuracy_score(yc_train,train_pred))\n",
    "cv_score=cross_val_score(knc,xc,yc,cv=25) #selecting cv=25\n",
    "cv_mean=cv_score.mean()\n",
    "print('the cv score is',cv_mean)"
   ]
  },
  {
   "cell_type": "markdown",
   "id": "c6a14cd9",
   "metadata": {},
   "source": [
    "# CONCLUSION:"
   ]
  },
  {
   "cell_type": "markdown",
   "id": "2e06c594",
   "metadata": {},
   "source": [
    "Selecting Kneighbors as our final model as the model is performing extremely well."
   ]
  },
  {
   "cell_type": "markdown",
   "id": "1a57452c",
   "metadata": {},
   "source": [
    "# ROC AUC SCORE"
   ]
  },
  {
   "cell_type": "code",
   "execution_count": 84,
   "id": "c6226b26",
   "metadata": {},
   "outputs": [],
   "source": [
    "knc_proba=knc.predict_proba(xc_test)"
   ]
  },
  {
   "cell_type": "code",
   "execution_count": 85,
   "id": "619103f7",
   "metadata": {},
   "outputs": [
    {
     "data": {
      "text/plain": [
       "0.866925439777075"
      ]
     },
     "execution_count": 85,
     "metadata": {},
     "output_type": "execute_result"
    }
   ],
   "source": [
    "from sklearn.metrics import roc_auc_score\n",
    "roc_auc_score(yc_test,knc_proba,multi_class='ovo')"
   ]
  },
  {
   "cell_type": "code",
   "execution_count": 89,
   "id": "396572a8",
   "metadata": {},
   "outputs": [
    {
     "data": {
      "text/html": [
       "<div>\n",
       "<style scoped>\n",
       "    .dataframe tbody tr th:only-of-type {\n",
       "        vertical-align: middle;\n",
       "    }\n",
       "\n",
       "    .dataframe tbody tr th {\n",
       "        vertical-align: top;\n",
       "    }\n",
       "\n",
       "    .dataframe thead th {\n",
       "        text-align: right;\n",
       "    }\n",
       "</style>\n",
       "<table border=\"1\" class=\"dataframe\">\n",
       "  <thead>\n",
       "    <tr style=\"text-align: right;\">\n",
       "      <th></th>\n",
       "      <th>Original</th>\n",
       "      <th>Predicted</th>\n",
       "    </tr>\n",
       "  </thead>\n",
       "  <tbody>\n",
       "    <tr>\n",
       "      <th>0</th>\n",
       "      <td>6</td>\n",
       "      <td>6</td>\n",
       "    </tr>\n",
       "    <tr>\n",
       "      <th>1</th>\n",
       "      <td>1</td>\n",
       "      <td>1</td>\n",
       "    </tr>\n",
       "    <tr>\n",
       "      <th>2</th>\n",
       "      <td>1</td>\n",
       "      <td>1</td>\n",
       "    </tr>\n",
       "    <tr>\n",
       "      <th>3</th>\n",
       "      <td>3</td>\n",
       "      <td>3</td>\n",
       "    </tr>\n",
       "    <tr>\n",
       "      <th>4</th>\n",
       "      <td>7</td>\n",
       "      <td>7</td>\n",
       "    </tr>\n",
       "    <tr>\n",
       "      <th>5</th>\n",
       "      <td>3</td>\n",
       "      <td>3</td>\n",
       "    </tr>\n",
       "    <tr>\n",
       "      <th>6</th>\n",
       "      <td>1</td>\n",
       "      <td>1</td>\n",
       "    </tr>\n",
       "    <tr>\n",
       "      <th>7</th>\n",
       "      <td>1</td>\n",
       "      <td>1</td>\n",
       "    </tr>\n",
       "    <tr>\n",
       "      <th>8</th>\n",
       "      <td>7</td>\n",
       "      <td>7</td>\n",
       "    </tr>\n",
       "    <tr>\n",
       "      <th>9</th>\n",
       "      <td>2</td>\n",
       "      <td>1</td>\n",
       "    </tr>\n",
       "  </tbody>\n",
       "</table>\n",
       "</div>"
      ],
      "text/plain": [
       "   Original  Predicted\n",
       "0         6          6\n",
       "1         1          1\n",
       "2         1          1\n",
       "3         3          3\n",
       "4         7          7\n",
       "5         3          3\n",
       "6         1          1\n",
       "7         1          1\n",
       "8         7          7\n",
       "9         2          1"
      ]
     },
     "execution_count": 89,
     "metadata": {},
     "output_type": "execute_result"
    }
   ],
   "source": [
    "original=np.array(yc_test)\n",
    "predicted=np.array(knc_pred)\n",
    "df_com=pd.DataFrame({'Original':original,'Predicted':predicted},index=range(len(original)))\n",
    "df_com.head(10)"
   ]
  },
  {
   "cell_type": "markdown",
   "id": "8278952d",
   "metadata": {},
   "source": [
    "# SAVING BEST MODEL"
   ]
  },
  {
   "cell_type": "code",
   "execution_count": 87,
   "id": "8ad9b088",
   "metadata": {},
   "outputs": [
    {
     "data": {
      "text/plain": [
       "['rffile.obj']"
      ]
     },
     "execution_count": 87,
     "metadata": {},
     "output_type": "execute_result"
    }
   ],
   "source": [
    "#for capacity_mw\n",
    "import joblib\n",
    "joblib.dump(rf,'rffile.obj')"
   ]
  },
  {
   "cell_type": "code",
   "execution_count": 88,
   "id": "93dc2f45",
   "metadata": {},
   "outputs": [
    {
     "data": {
      "text/plain": [
       "['kncfile.obj']"
      ]
     },
     "execution_count": 88,
     "metadata": {},
     "output_type": "execute_result"
    }
   ],
   "source": [
    "#for primary fuel\n",
    "joblib.dump(knc,'kncfile.obj')"
   ]
  }
 ],
 "metadata": {
  "kernelspec": {
   "display_name": "Python 3",
   "language": "python",
   "name": "python3"
  },
  "language_info": {
   "codemirror_mode": {
    "name": "ipython",
    "version": 3
   },
   "file_extension": ".py",
   "mimetype": "text/x-python",
   "name": "python",
   "nbconvert_exporter": "python",
   "pygments_lexer": "ipython3",
   "version": "3.8.8"
  }
 },
 "nbformat": 4,
 "nbformat_minor": 5
}
